{
 "cells": [
  {
   "cell_type": "markdown",
   "metadata": {},
   "source": [
    "# Patel_Nirav_Term_Project:  \n",
    "## Student ID: nxp164730\n",
    "## Date: 12/06/2018\n",
    " "
   ]
  },
  {
   "cell_type": "markdown",
   "metadata": {},
   "source": [
    "###                                Google Store Revenue Prediction"
   ]
  },
  {
   "cell_type": "code",
   "execution_count": 2,
   "metadata": {},
   "outputs": [
    {
     "data": {
      "text/html": [
       "<script type=\"text/javascript\">window.PlotlyConfig = {MathJaxConfig: 'local'};</script><script type=\"text/javascript\">if (window.MathJax) {MathJax.Hub.Config({SVG: {font: \"STIX-Web\"}});}</script><script>requirejs.config({paths: { 'plotly': ['https://cdn.plot.ly/plotly-latest.min']},});if(!window._Plotly) {require(['plotly'],function(plotly) {window._Plotly=plotly;});}</script>"
      ],
      "text/vnd.plotly.v1+html": [
       "<script type=\"text/javascript\">window.PlotlyConfig = {MathJaxConfig: 'local'};</script><script type=\"text/javascript\">if (window.MathJax) {MathJax.Hub.Config({SVG: {font: \"STIX-Web\"}});}</script><script>requirejs.config({paths: { 'plotly': ['https://cdn.plot.ly/plotly-latest.min']},});if(!window._Plotly) {require(['plotly'],function(plotly) {window._Plotly=plotly;});}</script>"
      ]
     },
     "metadata": {},
     "output_type": "display_data"
    }
   ],
   "source": [
    "# Necessary librarys\n",
    "import pandas as pd\n",
    "import numpy as np\n",
    "import matplotlib.pyplot as plt\n",
    "import seaborn as sns \n",
    "from scipy.stats import kurtosis, skew \n",
    "import json \n",
    "from pandas.io.json import json_normalize \n",
    "from sklearn.model_selection import train_test_split\n",
    "import ast\n",
    "from plotly.offline import init_notebook_mode, iplot\n",
    "import plotly.graph_objs as go\n",
    "from plotly import tools\n",
    "init_notebook_mode(connected=True)\n",
    "import operator\n",
    "from sklearn.linear_model import LinearRegression\n",
    "from sklearn.feature_extraction import DictVectorizer\n",
    "import os \n",
    "import random "
   ]
  },
  {
   "cell_type": "markdown",
   "metadata": {},
   "source": [
    "### Importing Data"
   ]
  },
  {
   "cell_type": "code",
   "execution_count": 50,
   "metadata": {},
   "outputs": [],
   "source": [
    "masterdata = pd.read_csv('data.csv')"
   ]
  },
  {
   "cell_type": "code",
   "execution_count": 51,
   "metadata": {
    "scrolled": false
   },
   "outputs": [
    {
     "data": {
      "text/html": [
       "<div>\n",
       "<style scoped>\n",
       "    .dataframe tbody tr th:only-of-type {\n",
       "        vertical-align: middle;\n",
       "    }\n",
       "\n",
       "    .dataframe tbody tr th {\n",
       "        vertical-align: top;\n",
       "    }\n",
       "\n",
       "    .dataframe thead th {\n",
       "        text-align: right;\n",
       "    }\n",
       "</style>\n",
       "<table border=\"1\" class=\"dataframe\">\n",
       "  <thead>\n",
       "    <tr style=\"text-align: right;\">\n",
       "      <th></th>\n",
       "      <th>channelGrouping</th>\n",
       "      <th>customDimensions</th>\n",
       "      <th>date</th>\n",
       "      <th>device</th>\n",
       "      <th>fullVisitorId</th>\n",
       "      <th>geoNetwork</th>\n",
       "      <th>hits</th>\n",
       "      <th>socialEngagementType</th>\n",
       "      <th>trafficSource</th>\n",
       "      <th>visitId</th>\n",
       "      <th>visitNumber</th>\n",
       "      <th>visitStartTime</th>\n",
       "      <th>totals_bounces</th>\n",
       "      <th>totals_hits</th>\n",
       "      <th>totals_newVisits</th>\n",
       "      <th>totals_pageviews</th>\n",
       "      <th>totals_sessionQualityDim</th>\n",
       "      <th>totals_timeOnSite</th>\n",
       "      <th>totals_totalTransactionRevenue</th>\n",
       "      <th>totals_transactionRevenue</th>\n",
       "      <th>totals_transactions</th>\n",
       "      <th>totals_visits</th>\n",
       "    </tr>\n",
       "  </thead>\n",
       "  <tbody>\n",
       "    <tr>\n",
       "      <th>0</th>\n",
       "      <td>Organic Search</td>\n",
       "      <td>[{'index': '4', 'value': 'EMEA'}]</td>\n",
       "      <td>20171016</td>\n",
       "      <td>{'mobileDeviceInfo': 'not available in demo da...</td>\n",
       "      <td>3162355547410993243</td>\n",
       "      <td>{'cityId': 'not available in demo dataset', 'm...</td>\n",
       "      <td>[{'hitNumber': '1', 'time': '0', 'hour': '17',...</td>\n",
       "      <td>Not Socially Engaged</td>\n",
       "      <td>{'campaign': '(not set)', 'source': 'google', ...</td>\n",
       "      <td>1508198450</td>\n",
       "      <td>1</td>\n",
       "      <td>1508198450</td>\n",
       "      <td>1.0</td>\n",
       "      <td>1</td>\n",
       "      <td>1.0</td>\n",
       "      <td>1.0</td>\n",
       "      <td>1.0</td>\n",
       "      <td>NaN</td>\n",
       "      <td>NaN</td>\n",
       "      <td>NaN</td>\n",
       "      <td>NaN</td>\n",
       "      <td>1</td>\n",
       "    </tr>\n",
       "    <tr>\n",
       "      <th>1</th>\n",
       "      <td>Referral</td>\n",
       "      <td>[{'index': '4', 'value': 'North America'}]</td>\n",
       "      <td>20171016</td>\n",
       "      <td>{'mobileDeviceInfo': 'not available in demo da...</td>\n",
       "      <td>8934116514970143966</td>\n",
       "      <td>{'cityId': 'not available in demo dataset', 'm...</td>\n",
       "      <td>[{'hitNumber': '1', 'time': '0', 'hour': '10',...</td>\n",
       "      <td>Not Socially Engaged</td>\n",
       "      <td>{'referralPath': '/a/google.com/transportation...</td>\n",
       "      <td>1508176307</td>\n",
       "      <td>6</td>\n",
       "      <td>1508176307</td>\n",
       "      <td>NaN</td>\n",
       "      <td>2</td>\n",
       "      <td>NaN</td>\n",
       "      <td>2.0</td>\n",
       "      <td>2.0</td>\n",
       "      <td>28.0</td>\n",
       "      <td>NaN</td>\n",
       "      <td>NaN</td>\n",
       "      <td>NaN</td>\n",
       "      <td>1</td>\n",
       "    </tr>\n",
       "    <tr>\n",
       "      <th>2</th>\n",
       "      <td>Direct</td>\n",
       "      <td>[{'index': '4', 'value': 'North America'}]</td>\n",
       "      <td>20171016</td>\n",
       "      <td>{'mobileDeviceInfo': 'not available in demo da...</td>\n",
       "      <td>7992466427990357681</td>\n",
       "      <td>{'cityId': 'not available in demo dataset', 'm...</td>\n",
       "      <td>[{'hitNumber': '1', 'time': '0', 'hour': '17',...</td>\n",
       "      <td>Not Socially Engaged</td>\n",
       "      <td>{'isTrueDirect': True, 'campaign': '(not set)'...</td>\n",
       "      <td>1508201613</td>\n",
       "      <td>1</td>\n",
       "      <td>1508201613</td>\n",
       "      <td>NaN</td>\n",
       "      <td>2</td>\n",
       "      <td>1.0</td>\n",
       "      <td>2.0</td>\n",
       "      <td>1.0</td>\n",
       "      <td>38.0</td>\n",
       "      <td>NaN</td>\n",
       "      <td>NaN</td>\n",
       "      <td>NaN</td>\n",
       "      <td>1</td>\n",
       "    </tr>\n",
       "    <tr>\n",
       "      <th>3</th>\n",
       "      <td>Organic Search</td>\n",
       "      <td>[{'index': '4', 'value': 'EMEA'}]</td>\n",
       "      <td>20171016</td>\n",
       "      <td>{'mobileDeviceInfo': 'not available in demo da...</td>\n",
       "      <td>9075655783635761930</td>\n",
       "      <td>{'cityId': 'not available in demo dataset', 'm...</td>\n",
       "      <td>[{'hitNumber': '1', 'time': '0', 'hour': '9', ...</td>\n",
       "      <td>Not Socially Engaged</td>\n",
       "      <td>{'campaign': '(not set)', 'source': 'google', ...</td>\n",
       "      <td>1508169851</td>\n",
       "      <td>1</td>\n",
       "      <td>1508169851</td>\n",
       "      <td>NaN</td>\n",
       "      <td>2</td>\n",
       "      <td>1.0</td>\n",
       "      <td>2.0</td>\n",
       "      <td>1.0</td>\n",
       "      <td>1.0</td>\n",
       "      <td>NaN</td>\n",
       "      <td>NaN</td>\n",
       "      <td>NaN</td>\n",
       "      <td>1</td>\n",
       "    </tr>\n",
       "    <tr>\n",
       "      <th>4</th>\n",
       "      <td>Organic Search</td>\n",
       "      <td>[{'index': '4', 'value': 'Central America'}]</td>\n",
       "      <td>20171016</td>\n",
       "      <td>{'mobileDeviceInfo': 'not available in demo da...</td>\n",
       "      <td>6960673291025684308</td>\n",
       "      <td>{'cityId': 'not available in demo dataset', 'm...</td>\n",
       "      <td>[{'hitNumber': '1', 'time': '0', 'hour': '14',...</td>\n",
       "      <td>Not Socially Engaged</td>\n",
       "      <td>{'campaign': '(not set)', 'source': 'google', ...</td>\n",
       "      <td>1508190552</td>\n",
       "      <td>1</td>\n",
       "      <td>1508190552</td>\n",
       "      <td>NaN</td>\n",
       "      <td>2</td>\n",
       "      <td>1.0</td>\n",
       "      <td>2.0</td>\n",
       "      <td>1.0</td>\n",
       "      <td>52.0</td>\n",
       "      <td>NaN</td>\n",
       "      <td>NaN</td>\n",
       "      <td>NaN</td>\n",
       "      <td>1</td>\n",
       "    </tr>\n",
       "  </tbody>\n",
       "</table>\n",
       "</div>"
      ],
      "text/plain": [
       "  channelGrouping                              customDimensions      date  \\\n",
       "0  Organic Search             [{'index': '4', 'value': 'EMEA'}]  20171016   \n",
       "1        Referral    [{'index': '4', 'value': 'North America'}]  20171016   \n",
       "2          Direct    [{'index': '4', 'value': 'North America'}]  20171016   \n",
       "3  Organic Search             [{'index': '4', 'value': 'EMEA'}]  20171016   \n",
       "4  Organic Search  [{'index': '4', 'value': 'Central America'}]  20171016   \n",
       "\n",
       "                                              device        fullVisitorId  \\\n",
       "0  {'mobileDeviceInfo': 'not available in demo da...  3162355547410993243   \n",
       "1  {'mobileDeviceInfo': 'not available in demo da...  8934116514970143966   \n",
       "2  {'mobileDeviceInfo': 'not available in demo da...  7992466427990357681   \n",
       "3  {'mobileDeviceInfo': 'not available in demo da...  9075655783635761930   \n",
       "4  {'mobileDeviceInfo': 'not available in demo da...  6960673291025684308   \n",
       "\n",
       "                                          geoNetwork  \\\n",
       "0  {'cityId': 'not available in demo dataset', 'm...   \n",
       "1  {'cityId': 'not available in demo dataset', 'm...   \n",
       "2  {'cityId': 'not available in demo dataset', 'm...   \n",
       "3  {'cityId': 'not available in demo dataset', 'm...   \n",
       "4  {'cityId': 'not available in demo dataset', 'm...   \n",
       "\n",
       "                                                hits  socialEngagementType  \\\n",
       "0  [{'hitNumber': '1', 'time': '0', 'hour': '17',...  Not Socially Engaged   \n",
       "1  [{'hitNumber': '1', 'time': '0', 'hour': '10',...  Not Socially Engaged   \n",
       "2  [{'hitNumber': '1', 'time': '0', 'hour': '17',...  Not Socially Engaged   \n",
       "3  [{'hitNumber': '1', 'time': '0', 'hour': '9', ...  Not Socially Engaged   \n",
       "4  [{'hitNumber': '1', 'time': '0', 'hour': '14',...  Not Socially Engaged   \n",
       "\n",
       "                                       trafficSource     visitId  visitNumber  \\\n",
       "0  {'campaign': '(not set)', 'source': 'google', ...  1508198450            1   \n",
       "1  {'referralPath': '/a/google.com/transportation...  1508176307            6   \n",
       "2  {'isTrueDirect': True, 'campaign': '(not set)'...  1508201613            1   \n",
       "3  {'campaign': '(not set)', 'source': 'google', ...  1508169851            1   \n",
       "4  {'campaign': '(not set)', 'source': 'google', ...  1508190552            1   \n",
       "\n",
       "   visitStartTime  totals_bounces  totals_hits  totals_newVisits  \\\n",
       "0      1508198450             1.0            1               1.0   \n",
       "1      1508176307             NaN            2               NaN   \n",
       "2      1508201613             NaN            2               1.0   \n",
       "3      1508169851             NaN            2               1.0   \n",
       "4      1508190552             NaN            2               1.0   \n",
       "\n",
       "   totals_pageviews  totals_sessionQualityDim  totals_timeOnSite  \\\n",
       "0               1.0                       1.0                NaN   \n",
       "1               2.0                       2.0               28.0   \n",
       "2               2.0                       1.0               38.0   \n",
       "3               2.0                       1.0                1.0   \n",
       "4               2.0                       1.0               52.0   \n",
       "\n",
       "   totals_totalTransactionRevenue  totals_transactionRevenue  \\\n",
       "0                             NaN                        NaN   \n",
       "1                             NaN                        NaN   \n",
       "2                             NaN                        NaN   \n",
       "3                             NaN                        NaN   \n",
       "4                             NaN                        NaN   \n",
       "\n",
       "   totals_transactions  totals_visits  \n",
       "0                  NaN              1  \n",
       "1                  NaN              1  \n",
       "2                  NaN              1  \n",
       "3                  NaN              1  \n",
       "4                  NaN              1  "
      ]
     },
     "execution_count": 51,
     "metadata": {},
     "output_type": "execute_result"
    }
   ],
   "source": [
    "pd.set_option('display.max_columns', 500)\n",
    "masterdata.head()"
   ]
  },
  {
   "cell_type": "markdown",
   "metadata": {},
   "source": [
    "### Breaking Nested Columns to individual columns-1\n",
    "By looking at the data, it seems that there are several layers of deeply nested data(columns). Hence the first step would be to get the data from nested format."
   ]
  },
  {
   "cell_type": "code",
   "execution_count": 52,
   "metadata": {},
   "outputs": [],
   "source": [
    "# for customDimensions and hits columns\n",
    "def parse_special_col(raw_str):\n",
    "    lst = ast.literal_eval(raw_str)\n",
    "    if isinstance(lst, list) and lst:\n",
    "        return pd.Series(lst[0])\n",
    "    else:\n",
    "        return pd.Series({})"
   ]
  },
  {
   "cell_type": "code",
   "execution_count": 53,
   "metadata": {},
   "outputs": [],
   "source": [
    "# for customDimensions\n",
    "customDimensions_df = masterdata.customDimensions.apply(parse_special_col)\n",
    "customDimensions_df.columns = [f'customDimensions_{x}' for x in customDimensions_df.columns]\n",
    "masterdata = pd.concat([masterdata, customDimensions_df], axis=1)\n",
    "masterdata.drop('customDimensions', axis=1, inplace=True)"
   ]
  },
  {
   "cell_type": "code",
   "execution_count": 54,
   "metadata": {},
   "outputs": [],
   "source": [
    "# for hits\n",
    "hits_df = masterdata.hits.apply(parse_special_col)\n",
    "hits_df.columns = [f'hits_{x}' for x in hits_df.columns]\n",
    "masterdata = pd.concat([masterdata, hits_df], axis=1)\n",
    "masterdata.drop('hits', axis=1, inplace=True) "
   ]
  },
  {
   "cell_type": "markdown",
   "metadata": {},
   "source": [
    "### Droping empty hits columns\n",
    "This step is to clean the data by dropping the empty hits column."
   ]
  },
  {
   "cell_type": "code",
   "execution_count": 55,
   "metadata": {},
   "outputs": [],
   "source": [
    "#hits_experiment, hits_customVariables, hits_customMetrics, hits_publisher_infos, hits_customDimensions are empty:\n",
    "masterdata.drop(['hits_experiment', 'hits_customVariables', 'hits_customMetrics', 'hits_publisher_infos', 'hits_customDimensions'], axis=1, inplace=True)"
   ]
  },
  {
   "cell_type": "markdown",
   "metadata": {},
   "source": [
    "### Breaking Nested Columns to individual columns-2\n",
    "At this step, we are converting the data into individual columns(flattening the data)."
   ]
  },
  {
   "cell_type": "code",
   "execution_count": 8,
   "metadata": {},
   "outputs": [],
   "source": [
    "#hits_product, hits_promotion are python list\n",
    "def parse_list(x):\n",
    "    if isinstance(x, list) and x:\n",
    "        return pd.Series(x[0])\n",
    "    else:\n",
    "        return pd.Series({})\n",
    "    \n",
    "for col in ['hits_product', 'hits_promotion']:\n",
    "    parsed_df = hits_df[col].apply(parse_list)\n",
    "    parsed_df.columns = [f'{col}_{x}' for x in parsed_df.columns]\n",
    "    masterdata = pd.concat([masterdata, parsed_df], axis=1)\n",
    "    masterdata.drop(col, axis=1, inplace=True)"
   ]
  },
  {
   "cell_type": "code",
   "execution_count": 9,
   "metadata": {},
   "outputs": [
    {
     "name": "stderr",
     "output_type": "stream",
     "text": [
      "C:\\Anaconda3\\lib\\site-packages\\pandas\\core\\indexes\\api.py:57: RuntimeWarning:\n",
      "\n",
      "'<' not supported between instances of 'int' and 'str', sort order is undefined for incomparable objects\n",
      "\n",
      "C:\\Anaconda3\\lib\\site-packages\\pandas\\core\\indexes\\api.py:87: RuntimeWarning:\n",
      "\n",
      "'<' not supported between instances of 'int' and 'str', sort order is undefined for incomparable objects\n",
      "\n",
      "C:\\Anaconda3\\lib\\site-packages\\pandas\\core\\indexes\\api.py:57: RuntimeWarning:\n",
      "\n",
      "'<' not supported between instances of 'str' and 'int', sort order is undefined for incomparable objects\n",
      "\n",
      "C:\\Anaconda3\\lib\\site-packages\\pandas\\core\\indexes\\api.py:87: RuntimeWarning:\n",
      "\n",
      "'<' not supported between instances of 'str' and 'int', sort order is undefined for incomparable objects\n",
      "\n"
     ]
    }
   ],
   "source": [
    "dict_cols = ['hits_page', 'hits_transaction', 'hits_item', 'hits_appInfo', \n",
    "        'hits_exceptionInfo', 'hits_eCommerceAction', 'hits_social', 'hits_contentGroup', 'hits_promotionActionInfo']\n",
    "for col in dict_cols:\n",
    "    parsed_df = hits_df[col].apply(pd.Series)\n",
    "    parsed_df.columns = [f'{col}_{x}' for x in parsed_df.columns]\n",
    "    masterdata = pd.concat([masterdata, parsed_df], axis=1)\n",
    "    masterdata.drop(col, axis=1, inplace=True)"
   ]
  },
  {
   "cell_type": "code",
   "execution_count": 10,
   "metadata": {},
   "outputs": [
    {
     "name": "stderr",
     "output_type": "stream",
     "text": [
      "C:\\Anaconda3\\lib\\site-packages\\IPython\\core\\interactiveshell.py:2910: SettingWithCopyWarning:\n",
      "\n",
      "\n",
      "A value is trying to be set on a copy of a slice from a DataFrame\n",
      "\n",
      "See the caveats in the documentation: http://pandas.pydata.org/pandas-docs/stable/indexing.html#indexing-view-versus-copy\n",
      "\n"
     ]
    }
   ],
   "source": [
    "# For Devices\n",
    "\n",
    "d = masterdata[['device']]\n",
    "\n",
    "import ast\n",
    "for i in range(len(d.device)): \n",
    "    d.device[i] = ast.literal_eval(d.device[i])\n",
    "    \n",
    "    \n",
    "def unpack(df, column, fillna=None):\n",
    "    ret = None\n",
    "    if fillna is None:\n",
    "        tmp = pd.DataFrame((d for idx, d in df[column].iteritems()))\n",
    "        ret = pd.concat([df.drop(column,axis=1), tmp], axis=1)\n",
    "    else:\n",
    "        tmp = pd.DataFrame((d for idx, d in \n",
    "        df[column].iteritems())).fillna(fillna)\n",
    "        ret = pd.concat([df.drop(column,axis=1), tmp], axis=1)\n",
    "    return ret"
   ]
  },
  {
   "cell_type": "code",
   "execution_count": 12,
   "metadata": {},
   "outputs": [],
   "source": [
    "device_flat = unpack(d, 'device')"
   ]
  },
  {
   "cell_type": "code",
   "execution_count": 13,
   "metadata": {},
   "outputs": [
    {
     "name": "stderr",
     "output_type": "stream",
     "text": [
      "C:\\Anaconda3\\lib\\site-packages\\IPython\\core\\interactiveshell.py:2910: SettingWithCopyWarning:\n",
      "\n",
      "\n",
      "A value is trying to be set on a copy of a slice from a DataFrame\n",
      "\n",
      "See the caveats in the documentation: http://pandas.pydata.org/pandas-docs/stable/indexing.html#indexing-view-versus-copy\n",
      "\n"
     ]
    }
   ],
   "source": [
    "#for Geo\n",
    "g = masterdata[['geoNetwork']]\n",
    "for i in range(len(g.geoNetwork)): \n",
    "    g.geoNetwork[i] = ast.literal_eval(g.geoNetwork[i])\n",
    "    \n",
    "def unpack(df, column, fillna=None):\n",
    "    ret = None\n",
    "    if fillna is None:\n",
    "        tmp = pd.DataFrame((g for idx, g in df[column].iteritems()))\n",
    "        ret = pd.concat([df.drop(column,axis=1), tmp], axis=1)\n",
    "    else:\n",
    "        tmp = pd.DataFrame((g for idx, d in \n",
    "        df[column].iteritems())).fillna(fillna)\n",
    "        ret = pd.concat([df.drop(column,axis=1), tmp], axis=1)\n",
    "    return ret"
   ]
  },
  {
   "cell_type": "code",
   "execution_count": 14,
   "metadata": {
    "scrolled": true
   },
   "outputs": [],
   "source": [
    "geo_flat = unpack(g, 'geoNetwork')"
   ]
  },
  {
   "cell_type": "code",
   "execution_count": 15,
   "metadata": {},
   "outputs": [
    {
     "name": "stderr",
     "output_type": "stream",
     "text": [
      "C:\\Anaconda3\\lib\\site-packages\\IPython\\core\\interactiveshell.py:2910: SettingWithCopyWarning:\n",
      "\n",
      "\n",
      "A value is trying to be set on a copy of a slice from a DataFrame\n",
      "\n",
      "See the caveats in the documentation: http://pandas.pydata.org/pandas-docs/stable/indexing.html#indexing-view-versus-copy\n",
      "\n"
     ]
    }
   ],
   "source": [
    "#for Traffic Source\n",
    "t = masterdata[['trafficSource']]\n",
    "for i in range(len(t.trafficSource)): \n",
    "    t.trafficSource[i] = ast.literal_eval(t.trafficSource[i])\n",
    "    \n",
    "def unpackt(df, column, fillna=None):\n",
    "    ret = None\n",
    "    if fillna is None:\n",
    "        tmp = pd.DataFrame((t for idx, t in df[column].iteritems()))\n",
    "        ret = pd.concat([df.drop(column,axis=1), tmp], axis=1)\n",
    "    else:\n",
    "        tmp = pd.DataFrame((t for idx, d in \n",
    "        df[column].iteritems())).fillna(fillna)\n",
    "        ret = pd.concat([df.drop(column,axis=1), tmp], axis=1)\n",
    "    return ret"
   ]
  },
  {
   "cell_type": "code",
   "execution_count": 16,
   "metadata": {},
   "outputs": [],
   "source": [
    "traffic_flat = unpack(t, 'trafficSource')"
   ]
  },
  {
   "cell_type": "code",
   "execution_count": 18,
   "metadata": {},
   "outputs": [],
   "source": [
    "# dropping original columns of geo, device, traffic\n",
    "masterdata=masterdata.drop(['device', 'geoNetwork', 'trafficSource','totals_totalTransactionRevenue'], axis=1)\n",
    "litedata = pd.concat([masterdata, geo_flat, device_flat,traffic_flat], axis=1)"
   ]
  },
  {
   "cell_type": "markdown",
   "metadata": {},
   "source": [
    "## Overview of the flattened data"
   ]
  },
  {
   "cell_type": "code",
   "execution_count": 20,
   "metadata": {},
   "outputs": [
    {
     "data": {
      "text/html": [
       "<div>\n",
       "<style scoped>\n",
       "    .dataframe tbody tr th:only-of-type {\n",
       "        vertical-align: middle;\n",
       "    }\n",
       "\n",
       "    .dataframe tbody tr th {\n",
       "        vertical-align: top;\n",
       "    }\n",
       "\n",
       "    .dataframe thead th {\n",
       "        text-align: right;\n",
       "    }\n",
       "</style>\n",
       "<table border=\"1\" class=\"dataframe\">\n",
       "  <thead>\n",
       "    <tr style=\"text-align: right;\">\n",
       "      <th></th>\n",
       "      <th>channelGrouping</th>\n",
       "      <th>date</th>\n",
       "      <th>fullVisitorId</th>\n",
       "      <th>socialEngagementType</th>\n",
       "      <th>visitId</th>\n",
       "      <th>visitNumber</th>\n",
       "      <th>visitStartTime</th>\n",
       "      <th>totals_bounces</th>\n",
       "      <th>totals_hits</th>\n",
       "      <th>totals_newVisits</th>\n",
       "      <th>totals_pageviews</th>\n",
       "      <th>totals_sessionQualityDim</th>\n",
       "      <th>totals_timeOnSite</th>\n",
       "      <th>totals_transactionRevenue</th>\n",
       "      <th>totals_transactions</th>\n",
       "      <th>totals_visits</th>\n",
       "      <th>customDimensions_index</th>\n",
       "      <th>customDimensions_value</th>\n",
       "      <th>hits_dataSource</th>\n",
       "      <th>hits_eventInfo</th>\n",
       "      <th>hits_hitNumber</th>\n",
       "      <th>hits_hour</th>\n",
       "      <th>hits_isEntrance</th>\n",
       "      <th>hits_isExit</th>\n",
       "      <th>hits_isInteraction</th>\n",
       "      <th>hits_minute</th>\n",
       "      <th>hits_referer</th>\n",
       "      <th>hits_time</th>\n",
       "      <th>hits_type</th>\n",
       "      <th>hits_product_customDimensions</th>\n",
       "      <th>hits_product_customMetrics</th>\n",
       "      <th>hits_product_isClick</th>\n",
       "      <th>hits_product_isImpression</th>\n",
       "      <th>hits_product_localProductPrice</th>\n",
       "      <th>hits_product_productBrand</th>\n",
       "      <th>hits_product_productListName</th>\n",
       "      <th>hits_product_productListPosition</th>\n",
       "      <th>hits_product_productPrice</th>\n",
       "      <th>hits_product_productQuantity</th>\n",
       "      <th>hits_product_productSKU</th>\n",
       "      <th>hits_product_productVariant</th>\n",
       "      <th>hits_product_v2ProductCategory</th>\n",
       "      <th>hits_product_v2ProductName</th>\n",
       "      <th>hits_promotion_promoCreative</th>\n",
       "      <th>hits_promotion_promoId</th>\n",
       "      <th>hits_promotion_promoName</th>\n",
       "      <th>hits_promotion_promoPosition</th>\n",
       "      <th>hits_page_hostname</th>\n",
       "      <th>hits_page_pagePath</th>\n",
       "      <th>hits_page_pagePathLevel1</th>\n",
       "      <th>hits_page_pagePathLevel2</th>\n",
       "      <th>hits_page_pagePathLevel3</th>\n",
       "      <th>hits_page_pagePathLevel4</th>\n",
       "      <th>hits_page_pageTitle</th>\n",
       "      <th>hits_page_searchCategory</th>\n",
       "      <th>hits_page_searchKeyword</th>\n",
       "      <th>hits_page_0</th>\n",
       "      <th>hits_transaction_currencyCode</th>\n",
       "      <th>hits_transaction_0</th>\n",
       "      <th>hits_item_currencyCode</th>\n",
       "      <th>hits_item_0</th>\n",
       "      <th>hits_appInfo_exitScreenName</th>\n",
       "      <th>hits_appInfo_landingScreenName</th>\n",
       "      <th>hits_appInfo_screenDepth</th>\n",
       "      <th>hits_appInfo_screenName</th>\n",
       "      <th>hits_appInfo_0</th>\n",
       "      <th>hits_exceptionInfo_isFatal</th>\n",
       "      <th>hits_exceptionInfo_0</th>\n",
       "      <th>hits_eCommerceAction_action_type</th>\n",
       "      <th>hits_eCommerceAction_step</th>\n",
       "      <th>hits_eCommerceAction_0</th>\n",
       "      <th>hits_social_hasSocialSourceReferral</th>\n",
       "      <th>hits_social_socialInteractionNetworkAction</th>\n",
       "      <th>hits_social_socialNetwork</th>\n",
       "      <th>hits_social_0</th>\n",
       "      <th>hits_contentGroup_contentGroup1</th>\n",
       "      <th>hits_contentGroup_contentGroup2</th>\n",
       "      <th>hits_contentGroup_contentGroup3</th>\n",
       "      <th>hits_contentGroup_contentGroup4</th>\n",
       "      <th>hits_contentGroup_contentGroup5</th>\n",
       "      <th>hits_contentGroup_contentGroupUniqueViews1</th>\n",
       "      <th>hits_contentGroup_contentGroupUniqueViews2</th>\n",
       "      <th>hits_contentGroup_contentGroupUniqueViews3</th>\n",
       "      <th>hits_contentGroup_previousContentGroup1</th>\n",
       "      <th>hits_contentGroup_previousContentGroup2</th>\n",
       "      <th>hits_contentGroup_previousContentGroup3</th>\n",
       "      <th>hits_contentGroup_previousContentGroup4</th>\n",
       "      <th>hits_contentGroup_previousContentGroup5</th>\n",
       "      <th>hits_contentGroup_0</th>\n",
       "      <th>hits_promotionActionInfo_0</th>\n",
       "      <th>hits_promotionActionInfo_promoIsView</th>\n",
       "      <th>hits_promotionActionInfo_promoIsClick</th>\n",
       "      <th>city</th>\n",
       "      <th>cityId</th>\n",
       "      <th>continent</th>\n",
       "      <th>country</th>\n",
       "      <th>latitude</th>\n",
       "      <th>longitude</th>\n",
       "      <th>metro</th>\n",
       "      <th>networkDomain</th>\n",
       "      <th>networkLocation</th>\n",
       "      <th>region</th>\n",
       "      <th>subContinent</th>\n",
       "      <th>browser</th>\n",
       "      <th>browserSize</th>\n",
       "      <th>browserVersion</th>\n",
       "      <th>deviceCategory</th>\n",
       "      <th>flashVersion</th>\n",
       "      <th>isMobile</th>\n",
       "      <th>language</th>\n",
       "      <th>mobileDeviceBranding</th>\n",
       "      <th>mobileDeviceInfo</th>\n",
       "      <th>mobileDeviceMarketingName</th>\n",
       "      <th>mobileDeviceModel</th>\n",
       "      <th>mobileInputSelector</th>\n",
       "      <th>operatingSystem</th>\n",
       "      <th>operatingSystemVersion</th>\n",
       "      <th>screenColors</th>\n",
       "      <th>screenResolution</th>\n",
       "      <th>adContent</th>\n",
       "      <th>adwordsClickInfo</th>\n",
       "      <th>campaign</th>\n",
       "      <th>isTrueDirect</th>\n",
       "      <th>keyword</th>\n",
       "      <th>medium</th>\n",
       "      <th>referralPath</th>\n",
       "      <th>source</th>\n",
       "    </tr>\n",
       "  </thead>\n",
       "  <tbody>\n",
       "    <tr>\n",
       "      <th>0</th>\n",
       "      <td>Organic Search</td>\n",
       "      <td>20171016</td>\n",
       "      <td>3162355547410993243</td>\n",
       "      <td>Not Socially Engaged</td>\n",
       "      <td>1508198450</td>\n",
       "      <td>1</td>\n",
       "      <td>1508198450</td>\n",
       "      <td>1.0</td>\n",
       "      <td>1</td>\n",
       "      <td>1.0</td>\n",
       "      <td>1.0</td>\n",
       "      <td>1.0</td>\n",
       "      <td>NaN</td>\n",
       "      <td>NaN</td>\n",
       "      <td>NaN</td>\n",
       "      <td>1</td>\n",
       "      <td>4</td>\n",
       "      <td>EMEA</td>\n",
       "      <td>web</td>\n",
       "      <td>NaN</td>\n",
       "      <td>1</td>\n",
       "      <td>17</td>\n",
       "      <td>True</td>\n",
       "      <td>True</td>\n",
       "      <td>True</td>\n",
       "      <td>0</td>\n",
       "      <td>https://www.google.co.uk/search?q=water+bottle...</td>\n",
       "      <td>0</td>\n",
       "      <td>PAGE</td>\n",
       "      <td>[]</td>\n",
       "      <td>[]</td>\n",
       "      <td>NaN</td>\n",
       "      <td>True</td>\n",
       "      <td>23990000</td>\n",
       "      <td>(not set)</td>\n",
       "      <td>Category</td>\n",
       "      <td>1</td>\n",
       "      <td>23990000</td>\n",
       "      <td>NaN</td>\n",
       "      <td>GGOEGDHC074099</td>\n",
       "      <td>(not set)</td>\n",
       "      <td>Home/Drinkware/Water Bottles and Tumblers/</td>\n",
       "      <td>Google 17oz Stainless Steel Sport Bottle</td>\n",
       "      <td>NaN</td>\n",
       "      <td>NaN</td>\n",
       "      <td>NaN</td>\n",
       "      <td>NaN</td>\n",
       "      <td>shop.googlemerchandisestore.com</td>\n",
       "      <td>/google+redesign/bags/water+bottles+and+tumblers</td>\n",
       "      <td>/google+redesign/</td>\n",
       "      <td>/bags/</td>\n",
       "      <td>/water+bottles+and+tumblers</td>\n",
       "      <td></td>\n",
       "      <td>Water Bottles &amp; Tumblers | Drinkware | Google ...</td>\n",
       "      <td>NaN</td>\n",
       "      <td>NaN</td>\n",
       "      <td>NaN</td>\n",
       "      <td>USD</td>\n",
       "      <td>NaN</td>\n",
       "      <td>USD</td>\n",
       "      <td>NaN</td>\n",
       "      <td>shop.googlemerchandisestore.com/google+redesig...</td>\n",
       "      <td>shop.googlemerchandisestore.com/google+redesig...</td>\n",
       "      <td>0</td>\n",
       "      <td>shop.googlemerchandisestore.com/google+redesig...</td>\n",
       "      <td>NaN</td>\n",
       "      <td>True</td>\n",
       "      <td>NaN</td>\n",
       "      <td>0</td>\n",
       "      <td>1</td>\n",
       "      <td>NaN</td>\n",
       "      <td>No</td>\n",
       "      <td>:</td>\n",
       "      <td>(not set)</td>\n",
       "      <td>NaN</td>\n",
       "      <td>(not set)</td>\n",
       "      <td>Bags</td>\n",
       "      <td>(not set)</td>\n",
       "      <td>(not set)</td>\n",
       "      <td>(not set)</td>\n",
       "      <td>NaN</td>\n",
       "      <td>1</td>\n",
       "      <td>NaN</td>\n",
       "      <td>(entrance)</td>\n",
       "      <td>(entrance)</td>\n",
       "      <td>(entrance)</td>\n",
       "      <td>(entrance)</td>\n",
       "      <td>(entrance)</td>\n",
       "      <td>NaN</td>\n",
       "      <td>NaN</td>\n",
       "      <td>NaN</td>\n",
       "      <td>NaN</td>\n",
       "      <td>not available in demo dataset</td>\n",
       "      <td>not available in demo dataset</td>\n",
       "      <td>Europe</td>\n",
       "      <td>Germany</td>\n",
       "      <td>not available in demo dataset</td>\n",
       "      <td>not available in demo dataset</td>\n",
       "      <td>not available in demo dataset</td>\n",
       "      <td>(not set)</td>\n",
       "      <td>not available in demo dataset</td>\n",
       "      <td>not available in demo dataset</td>\n",
       "      <td>Western Europe</td>\n",
       "      <td>Firefox</td>\n",
       "      <td>not available in demo dataset</td>\n",
       "      <td>not available in demo dataset</td>\n",
       "      <td>desktop</td>\n",
       "      <td>not available in demo dataset</td>\n",
       "      <td>False</td>\n",
       "      <td>not available in demo dataset</td>\n",
       "      <td>not available in demo dataset</td>\n",
       "      <td>not available in demo dataset</td>\n",
       "      <td>not available in demo dataset</td>\n",
       "      <td>not available in demo dataset</td>\n",
       "      <td>not available in demo dataset</td>\n",
       "      <td>Windows</td>\n",
       "      <td>not available in demo dataset</td>\n",
       "      <td>not available in demo dataset</td>\n",
       "      <td>not available in demo dataset</td>\n",
       "      <td>NaN</td>\n",
       "      <td>{'criteriaParameters': 'not available in demo ...</td>\n",
       "      <td>(not set)</td>\n",
       "      <td>NaN</td>\n",
       "      <td>water bottle</td>\n",
       "      <td>organic</td>\n",
       "      <td>NaN</td>\n",
       "      <td>google</td>\n",
       "    </tr>\n",
       "    <tr>\n",
       "      <th>1</th>\n",
       "      <td>Referral</td>\n",
       "      <td>20171016</td>\n",
       "      <td>8934116514970143966</td>\n",
       "      <td>Not Socially Engaged</td>\n",
       "      <td>1508176307</td>\n",
       "      <td>6</td>\n",
       "      <td>1508176307</td>\n",
       "      <td>NaN</td>\n",
       "      <td>2</td>\n",
       "      <td>NaN</td>\n",
       "      <td>2.0</td>\n",
       "      <td>2.0</td>\n",
       "      <td>28.0</td>\n",
       "      <td>NaN</td>\n",
       "      <td>NaN</td>\n",
       "      <td>1</td>\n",
       "      <td>4</td>\n",
       "      <td>North America</td>\n",
       "      <td>web</td>\n",
       "      <td>NaN</td>\n",
       "      <td>1</td>\n",
       "      <td>10</td>\n",
       "      <td>True</td>\n",
       "      <td>NaN</td>\n",
       "      <td>True</td>\n",
       "      <td>51</td>\n",
       "      <td>https://sites.google.com/a/google.com/transpor...</td>\n",
       "      <td>0</td>\n",
       "      <td>PAGE</td>\n",
       "      <td>NaN</td>\n",
       "      <td>NaN</td>\n",
       "      <td>NaN</td>\n",
       "      <td>NaN</td>\n",
       "      <td>NaN</td>\n",
       "      <td>NaN</td>\n",
       "      <td>NaN</td>\n",
       "      <td>NaN</td>\n",
       "      <td>NaN</td>\n",
       "      <td>NaN</td>\n",
       "      <td>NaN</td>\n",
       "      <td>NaN</td>\n",
       "      <td>NaN</td>\n",
       "      <td>NaN</td>\n",
       "      <td>home_main_link_apparel.jpg</td>\n",
       "      <td>Apparel Row 1</td>\n",
       "      <td>Apparel</td>\n",
       "      <td>Row 1</td>\n",
       "      <td>shop.googlemerchandisestore.com</td>\n",
       "      <td>/home</td>\n",
       "      <td>/home</td>\n",
       "      <td></td>\n",
       "      <td></td>\n",
       "      <td></td>\n",
       "      <td>Home</td>\n",
       "      <td>(not set)</td>\n",
       "      <td>jersey</td>\n",
       "      <td>NaN</td>\n",
       "      <td>NaN</td>\n",
       "      <td>NaN</td>\n",
       "      <td>NaN</td>\n",
       "      <td>NaN</td>\n",
       "      <td>shop.googlemerchandisestore.com/asearch.html</td>\n",
       "      <td>shop.googlemerchandisestore.com/home</td>\n",
       "      <td>0</td>\n",
       "      <td>shop.googlemerchandisestore.com/home</td>\n",
       "      <td>NaN</td>\n",
       "      <td>True</td>\n",
       "      <td>NaN</td>\n",
       "      <td>0</td>\n",
       "      <td>1</td>\n",
       "      <td>NaN</td>\n",
       "      <td>No</td>\n",
       "      <td>:</td>\n",
       "      <td>(not set)</td>\n",
       "      <td>NaN</td>\n",
       "      <td>(not set)</td>\n",
       "      <td>(not set)</td>\n",
       "      <td>(not set)</td>\n",
       "      <td>(not set)</td>\n",
       "      <td>(not set)</td>\n",
       "      <td>NaN</td>\n",
       "      <td>NaN</td>\n",
       "      <td>NaN</td>\n",
       "      <td>(entrance)</td>\n",
       "      <td>(entrance)</td>\n",
       "      <td>(entrance)</td>\n",
       "      <td>(entrance)</td>\n",
       "      <td>(entrance)</td>\n",
       "      <td>NaN</td>\n",
       "      <td>NaN</td>\n",
       "      <td>True</td>\n",
       "      <td>NaN</td>\n",
       "      <td>Cupertino</td>\n",
       "      <td>not available in demo dataset</td>\n",
       "      <td>Americas</td>\n",
       "      <td>United States</td>\n",
       "      <td>not available in demo dataset</td>\n",
       "      <td>not available in demo dataset</td>\n",
       "      <td>San Francisco-Oakland-San Jose CA</td>\n",
       "      <td>(not set)</td>\n",
       "      <td>not available in demo dataset</td>\n",
       "      <td>California</td>\n",
       "      <td>Northern America</td>\n",
       "      <td>Chrome</td>\n",
       "      <td>not available in demo dataset</td>\n",
       "      <td>not available in demo dataset</td>\n",
       "      <td>desktop</td>\n",
       "      <td>not available in demo dataset</td>\n",
       "      <td>False</td>\n",
       "      <td>not available in demo dataset</td>\n",
       "      <td>not available in demo dataset</td>\n",
       "      <td>not available in demo dataset</td>\n",
       "      <td>not available in demo dataset</td>\n",
       "      <td>not available in demo dataset</td>\n",
       "      <td>not available in demo dataset</td>\n",
       "      <td>Chrome OS</td>\n",
       "      <td>not available in demo dataset</td>\n",
       "      <td>not available in demo dataset</td>\n",
       "      <td>not available in demo dataset</td>\n",
       "      <td>NaN</td>\n",
       "      <td>{'criteriaParameters': 'not available in demo ...</td>\n",
       "      <td>(not set)</td>\n",
       "      <td>NaN</td>\n",
       "      <td>NaN</td>\n",
       "      <td>referral</td>\n",
       "      <td>/a/google.com/transportation/mtv-services/bike...</td>\n",
       "      <td>sites.google.com</td>\n",
       "    </tr>\n",
       "    <tr>\n",
       "      <th>2</th>\n",
       "      <td>Direct</td>\n",
       "      <td>20171016</td>\n",
       "      <td>7992466427990357681</td>\n",
       "      <td>Not Socially Engaged</td>\n",
       "      <td>1508201613</td>\n",
       "      <td>1</td>\n",
       "      <td>1508201613</td>\n",
       "      <td>NaN</td>\n",
       "      <td>2</td>\n",
       "      <td>1.0</td>\n",
       "      <td>2.0</td>\n",
       "      <td>1.0</td>\n",
       "      <td>38.0</td>\n",
       "      <td>NaN</td>\n",
       "      <td>NaN</td>\n",
       "      <td>1</td>\n",
       "      <td>4</td>\n",
       "      <td>North America</td>\n",
       "      <td>web</td>\n",
       "      <td>NaN</td>\n",
       "      <td>1</td>\n",
       "      <td>17</td>\n",
       "      <td>True</td>\n",
       "      <td>NaN</td>\n",
       "      <td>True</td>\n",
       "      <td>53</td>\n",
       "      <td>https://www.googlemerchandisestore.com/</td>\n",
       "      <td>0</td>\n",
       "      <td>PAGE</td>\n",
       "      <td>NaN</td>\n",
       "      <td>NaN</td>\n",
       "      <td>NaN</td>\n",
       "      <td>NaN</td>\n",
       "      <td>NaN</td>\n",
       "      <td>NaN</td>\n",
       "      <td>NaN</td>\n",
       "      <td>NaN</td>\n",
       "      <td>NaN</td>\n",
       "      <td>NaN</td>\n",
       "      <td>NaN</td>\n",
       "      <td>NaN</td>\n",
       "      <td>NaN</td>\n",
       "      <td>NaN</td>\n",
       "      <td>home_main_link_apparel.jpg</td>\n",
       "      <td>Apparel Row 1</td>\n",
       "      <td>Apparel</td>\n",
       "      <td>Row 1</td>\n",
       "      <td>shop.googlemerchandisestore.com</td>\n",
       "      <td>/home</td>\n",
       "      <td>/home</td>\n",
       "      <td></td>\n",
       "      <td></td>\n",
       "      <td></td>\n",
       "      <td>Home</td>\n",
       "      <td>NaN</td>\n",
       "      <td>NaN</td>\n",
       "      <td>NaN</td>\n",
       "      <td>NaN</td>\n",
       "      <td>NaN</td>\n",
       "      <td>NaN</td>\n",
       "      <td>NaN</td>\n",
       "      <td>shop.googlemerchandisestore.com/google+redesig...</td>\n",
       "      <td>shop.googlemerchandisestore.com/home</td>\n",
       "      <td>0</td>\n",
       "      <td>shop.googlemerchandisestore.com/home</td>\n",
       "      <td>NaN</td>\n",
       "      <td>True</td>\n",
       "      <td>NaN</td>\n",
       "      <td>0</td>\n",
       "      <td>1</td>\n",
       "      <td>NaN</td>\n",
       "      <td>No</td>\n",
       "      <td>:</td>\n",
       "      <td>(not set)</td>\n",
       "      <td>NaN</td>\n",
       "      <td>(not set)</td>\n",
       "      <td>(not set)</td>\n",
       "      <td>(not set)</td>\n",
       "      <td>(not set)</td>\n",
       "      <td>(not set)</td>\n",
       "      <td>NaN</td>\n",
       "      <td>NaN</td>\n",
       "      <td>NaN</td>\n",
       "      <td>(entrance)</td>\n",
       "      <td>(entrance)</td>\n",
       "      <td>(entrance)</td>\n",
       "      <td>(entrance)</td>\n",
       "      <td>(entrance)</td>\n",
       "      <td>NaN</td>\n",
       "      <td>NaN</td>\n",
       "      <td>True</td>\n",
       "      <td>NaN</td>\n",
       "      <td>not available in demo dataset</td>\n",
       "      <td>not available in demo dataset</td>\n",
       "      <td>Americas</td>\n",
       "      <td>United States</td>\n",
       "      <td>not available in demo dataset</td>\n",
       "      <td>not available in demo dataset</td>\n",
       "      <td>not available in demo dataset</td>\n",
       "      <td>windjammercable.net</td>\n",
       "      <td>not available in demo dataset</td>\n",
       "      <td>not available in demo dataset</td>\n",
       "      <td>Northern America</td>\n",
       "      <td>Chrome</td>\n",
       "      <td>not available in demo dataset</td>\n",
       "      <td>not available in demo dataset</td>\n",
       "      <td>mobile</td>\n",
       "      <td>not available in demo dataset</td>\n",
       "      <td>True</td>\n",
       "      <td>not available in demo dataset</td>\n",
       "      <td>not available in demo dataset</td>\n",
       "      <td>not available in demo dataset</td>\n",
       "      <td>not available in demo dataset</td>\n",
       "      <td>not available in demo dataset</td>\n",
       "      <td>not available in demo dataset</td>\n",
       "      <td>Android</td>\n",
       "      <td>not available in demo dataset</td>\n",
       "      <td>not available in demo dataset</td>\n",
       "      <td>not available in demo dataset</td>\n",
       "      <td>NaN</td>\n",
       "      <td>{'criteriaParameters': 'not available in demo ...</td>\n",
       "      <td>(not set)</td>\n",
       "      <td>True</td>\n",
       "      <td>NaN</td>\n",
       "      <td>(none)</td>\n",
       "      <td>NaN</td>\n",
       "      <td>(direct)</td>\n",
       "    </tr>\n",
       "    <tr>\n",
       "      <th>3</th>\n",
       "      <td>Organic Search</td>\n",
       "      <td>20171016</td>\n",
       "      <td>9075655783635761930</td>\n",
       "      <td>Not Socially Engaged</td>\n",
       "      <td>1508169851</td>\n",
       "      <td>1</td>\n",
       "      <td>1508169851</td>\n",
       "      <td>NaN</td>\n",
       "      <td>2</td>\n",
       "      <td>1.0</td>\n",
       "      <td>2.0</td>\n",
       "      <td>1.0</td>\n",
       "      <td>1.0</td>\n",
       "      <td>NaN</td>\n",
       "      <td>NaN</td>\n",
       "      <td>1</td>\n",
       "      <td>4</td>\n",
       "      <td>EMEA</td>\n",
       "      <td>web</td>\n",
       "      <td>NaN</td>\n",
       "      <td>1</td>\n",
       "      <td>9</td>\n",
       "      <td>True</td>\n",
       "      <td>NaN</td>\n",
       "      <td>True</td>\n",
       "      <td>4</td>\n",
       "      <td>https://www.google.com.tr/</td>\n",
       "      <td>0</td>\n",
       "      <td>PAGE</td>\n",
       "      <td>NaN</td>\n",
       "      <td>NaN</td>\n",
       "      <td>NaN</td>\n",
       "      <td>NaN</td>\n",
       "      <td>NaN</td>\n",
       "      <td>NaN</td>\n",
       "      <td>NaN</td>\n",
       "      <td>NaN</td>\n",
       "      <td>NaN</td>\n",
       "      <td>NaN</td>\n",
       "      <td>NaN</td>\n",
       "      <td>NaN</td>\n",
       "      <td>NaN</td>\n",
       "      <td>NaN</td>\n",
       "      <td>home_main_link_apparel.jpg</td>\n",
       "      <td>Apparel Row 1</td>\n",
       "      <td>Apparel</td>\n",
       "      <td>Row 1</td>\n",
       "      <td>shop.googlemerchandisestore.com</td>\n",
       "      <td>/home</td>\n",
       "      <td>/home</td>\n",
       "      <td></td>\n",
       "      <td></td>\n",
       "      <td></td>\n",
       "      <td>Home</td>\n",
       "      <td>NaN</td>\n",
       "      <td>NaN</td>\n",
       "      <td>NaN</td>\n",
       "      <td>NaN</td>\n",
       "      <td>NaN</td>\n",
       "      <td>NaN</td>\n",
       "      <td>NaN</td>\n",
       "      <td>shop.googlemerchandisestore.com/google+redesig...</td>\n",
       "      <td>shop.googlemerchandisestore.com/home</td>\n",
       "      <td>0</td>\n",
       "      <td>shop.googlemerchandisestore.com/home</td>\n",
       "      <td>NaN</td>\n",
       "      <td>True</td>\n",
       "      <td>NaN</td>\n",
       "      <td>0</td>\n",
       "      <td>1</td>\n",
       "      <td>NaN</td>\n",
       "      <td>No</td>\n",
       "      <td>:</td>\n",
       "      <td>(not set)</td>\n",
       "      <td>NaN</td>\n",
       "      <td>(not set)</td>\n",
       "      <td>(not set)</td>\n",
       "      <td>(not set)</td>\n",
       "      <td>(not set)</td>\n",
       "      <td>(not set)</td>\n",
       "      <td>NaN</td>\n",
       "      <td>NaN</td>\n",
       "      <td>NaN</td>\n",
       "      <td>(entrance)</td>\n",
       "      <td>(entrance)</td>\n",
       "      <td>(entrance)</td>\n",
       "      <td>(entrance)</td>\n",
       "      <td>(entrance)</td>\n",
       "      <td>NaN</td>\n",
       "      <td>NaN</td>\n",
       "      <td>True</td>\n",
       "      <td>NaN</td>\n",
       "      <td>not available in demo dataset</td>\n",
       "      <td>not available in demo dataset</td>\n",
       "      <td>Asia</td>\n",
       "      <td>Turkey</td>\n",
       "      <td>not available in demo dataset</td>\n",
       "      <td>not available in demo dataset</td>\n",
       "      <td>not available in demo dataset</td>\n",
       "      <td>unknown.unknown</td>\n",
       "      <td>not available in demo dataset</td>\n",
       "      <td>not available in demo dataset</td>\n",
       "      <td>Western Asia</td>\n",
       "      <td>Chrome</td>\n",
       "      <td>not available in demo dataset</td>\n",
       "      <td>not available in demo dataset</td>\n",
       "      <td>desktop</td>\n",
       "      <td>not available in demo dataset</td>\n",
       "      <td>False</td>\n",
       "      <td>not available in demo dataset</td>\n",
       "      <td>not available in demo dataset</td>\n",
       "      <td>not available in demo dataset</td>\n",
       "      <td>not available in demo dataset</td>\n",
       "      <td>not available in demo dataset</td>\n",
       "      <td>not available in demo dataset</td>\n",
       "      <td>Windows</td>\n",
       "      <td>not available in demo dataset</td>\n",
       "      <td>not available in demo dataset</td>\n",
       "      <td>not available in demo dataset</td>\n",
       "      <td>NaN</td>\n",
       "      <td>{'criteriaParameters': 'not available in demo ...</td>\n",
       "      <td>(not set)</td>\n",
       "      <td>NaN</td>\n",
       "      <td>(not provided)</td>\n",
       "      <td>organic</td>\n",
       "      <td>NaN</td>\n",
       "      <td>google</td>\n",
       "    </tr>\n",
       "    <tr>\n",
       "      <th>4</th>\n",
       "      <td>Organic Search</td>\n",
       "      <td>20171016</td>\n",
       "      <td>6960673291025684308</td>\n",
       "      <td>Not Socially Engaged</td>\n",
       "      <td>1508190552</td>\n",
       "      <td>1</td>\n",
       "      <td>1508190552</td>\n",
       "      <td>NaN</td>\n",
       "      <td>2</td>\n",
       "      <td>1.0</td>\n",
       "      <td>2.0</td>\n",
       "      <td>1.0</td>\n",
       "      <td>52.0</td>\n",
       "      <td>NaN</td>\n",
       "      <td>NaN</td>\n",
       "      <td>1</td>\n",
       "      <td>4</td>\n",
       "      <td>Central America</td>\n",
       "      <td>web</td>\n",
       "      <td>NaN</td>\n",
       "      <td>1</td>\n",
       "      <td>14</td>\n",
       "      <td>True</td>\n",
       "      <td>NaN</td>\n",
       "      <td>True</td>\n",
       "      <td>49</td>\n",
       "      <td>https://www.google.com.mx/</td>\n",
       "      <td>0</td>\n",
       "      <td>PAGE</td>\n",
       "      <td>NaN</td>\n",
       "      <td>NaN</td>\n",
       "      <td>NaN</td>\n",
       "      <td>NaN</td>\n",
       "      <td>NaN</td>\n",
       "      <td>NaN</td>\n",
       "      <td>NaN</td>\n",
       "      <td>NaN</td>\n",
       "      <td>NaN</td>\n",
       "      <td>NaN</td>\n",
       "      <td>NaN</td>\n",
       "      <td>NaN</td>\n",
       "      <td>NaN</td>\n",
       "      <td>NaN</td>\n",
       "      <td>home_main_link_apparel.jpg</td>\n",
       "      <td>Apparel Row 1</td>\n",
       "      <td>Apparel</td>\n",
       "      <td>Row 1</td>\n",
       "      <td>shop.googlemerchandisestore.com</td>\n",
       "      <td>/home</td>\n",
       "      <td>/home</td>\n",
       "      <td></td>\n",
       "      <td></td>\n",
       "      <td></td>\n",
       "      <td>Home</td>\n",
       "      <td>NaN</td>\n",
       "      <td>NaN</td>\n",
       "      <td>NaN</td>\n",
       "      <td>NaN</td>\n",
       "      <td>NaN</td>\n",
       "      <td>NaN</td>\n",
       "      <td>NaN</td>\n",
       "      <td>shop.googlemerchandisestore.com/google+redesig...</td>\n",
       "      <td>shop.googlemerchandisestore.com/home</td>\n",
       "      <td>0</td>\n",
       "      <td>shop.googlemerchandisestore.com/home</td>\n",
       "      <td>NaN</td>\n",
       "      <td>True</td>\n",
       "      <td>NaN</td>\n",
       "      <td>0</td>\n",
       "      <td>1</td>\n",
       "      <td>NaN</td>\n",
       "      <td>No</td>\n",
       "      <td>:</td>\n",
       "      <td>(not set)</td>\n",
       "      <td>NaN</td>\n",
       "      <td>(not set)</td>\n",
       "      <td>(not set)</td>\n",
       "      <td>(not set)</td>\n",
       "      <td>(not set)</td>\n",
       "      <td>(not set)</td>\n",
       "      <td>NaN</td>\n",
       "      <td>NaN</td>\n",
       "      <td>NaN</td>\n",
       "      <td>(entrance)</td>\n",
       "      <td>(entrance)</td>\n",
       "      <td>(entrance)</td>\n",
       "      <td>(entrance)</td>\n",
       "      <td>(entrance)</td>\n",
       "      <td>NaN</td>\n",
       "      <td>NaN</td>\n",
       "      <td>True</td>\n",
       "      <td>NaN</td>\n",
       "      <td>not available in demo dataset</td>\n",
       "      <td>not available in demo dataset</td>\n",
       "      <td>Americas</td>\n",
       "      <td>Mexico</td>\n",
       "      <td>not available in demo dataset</td>\n",
       "      <td>not available in demo dataset</td>\n",
       "      <td>not available in demo dataset</td>\n",
       "      <td>prod-infinitum.com.mx</td>\n",
       "      <td>not available in demo dataset</td>\n",
       "      <td>not available in demo dataset</td>\n",
       "      <td>Central America</td>\n",
       "      <td>Chrome</td>\n",
       "      <td>not available in demo dataset</td>\n",
       "      <td>not available in demo dataset</td>\n",
       "      <td>desktop</td>\n",
       "      <td>not available in demo dataset</td>\n",
       "      <td>False</td>\n",
       "      <td>not available in demo dataset</td>\n",
       "      <td>not available in demo dataset</td>\n",
       "      <td>not available in demo dataset</td>\n",
       "      <td>not available in demo dataset</td>\n",
       "      <td>not available in demo dataset</td>\n",
       "      <td>not available in demo dataset</td>\n",
       "      <td>Windows</td>\n",
       "      <td>not available in demo dataset</td>\n",
       "      <td>not available in demo dataset</td>\n",
       "      <td>not available in demo dataset</td>\n",
       "      <td>NaN</td>\n",
       "      <td>{'criteriaParameters': 'not available in demo ...</td>\n",
       "      <td>(not set)</td>\n",
       "      <td>NaN</td>\n",
       "      <td>(not provided)</td>\n",
       "      <td>organic</td>\n",
       "      <td>NaN</td>\n",
       "      <td>google</td>\n",
       "    </tr>\n",
       "  </tbody>\n",
       "</table>\n",
       "</div>"
      ],
      "text/plain": [
       "  channelGrouping      date        fullVisitorId  socialEngagementType  \\\n",
       "0  Organic Search  20171016  3162355547410993243  Not Socially Engaged   \n",
       "1        Referral  20171016  8934116514970143966  Not Socially Engaged   \n",
       "2          Direct  20171016  7992466427990357681  Not Socially Engaged   \n",
       "3  Organic Search  20171016  9075655783635761930  Not Socially Engaged   \n",
       "4  Organic Search  20171016  6960673291025684308  Not Socially Engaged   \n",
       "\n",
       "      visitId  visitNumber  visitStartTime  totals_bounces  totals_hits  \\\n",
       "0  1508198450            1      1508198450             1.0            1   \n",
       "1  1508176307            6      1508176307             NaN            2   \n",
       "2  1508201613            1      1508201613             NaN            2   \n",
       "3  1508169851            1      1508169851             NaN            2   \n",
       "4  1508190552            1      1508190552             NaN            2   \n",
       "\n",
       "   totals_newVisits  totals_pageviews  totals_sessionQualityDim  \\\n",
       "0               1.0               1.0                       1.0   \n",
       "1               NaN               2.0                       2.0   \n",
       "2               1.0               2.0                       1.0   \n",
       "3               1.0               2.0                       1.0   \n",
       "4               1.0               2.0                       1.0   \n",
       "\n",
       "   totals_timeOnSite  totals_transactionRevenue  totals_transactions  \\\n",
       "0                NaN                        NaN                  NaN   \n",
       "1               28.0                        NaN                  NaN   \n",
       "2               38.0                        NaN                  NaN   \n",
       "3                1.0                        NaN                  NaN   \n",
       "4               52.0                        NaN                  NaN   \n",
       "\n",
       "   totals_visits customDimensions_index customDimensions_value  \\\n",
       "0              1                      4                   EMEA   \n",
       "1              1                      4          North America   \n",
       "2              1                      4          North America   \n",
       "3              1                      4                   EMEA   \n",
       "4              1                      4        Central America   \n",
       "\n",
       "  hits_dataSource hits_eventInfo hits_hitNumber hits_hour hits_isEntrance  \\\n",
       "0             web            NaN              1        17            True   \n",
       "1             web            NaN              1        10            True   \n",
       "2             web            NaN              1        17            True   \n",
       "3             web            NaN              1         9            True   \n",
       "4             web            NaN              1        14            True   \n",
       "\n",
       "  hits_isExit hits_isInteraction hits_minute  \\\n",
       "0        True               True           0   \n",
       "1         NaN               True          51   \n",
       "2         NaN               True          53   \n",
       "3         NaN               True           4   \n",
       "4         NaN               True          49   \n",
       "\n",
       "                                        hits_referer hits_time hits_type  \\\n",
       "0  https://www.google.co.uk/search?q=water+bottle...         0      PAGE   \n",
       "1  https://sites.google.com/a/google.com/transpor...         0      PAGE   \n",
       "2            https://www.googlemerchandisestore.com/         0      PAGE   \n",
       "3                         https://www.google.com.tr/         0      PAGE   \n",
       "4                         https://www.google.com.mx/         0      PAGE   \n",
       "\n",
       "  hits_product_customDimensions hits_product_customMetrics  \\\n",
       "0                            []                         []   \n",
       "1                           NaN                        NaN   \n",
       "2                           NaN                        NaN   \n",
       "3                           NaN                        NaN   \n",
       "4                           NaN                        NaN   \n",
       "\n",
       "  hits_product_isClick hits_product_isImpression  \\\n",
       "0                  NaN                      True   \n",
       "1                  NaN                       NaN   \n",
       "2                  NaN                       NaN   \n",
       "3                  NaN                       NaN   \n",
       "4                  NaN                       NaN   \n",
       "\n",
       "  hits_product_localProductPrice hits_product_productBrand  \\\n",
       "0                       23990000                 (not set)   \n",
       "1                            NaN                       NaN   \n",
       "2                            NaN                       NaN   \n",
       "3                            NaN                       NaN   \n",
       "4                            NaN                       NaN   \n",
       "\n",
       "  hits_product_productListName hits_product_productListPosition  \\\n",
       "0                     Category                                1   \n",
       "1                          NaN                              NaN   \n",
       "2                          NaN                              NaN   \n",
       "3                          NaN                              NaN   \n",
       "4                          NaN                              NaN   \n",
       "\n",
       "  hits_product_productPrice hits_product_productQuantity  \\\n",
       "0                  23990000                          NaN   \n",
       "1                       NaN                          NaN   \n",
       "2                       NaN                          NaN   \n",
       "3                       NaN                          NaN   \n",
       "4                       NaN                          NaN   \n",
       "\n",
       "  hits_product_productSKU hits_product_productVariant  \\\n",
       "0          GGOEGDHC074099                   (not set)   \n",
       "1                     NaN                         NaN   \n",
       "2                     NaN                         NaN   \n",
       "3                     NaN                         NaN   \n",
       "4                     NaN                         NaN   \n",
       "\n",
       "               hits_product_v2ProductCategory  \\\n",
       "0  Home/Drinkware/Water Bottles and Tumblers/   \n",
       "1                                         NaN   \n",
       "2                                         NaN   \n",
       "3                                         NaN   \n",
       "4                                         NaN   \n",
       "\n",
       "                 hits_product_v2ProductName hits_promotion_promoCreative  \\\n",
       "0  Google 17oz Stainless Steel Sport Bottle                          NaN   \n",
       "1                                       NaN   home_main_link_apparel.jpg   \n",
       "2                                       NaN   home_main_link_apparel.jpg   \n",
       "3                                       NaN   home_main_link_apparel.jpg   \n",
       "4                                       NaN   home_main_link_apparel.jpg   \n",
       "\n",
       "  hits_promotion_promoId hits_promotion_promoName  \\\n",
       "0                    NaN                      NaN   \n",
       "1          Apparel Row 1                  Apparel   \n",
       "2          Apparel Row 1                  Apparel   \n",
       "3          Apparel Row 1                  Apparel   \n",
       "4          Apparel Row 1                  Apparel   \n",
       "\n",
       "  hits_promotion_promoPosition               hits_page_hostname  \\\n",
       "0                          NaN  shop.googlemerchandisestore.com   \n",
       "1                        Row 1  shop.googlemerchandisestore.com   \n",
       "2                        Row 1  shop.googlemerchandisestore.com   \n",
       "3                        Row 1  shop.googlemerchandisestore.com   \n",
       "4                        Row 1  shop.googlemerchandisestore.com   \n",
       "\n",
       "                                 hits_page_pagePath hits_page_pagePathLevel1  \\\n",
       "0  /google+redesign/bags/water+bottles+and+tumblers        /google+redesign/   \n",
       "1                                             /home                    /home   \n",
       "2                                             /home                    /home   \n",
       "3                                             /home                    /home   \n",
       "4                                             /home                    /home   \n",
       "\n",
       "  hits_page_pagePathLevel2     hits_page_pagePathLevel3  \\\n",
       "0                   /bags/  /water+bottles+and+tumblers   \n",
       "1                                                         \n",
       "2                                                         \n",
       "3                                                         \n",
       "4                                                         \n",
       "\n",
       "  hits_page_pagePathLevel4                                hits_page_pageTitle  \\\n",
       "0                           Water Bottles & Tumblers | Drinkware | Google ...   \n",
       "1                                                                        Home   \n",
       "2                                                                        Home   \n",
       "3                                                                        Home   \n",
       "4                                                                        Home   \n",
       "\n",
       "  hits_page_searchCategory hits_page_searchKeyword  hits_page_0  \\\n",
       "0                      NaN                     NaN          NaN   \n",
       "1                (not set)                  jersey          NaN   \n",
       "2                      NaN                     NaN          NaN   \n",
       "3                      NaN                     NaN          NaN   \n",
       "4                      NaN                     NaN          NaN   \n",
       "\n",
       "  hits_transaction_currencyCode  hits_transaction_0 hits_item_currencyCode  \\\n",
       "0                           USD                 NaN                    USD   \n",
       "1                           NaN                 NaN                    NaN   \n",
       "2                           NaN                 NaN                    NaN   \n",
       "3                           NaN                 NaN                    NaN   \n",
       "4                           NaN                 NaN                    NaN   \n",
       "\n",
       "   hits_item_0                        hits_appInfo_exitScreenName  \\\n",
       "0          NaN  shop.googlemerchandisestore.com/google+redesig...   \n",
       "1          NaN       shop.googlemerchandisestore.com/asearch.html   \n",
       "2          NaN  shop.googlemerchandisestore.com/google+redesig...   \n",
       "3          NaN  shop.googlemerchandisestore.com/google+redesig...   \n",
       "4          NaN  shop.googlemerchandisestore.com/google+redesig...   \n",
       "\n",
       "                      hits_appInfo_landingScreenName hits_appInfo_screenDepth  \\\n",
       "0  shop.googlemerchandisestore.com/google+redesig...                        0   \n",
       "1               shop.googlemerchandisestore.com/home                        0   \n",
       "2               shop.googlemerchandisestore.com/home                        0   \n",
       "3               shop.googlemerchandisestore.com/home                        0   \n",
       "4               shop.googlemerchandisestore.com/home                        0   \n",
       "\n",
       "                             hits_appInfo_screenName  hits_appInfo_0  \\\n",
       "0  shop.googlemerchandisestore.com/google+redesig...             NaN   \n",
       "1               shop.googlemerchandisestore.com/home             NaN   \n",
       "2               shop.googlemerchandisestore.com/home             NaN   \n",
       "3               shop.googlemerchandisestore.com/home             NaN   \n",
       "4               shop.googlemerchandisestore.com/home             NaN   \n",
       "\n",
       "  hits_exceptionInfo_isFatal  hits_exceptionInfo_0  \\\n",
       "0                       True                   NaN   \n",
       "1                       True                   NaN   \n",
       "2                       True                   NaN   \n",
       "3                       True                   NaN   \n",
       "4                       True                   NaN   \n",
       "\n",
       "  hits_eCommerceAction_action_type hits_eCommerceAction_step  \\\n",
       "0                                0                         1   \n",
       "1                                0                         1   \n",
       "2                                0                         1   \n",
       "3                                0                         1   \n",
       "4                                0                         1   \n",
       "\n",
       "   hits_eCommerceAction_0 hits_social_hasSocialSourceReferral  \\\n",
       "0                     NaN                                  No   \n",
       "1                     NaN                                  No   \n",
       "2                     NaN                                  No   \n",
       "3                     NaN                                  No   \n",
       "4                     NaN                                  No   \n",
       "\n",
       "  hits_social_socialInteractionNetworkAction hits_social_socialNetwork  \\\n",
       "0                                         :                  (not set)   \n",
       "1                                         :                  (not set)   \n",
       "2                                         :                  (not set)   \n",
       "3                                         :                  (not set)   \n",
       "4                                         :                  (not set)   \n",
       "\n",
       "   hits_social_0 hits_contentGroup_contentGroup1  \\\n",
       "0            NaN                       (not set)   \n",
       "1            NaN                       (not set)   \n",
       "2            NaN                       (not set)   \n",
       "3            NaN                       (not set)   \n",
       "4            NaN                       (not set)   \n",
       "\n",
       "  hits_contentGroup_contentGroup2 hits_contentGroup_contentGroup3  \\\n",
       "0                            Bags                       (not set)   \n",
       "1                       (not set)                       (not set)   \n",
       "2                       (not set)                       (not set)   \n",
       "3                       (not set)                       (not set)   \n",
       "4                       (not set)                       (not set)   \n",
       "\n",
       "  hits_contentGroup_contentGroup4 hits_contentGroup_contentGroup5  \\\n",
       "0                       (not set)                       (not set)   \n",
       "1                       (not set)                       (not set)   \n",
       "2                       (not set)                       (not set)   \n",
       "3                       (not set)                       (not set)   \n",
       "4                       (not set)                       (not set)   \n",
       "\n",
       "  hits_contentGroup_contentGroupUniqueViews1  \\\n",
       "0                                        NaN   \n",
       "1                                        NaN   \n",
       "2                                        NaN   \n",
       "3                                        NaN   \n",
       "4                                        NaN   \n",
       "\n",
       "  hits_contentGroup_contentGroupUniqueViews2  \\\n",
       "0                                          1   \n",
       "1                                        NaN   \n",
       "2                                        NaN   \n",
       "3                                        NaN   \n",
       "4                                        NaN   \n",
       "\n",
       "  hits_contentGroup_contentGroupUniqueViews3  \\\n",
       "0                                        NaN   \n",
       "1                                        NaN   \n",
       "2                                        NaN   \n",
       "3                                        NaN   \n",
       "4                                        NaN   \n",
       "\n",
       "  hits_contentGroup_previousContentGroup1  \\\n",
       "0                              (entrance)   \n",
       "1                              (entrance)   \n",
       "2                              (entrance)   \n",
       "3                              (entrance)   \n",
       "4                              (entrance)   \n",
       "\n",
       "  hits_contentGroup_previousContentGroup2  \\\n",
       "0                              (entrance)   \n",
       "1                              (entrance)   \n",
       "2                              (entrance)   \n",
       "3                              (entrance)   \n",
       "4                              (entrance)   \n",
       "\n",
       "  hits_contentGroup_previousContentGroup3  \\\n",
       "0                              (entrance)   \n",
       "1                              (entrance)   \n",
       "2                              (entrance)   \n",
       "3                              (entrance)   \n",
       "4                              (entrance)   \n",
       "\n",
       "  hits_contentGroup_previousContentGroup4  \\\n",
       "0                              (entrance)   \n",
       "1                              (entrance)   \n",
       "2                              (entrance)   \n",
       "3                              (entrance)   \n",
       "4                              (entrance)   \n",
       "\n",
       "  hits_contentGroup_previousContentGroup5  hits_contentGroup_0  \\\n",
       "0                              (entrance)                  NaN   \n",
       "1                              (entrance)                  NaN   \n",
       "2                              (entrance)                  NaN   \n",
       "3                              (entrance)                  NaN   \n",
       "4                              (entrance)                  NaN   \n",
       "\n",
       "   hits_promotionActionInfo_0 hits_promotionActionInfo_promoIsView  \\\n",
       "0                         NaN                                  NaN   \n",
       "1                         NaN                                 True   \n",
       "2                         NaN                                 True   \n",
       "3                         NaN                                 True   \n",
       "4                         NaN                                 True   \n",
       "\n",
       "  hits_promotionActionInfo_promoIsClick                           city  \\\n",
       "0                                   NaN  not available in demo dataset   \n",
       "1                                   NaN                      Cupertino   \n",
       "2                                   NaN  not available in demo dataset   \n",
       "3                                   NaN  not available in demo dataset   \n",
       "4                                   NaN  not available in demo dataset   \n",
       "\n",
       "                          cityId continent        country  \\\n",
       "0  not available in demo dataset    Europe        Germany   \n",
       "1  not available in demo dataset  Americas  United States   \n",
       "2  not available in demo dataset  Americas  United States   \n",
       "3  not available in demo dataset      Asia         Turkey   \n",
       "4  not available in demo dataset  Americas         Mexico   \n",
       "\n",
       "                        latitude                      longitude  \\\n",
       "0  not available in demo dataset  not available in demo dataset   \n",
       "1  not available in demo dataset  not available in demo dataset   \n",
       "2  not available in demo dataset  not available in demo dataset   \n",
       "3  not available in demo dataset  not available in demo dataset   \n",
       "4  not available in demo dataset  not available in demo dataset   \n",
       "\n",
       "                               metro          networkDomain  \\\n",
       "0      not available in demo dataset              (not set)   \n",
       "1  San Francisco-Oakland-San Jose CA              (not set)   \n",
       "2      not available in demo dataset    windjammercable.net   \n",
       "3      not available in demo dataset        unknown.unknown   \n",
       "4      not available in demo dataset  prod-infinitum.com.mx   \n",
       "\n",
       "                 networkLocation                         region  \\\n",
       "0  not available in demo dataset  not available in demo dataset   \n",
       "1  not available in demo dataset                     California   \n",
       "2  not available in demo dataset  not available in demo dataset   \n",
       "3  not available in demo dataset  not available in demo dataset   \n",
       "4  not available in demo dataset  not available in demo dataset   \n",
       "\n",
       "       subContinent  browser                    browserSize  \\\n",
       "0    Western Europe  Firefox  not available in demo dataset   \n",
       "1  Northern America   Chrome  not available in demo dataset   \n",
       "2  Northern America   Chrome  not available in demo dataset   \n",
       "3      Western Asia   Chrome  not available in demo dataset   \n",
       "4   Central America   Chrome  not available in demo dataset   \n",
       "\n",
       "                  browserVersion deviceCategory  \\\n",
       "0  not available in demo dataset        desktop   \n",
       "1  not available in demo dataset        desktop   \n",
       "2  not available in demo dataset         mobile   \n",
       "3  not available in demo dataset        desktop   \n",
       "4  not available in demo dataset        desktop   \n",
       "\n",
       "                    flashVersion  isMobile                       language  \\\n",
       "0  not available in demo dataset     False  not available in demo dataset   \n",
       "1  not available in demo dataset     False  not available in demo dataset   \n",
       "2  not available in demo dataset      True  not available in demo dataset   \n",
       "3  not available in demo dataset     False  not available in demo dataset   \n",
       "4  not available in demo dataset     False  not available in demo dataset   \n",
       "\n",
       "            mobileDeviceBranding               mobileDeviceInfo  \\\n",
       "0  not available in demo dataset  not available in demo dataset   \n",
       "1  not available in demo dataset  not available in demo dataset   \n",
       "2  not available in demo dataset  not available in demo dataset   \n",
       "3  not available in demo dataset  not available in demo dataset   \n",
       "4  not available in demo dataset  not available in demo dataset   \n",
       "\n",
       "       mobileDeviceMarketingName              mobileDeviceModel  \\\n",
       "0  not available in demo dataset  not available in demo dataset   \n",
       "1  not available in demo dataset  not available in demo dataset   \n",
       "2  not available in demo dataset  not available in demo dataset   \n",
       "3  not available in demo dataset  not available in demo dataset   \n",
       "4  not available in demo dataset  not available in demo dataset   \n",
       "\n",
       "             mobileInputSelector operatingSystem  \\\n",
       "0  not available in demo dataset         Windows   \n",
       "1  not available in demo dataset       Chrome OS   \n",
       "2  not available in demo dataset         Android   \n",
       "3  not available in demo dataset         Windows   \n",
       "4  not available in demo dataset         Windows   \n",
       "\n",
       "          operatingSystemVersion                   screenColors  \\\n",
       "0  not available in demo dataset  not available in demo dataset   \n",
       "1  not available in demo dataset  not available in demo dataset   \n",
       "2  not available in demo dataset  not available in demo dataset   \n",
       "3  not available in demo dataset  not available in demo dataset   \n",
       "4  not available in demo dataset  not available in demo dataset   \n",
       "\n",
       "                screenResolution adContent  \\\n",
       "0  not available in demo dataset       NaN   \n",
       "1  not available in demo dataset       NaN   \n",
       "2  not available in demo dataset       NaN   \n",
       "3  not available in demo dataset       NaN   \n",
       "4  not available in demo dataset       NaN   \n",
       "\n",
       "                                    adwordsClickInfo   campaign isTrueDirect  \\\n",
       "0  {'criteriaParameters': 'not available in demo ...  (not set)          NaN   \n",
       "1  {'criteriaParameters': 'not available in demo ...  (not set)          NaN   \n",
       "2  {'criteriaParameters': 'not available in demo ...  (not set)         True   \n",
       "3  {'criteriaParameters': 'not available in demo ...  (not set)          NaN   \n",
       "4  {'criteriaParameters': 'not available in demo ...  (not set)          NaN   \n",
       "\n",
       "          keyword    medium  \\\n",
       "0    water bottle   organic   \n",
       "1             NaN  referral   \n",
       "2             NaN    (none)   \n",
       "3  (not provided)   organic   \n",
       "4  (not provided)   organic   \n",
       "\n",
       "                                        referralPath            source  \n",
       "0                                                NaN            google  \n",
       "1  /a/google.com/transportation/mtv-services/bike...  sites.google.com  \n",
       "2                                                NaN          (direct)  \n",
       "3                                                NaN            google  \n",
       "4                                                NaN            google  "
      ]
     },
     "execution_count": 20,
     "metadata": {},
     "output_type": "execute_result"
    }
   ],
   "source": [
    "pd.set_option('display.max_columns', 500)\n",
    "litedata.head()"
   ]
  },
  {
   "cell_type": "markdown",
   "metadata": {},
   "source": [
    "## Checking Missing Value Percentage in all the columns\n",
    "In order to clean the data, we need to find and ride of missing value sections."
   ]
  },
  {
   "cell_type": "code",
   "execution_count": 21,
   "metadata": {},
   "outputs": [
    {
     "name": "stdout",
     "output_type": "stream",
     "text": [
      "There are 87 columns with missing values\n"
     ]
    },
    {
     "data": {
      "application/vnd.plotly.v1+json": {
       "data": [
        {
         "marker": {
          "color": "#d6a5ff"
         },
         "orientation": "h",
         "type": "bar",
         "uid": "5fd9f931-5e2d-443c-8b9e-a5eacbc7f306",
         "x": [
          0.005,
          0.03,
          0.03,
          0.03,
          0.03,
          0.03,
          0.03,
          0.03,
          0.03,
          0.03,
          0.03,
          0.03,
          0.03,
          0.03,
          0.03,
          0.03,
          0.03,
          0.03,
          0.03,
          0.03,
          0.03,
          0.03,
          0.03,
          0.03,
          0.03,
          0.03,
          0.03,
          0.03,
          0.03,
          0.03,
          0.03,
          0.03,
          0.03,
          0.03,
          0.25,
          18.025,
          18.025,
          24.46,
          24.56,
          43.93,
          49.495,
          50.435,
          50.635,
          54.4,
          64.655,
          65.145,
          65.145,
          65.58,
          65.58,
          65.58,
          65.58,
          65.58,
          65.58,
          65.58,
          65.58,
          65.58,
          65.58,
          65.58,
          65.925,
          66.05,
          68.335,
          69.48,
          71.625,
          71.625,
          71.625,
          71.625,
          71.65,
          97.195,
          97.395,
          99.02,
          99.035,
          99.6,
          99.78,
          99.87,
          99.93,
          99.93,
          99.95,
          99.975,
          100,
          100,
          100,
          100,
          100,
          100,
          100,
          100,
          100
         ],
         "y": [
          "totals_pageviews",
          "hits_contentGroup_previousContentGroup5",
          "hits_contentGroup_previousContentGroup4",
          "hits_contentGroup_previousContentGroup3",
          "hits_contentGroup_previousContentGroup2",
          "hits_contentGroup_previousContentGroup1",
          "hits_contentGroup_contentGroup5",
          "hits_contentGroup_contentGroup4",
          "hits_contentGroup_contentGroup3",
          "hits_contentGroup_contentGroup2",
          "hits_contentGroup_contentGroup1",
          "hits_social_socialNetwork",
          "hits_social_socialInteractionNetworkAction",
          "hits_social_hasSocialSourceReferral",
          "hits_eCommerceAction_step",
          "hits_eCommerceAction_action_type",
          "hits_exceptionInfo_isFatal",
          "hits_appInfo_screenName",
          "hits_appInfo_screenDepth",
          "hits_appInfo_landingScreenName",
          "hits_appInfo_exitScreenName",
          "hits_page_pageTitle",
          "hits_page_pagePathLevel4",
          "hits_page_pagePathLevel3",
          "hits_page_pagePathLevel2",
          "hits_page_pagePathLevel1",
          "hits_page_pagePath",
          "hits_page_hostname",
          "hits_type",
          "hits_time",
          "hits_minute",
          "hits_isInteraction",
          "hits_hour",
          "hits_hitNumber",
          "hits_isEntrance",
          "customDimensions_value",
          "customDimensions_index",
          "hits_referer",
          "totals_newVisits",
          "hits_dataSource",
          "totals_timeOnSite",
          "hits_isExit",
          "totals_bounces",
          "totals_sessionQualityDim",
          "hits_contentGroup_contentGroupUniqueViews2",
          "hits_item_currencyCode",
          "hits_transaction_currencyCode",
          "hits_product_v2ProductName",
          "hits_product_v2ProductCategory",
          "hits_product_productVariant",
          "hits_product_productSKU",
          "hits_product_productPrice",
          "hits_product_productListPosition",
          "hits_product_productListName",
          "hits_product_productBrand",
          "hits_product_localProductPrice",
          "hits_product_customMetrics",
          "hits_product_customDimensions",
          "hits_product_isImpression",
          "keyword",
          "isTrueDirect",
          "referralPath",
          "hits_promotion_promoPosition",
          "hits_promotion_promoName",
          "hits_promotion_promoId",
          "hits_promotion_promoCreative",
          "hits_promotionActionInfo_promoIsView",
          "hits_contentGroup_contentGroupUniqueViews3",
          "adContent",
          "totals_transactions",
          "totals_transactionRevenue",
          "hits_contentGroup_contentGroupUniqueViews1",
          "hits_eventInfo",
          "hits_product_isClick",
          "hits_page_searchKeyword",
          "hits_page_searchCategory",
          "hits_product_productQuantity",
          "hits_promotionActionInfo_promoIsClick",
          "hits_promotionActionInfo_0",
          "hits_contentGroup_0",
          "hits_social_0",
          "hits_eCommerceAction_0",
          "hits_exceptionInfo_0",
          "hits_appInfo_0",
          "hits_item_0",
          "hits_transaction_0",
          "hits_page_0"
         ]
        }
       ],
       "layout": {
        "height": 400,
        "margin": {
         "l": 300,
         "r": 300
        },
        "title": "Missing Values Percentage",
        "xaxis": {
         "title": "Missing Percentage"
        }
       }
      },
      "text/html": [
       "<div id=\"45b97712-ecfc-4f29-a8ff-5b848abcc1c6\" style=\"height: 400px; width: 100%;\" class=\"plotly-graph-div\"></div><script type=\"text/javascript\">require([\"plotly\"], function(Plotly) { window.PLOTLYENV=window.PLOTLYENV || {};window.PLOTLYENV.BASE_URL=\"https://plot.ly\";Plotly.newPlot(\"45b97712-ecfc-4f29-a8ff-5b848abcc1c6\", [{\"marker\": {\"color\": \"#d6a5ff\"}, \"orientation\": \"h\", \"x\": [0.005, 0.03, 0.03, 0.03, 0.03, 0.03, 0.03, 0.03, 0.03, 0.03, 0.03, 0.03, 0.03, 0.03, 0.03, 0.03, 0.03, 0.03, 0.03, 0.03, 0.03, 0.03, 0.03, 0.03, 0.03, 0.03, 0.03, 0.03, 0.03, 0.03, 0.03, 0.03, 0.03, 0.03, 0.25, 18.025, 18.025, 24.46, 24.56, 43.93, 49.495, 50.435, 50.635, 54.4, 64.655, 65.145, 65.145, 65.58, 65.58, 65.58, 65.58, 65.58, 65.58, 65.58, 65.58, 65.58, 65.58, 65.58, 65.925, 66.05, 68.335, 69.48, 71.625, 71.625, 71.625, 71.625, 71.65, 97.195, 97.395, 99.02, 99.035, 99.6, 99.78, 99.87, 99.93, 99.93, 99.95, 99.975, 100.0, 100.0, 100.0, 100.0, 100.0, 100.0, 100.0, 100.0, 100.0], \"y\": [\"totals_pageviews\", \"hits_contentGroup_previousContentGroup5\", \"hits_contentGroup_previousContentGroup4\", \"hits_contentGroup_previousContentGroup3\", \"hits_contentGroup_previousContentGroup2\", \"hits_contentGroup_previousContentGroup1\", \"hits_contentGroup_contentGroup5\", \"hits_contentGroup_contentGroup4\", \"hits_contentGroup_contentGroup3\", \"hits_contentGroup_contentGroup2\", \"hits_contentGroup_contentGroup1\", \"hits_social_socialNetwork\", \"hits_social_socialInteractionNetworkAction\", \"hits_social_hasSocialSourceReferral\", \"hits_eCommerceAction_step\", \"hits_eCommerceAction_action_type\", \"hits_exceptionInfo_isFatal\", \"hits_appInfo_screenName\", \"hits_appInfo_screenDepth\", \"hits_appInfo_landingScreenName\", \"hits_appInfo_exitScreenName\", \"hits_page_pageTitle\", \"hits_page_pagePathLevel4\", \"hits_page_pagePathLevel3\", \"hits_page_pagePathLevel2\", \"hits_page_pagePathLevel1\", \"hits_page_pagePath\", \"hits_page_hostname\", \"hits_type\", \"hits_time\", \"hits_minute\", \"hits_isInteraction\", \"hits_hour\", \"hits_hitNumber\", \"hits_isEntrance\", \"customDimensions_value\", \"customDimensions_index\", \"hits_referer\", \"totals_newVisits\", \"hits_dataSource\", \"totals_timeOnSite\", \"hits_isExit\", \"totals_bounces\", \"totals_sessionQualityDim\", \"hits_contentGroup_contentGroupUniqueViews2\", \"hits_item_currencyCode\", \"hits_transaction_currencyCode\", \"hits_product_v2ProductName\", \"hits_product_v2ProductCategory\", \"hits_product_productVariant\", \"hits_product_productSKU\", \"hits_product_productPrice\", \"hits_product_productListPosition\", \"hits_product_productListName\", \"hits_product_productBrand\", \"hits_product_localProductPrice\", \"hits_product_customMetrics\", \"hits_product_customDimensions\", \"hits_product_isImpression\", \"keyword\", \"isTrueDirect\", \"referralPath\", \"hits_promotion_promoPosition\", \"hits_promotion_promoName\", \"hits_promotion_promoId\", \"hits_promotion_promoCreative\", \"hits_promotionActionInfo_promoIsView\", \"hits_contentGroup_contentGroupUniqueViews3\", \"adContent\", \"totals_transactions\", \"totals_transactionRevenue\", \"hits_contentGroup_contentGroupUniqueViews1\", \"hits_eventInfo\", \"hits_product_isClick\", \"hits_page_searchKeyword\", \"hits_page_searchCategory\", \"hits_product_productQuantity\", \"hits_promotionActionInfo_promoIsClick\", \"hits_promotionActionInfo_0\", \"hits_contentGroup_0\", \"hits_social_0\", \"hits_eCommerceAction_0\", \"hits_exceptionInfo_0\", \"hits_appInfo_0\", \"hits_item_0\", \"hits_transaction_0\", \"hits_page_0\"], \"type\": \"bar\", \"uid\": \"5fd9f931-5e2d-443c-8b9e-a5eacbc7f306\"}], {\"height\": 400, \"margin\": {\"l\": 300, \"r\": 300}, \"title\": \"Missing Values Percentage\", \"xaxis\": {\"title\": \"Missing Percentage\"}}, {\"showLink\": true, \"linkText\": \"Export to plot.ly\"})});</script><script type=\"text/javascript\">window.addEventListener(\"resize\", function(){window._Plotly.Plots.resize(document.getElementById(\"45b97712-ecfc-4f29-a8ff-5b848abcc1c6\"));});</script>"
      ],
      "text/vnd.plotly.v1+html": [
       "<div id=\"45b97712-ecfc-4f29-a8ff-5b848abcc1c6\" style=\"height: 400px; width: 100%;\" class=\"plotly-graph-div\"></div><script type=\"text/javascript\">require([\"plotly\"], function(Plotly) { window.PLOTLYENV=window.PLOTLYENV || {};window.PLOTLYENV.BASE_URL=\"https://plot.ly\";Plotly.newPlot(\"45b97712-ecfc-4f29-a8ff-5b848abcc1c6\", [{\"marker\": {\"color\": \"#d6a5ff\"}, \"orientation\": \"h\", \"x\": [0.005, 0.03, 0.03, 0.03, 0.03, 0.03, 0.03, 0.03, 0.03, 0.03, 0.03, 0.03, 0.03, 0.03, 0.03, 0.03, 0.03, 0.03, 0.03, 0.03, 0.03, 0.03, 0.03, 0.03, 0.03, 0.03, 0.03, 0.03, 0.03, 0.03, 0.03, 0.03, 0.03, 0.03, 0.25, 18.025, 18.025, 24.46, 24.56, 43.93, 49.495, 50.435, 50.635, 54.4, 64.655, 65.145, 65.145, 65.58, 65.58, 65.58, 65.58, 65.58, 65.58, 65.58, 65.58, 65.58, 65.58, 65.58, 65.925, 66.05, 68.335, 69.48, 71.625, 71.625, 71.625, 71.625, 71.65, 97.195, 97.395, 99.02, 99.035, 99.6, 99.78, 99.87, 99.93, 99.93, 99.95, 99.975, 100.0, 100.0, 100.0, 100.0, 100.0, 100.0, 100.0, 100.0, 100.0], \"y\": [\"totals_pageviews\", \"hits_contentGroup_previousContentGroup5\", \"hits_contentGroup_previousContentGroup4\", \"hits_contentGroup_previousContentGroup3\", \"hits_contentGroup_previousContentGroup2\", \"hits_contentGroup_previousContentGroup1\", \"hits_contentGroup_contentGroup5\", \"hits_contentGroup_contentGroup4\", \"hits_contentGroup_contentGroup3\", \"hits_contentGroup_contentGroup2\", \"hits_contentGroup_contentGroup1\", \"hits_social_socialNetwork\", \"hits_social_socialInteractionNetworkAction\", \"hits_social_hasSocialSourceReferral\", \"hits_eCommerceAction_step\", \"hits_eCommerceAction_action_type\", \"hits_exceptionInfo_isFatal\", \"hits_appInfo_screenName\", \"hits_appInfo_screenDepth\", \"hits_appInfo_landingScreenName\", \"hits_appInfo_exitScreenName\", \"hits_page_pageTitle\", \"hits_page_pagePathLevel4\", \"hits_page_pagePathLevel3\", \"hits_page_pagePathLevel2\", \"hits_page_pagePathLevel1\", \"hits_page_pagePath\", \"hits_page_hostname\", \"hits_type\", \"hits_time\", \"hits_minute\", \"hits_isInteraction\", \"hits_hour\", \"hits_hitNumber\", \"hits_isEntrance\", \"customDimensions_value\", \"customDimensions_index\", \"hits_referer\", \"totals_newVisits\", \"hits_dataSource\", \"totals_timeOnSite\", \"hits_isExit\", \"totals_bounces\", \"totals_sessionQualityDim\", \"hits_contentGroup_contentGroupUniqueViews2\", \"hits_item_currencyCode\", \"hits_transaction_currencyCode\", \"hits_product_v2ProductName\", \"hits_product_v2ProductCategory\", \"hits_product_productVariant\", \"hits_product_productSKU\", \"hits_product_productPrice\", \"hits_product_productListPosition\", \"hits_product_productListName\", \"hits_product_productBrand\", \"hits_product_localProductPrice\", \"hits_product_customMetrics\", \"hits_product_customDimensions\", \"hits_product_isImpression\", \"keyword\", \"isTrueDirect\", \"referralPath\", \"hits_promotion_promoPosition\", \"hits_promotion_promoName\", \"hits_promotion_promoId\", \"hits_promotion_promoCreative\", \"hits_promotionActionInfo_promoIsView\", \"hits_contentGroup_contentGroupUniqueViews3\", \"adContent\", \"totals_transactions\", \"totals_transactionRevenue\", \"hits_contentGroup_contentGroupUniqueViews1\", \"hits_eventInfo\", \"hits_product_isClick\", \"hits_page_searchKeyword\", \"hits_page_searchCategory\", \"hits_product_productQuantity\", \"hits_promotionActionInfo_promoIsClick\", \"hits_promotionActionInfo_0\", \"hits_contentGroup_0\", \"hits_social_0\", \"hits_eCommerceAction_0\", \"hits_exceptionInfo_0\", \"hits_appInfo_0\", \"hits_item_0\", \"hits_transaction_0\", \"hits_page_0\"], \"type\": \"bar\", \"uid\": \"5fd9f931-5e2d-443c-8b9e-a5eacbc7f306\"}], {\"height\": 400, \"margin\": {\"l\": 300, \"r\": 300}, \"title\": \"Missing Values Percentage\", \"xaxis\": {\"title\": \"Missing Percentage\"}}, {\"showLink\": true, \"linkText\": \"Export to plot.ly\"})});</script><script type=\"text/javascript\">window.addEventListener(\"resize\", function(){window._Plotly.Plots.resize(document.getElementById(\"45b97712-ecfc-4f29-a8ff-5b848abcc1c6\"));});</script>"
      ]
     },
     "metadata": {},
     "output_type": "display_data"
    }
   ],
   "source": [
    "miss_per = {}\n",
    "for k, v in dict(litedata.isna().sum(axis=0)).items():\n",
    "    if v == 0:\n",
    "        continue\n",
    "    miss_per[k] = 100 * float(v) / len(litedata)\n",
    "\n",
    "sorted_x = sorted(miss_per.items(), key=operator.itemgetter(1), reverse=True)\n",
    "print (\"There are \" + str(len(miss_per)) + \" columns with missing values\")\n",
    "\n",
    "kys = [_[0] for _ in sorted_x][::-1]\n",
    "vls = [_[1] for _ in sorted_x][::-1]\n",
    "trace1 = go.Bar(y = kys, orientation=\"h\" , x = vls, marker=dict(color=\"#d6a5ff\"))\n",
    "layout = go.Layout(title=\"Missing Values Percentage\", \n",
    "                   xaxis=dict(title=\"Missing Percentage\"), \n",
    "                   height=400, margin=dict(l=300, r=300))\n",
    "figure = go.Figure(data = [trace1], layout = layout)\n",
    "iplot(figure)"
   ]
  },
  {
   "cell_type": "markdown",
   "metadata": {},
   "source": [
    "So we can observe that there are many columns in the dataset having very large number of missing values."
   ]
  },
  {
   "cell_type": "markdown",
   "metadata": {},
   "source": [
    "### We will now delete any column which has all Null or Unique values\n",
    "As from above,we can see that there is higher percentage of data which is missing. Here we are removing those null or unique values."
   ]
  },
  {
   "cell_type": "code",
   "execution_count": 24,
   "metadata": {},
   "outputs": [],
   "source": [
    "#Find any unique value and drop them\n",
    "litedata = litedata.drop(labels=litedata.columns[litedata.nunique()==1],axis=1)"
   ]
  },
  {
   "cell_type": "markdown",
   "metadata": {},
   "source": [
    "## Exploration of the Cleaned Data"
   ]
  },
  {
   "cell_type": "markdown",
   "metadata": {},
   "source": [
    "Analysis of Device Attributes "
   ]
  },
  {
   "cell_type": "code",
   "execution_count": 31,
   "metadata": {},
   "outputs": [
    {
     "data": {
      "application/vnd.plotly.v1+json": {
       "data": [
        {
         "marker": {
          "color": "#fca6da"
         },
         "orientation": "h",
         "type": "bar",
         "uid": "a90c7ef4-8a49-469e-b291-f78f0d545dba",
         "x": [
          728,
          5284,
          13988
         ],
         "xaxis": "x",
         "y": [
          "tablet",
          "mobile",
          "desktop"
         ],
         "yaxis": "y"
        },
        {
         "marker": {
          "color": "#d6a5ff"
         },
         "orientation": "h",
         "type": "bar",
         "uid": "be114c2b-6f9d-457a-a783-ff4ce1c97d11",
         "x": [
          11,
          14,
          20,
          36,
          48,
          134,
          137,
          139,
          191,
          267,
          300,
          530,
          829,
          3340,
          13978
         ],
         "xaxis": "x2",
         "y": [
          "Android Browser",
          "Coc Coc",
          "Amazon Silk",
          "YaBrowser",
          "UC Browser",
          "Opera",
          "Samsung Internet",
          "Safari (in-app)",
          "Opera Mini",
          "Edge",
          "Android Webview",
          "Internet Explorer",
          "Firefox",
          "Safari",
          "Chrome"
         ],
         "yaxis": "y2"
        },
        {
         "marker": {
          "color": "#f4d39c"
         },
         "orientation": "h",
         "type": "bar",
         "uid": "effbb183-b870-4048-adca-64bce0eb44f8",
         "x": [
          2,
          2,
          4,
          4,
          5,
          9,
          12,
          31,
          131,
          620,
          812,
          2583,
          3205,
          4928,
          7651
         ],
         "xaxis": "x3",
         "y": [
          "Firefox OS",
          "Nintendo Wii",
          "OS/2",
          "BlackBerry",
          "Xbox",
          "Samsung",
          "Tizen",
          "Windows Phone",
          "(not set)",
          "Chrome OS",
          "Linux",
          "iOS",
          "Android",
          "Macintosh",
          "Windows"
         ],
         "yaxis": "y3"
        }
       ],
       "layout": {
        "annotations": [
         {
          "font": {
           "size": 16
          },
          "showarrow": false,
          "text": "Visits: Category",
          "x": 0.14444444444444446,
          "xanchor": "center",
          "xref": "paper",
          "y": 1,
          "yanchor": "bottom",
          "yref": "paper"
         },
         {
          "font": {
           "size": 16
          },
          "showarrow": false,
          "text": "Visits: Browser",
          "x": 0.5,
          "xanchor": "center",
          "xref": "paper",
          "y": 1,
          "yanchor": "bottom",
          "yref": "paper"
         },
         {
          "font": {
           "size": 16
          },
          "showarrow": false,
          "text": "Visits: OS",
          "x": 0.8555555555555556,
          "xanchor": "center",
          "xref": "paper",
          "y": 1,
          "yanchor": "bottom",
          "yref": "paper"
         }
        ],
        "height": 400,
        "showlegend": false,
        "title": "Visits by Device Attributes",
        "xaxis": {
         "anchor": "y",
         "domain": [
          0,
          0.2888888888888889
         ]
        },
        "xaxis2": {
         "anchor": "y2",
         "domain": [
          0.35555555555555557,
          0.6444444444444445
         ]
        },
        "xaxis3": {
         "anchor": "y3",
         "domain": [
          0.7111111111111111,
          1
         ]
        },
        "yaxis": {
         "anchor": "x",
         "domain": [
          0,
          1
         ]
        },
        "yaxis2": {
         "anchor": "x2",
         "domain": [
          0,
          1
         ]
        },
        "yaxis3": {
         "anchor": "x3",
         "domain": [
          0,
          1
         ]
        }
       }
      },
      "text/html": [
       "<div id=\"376f0560-d9e4-45f5-a761-136ce1fe1302\" style=\"height: 400px; width: 100%;\" class=\"plotly-graph-div\"></div><script type=\"text/javascript\">require([\"plotly\"], function(Plotly) { window.PLOTLYENV=window.PLOTLYENV || {};window.PLOTLYENV.BASE_URL=\"https://plot.ly\";Plotly.newPlot(\"376f0560-d9e4-45f5-a761-136ce1fe1302\", [{\"marker\": {\"color\": \"#fca6da\"}, \"orientation\": \"h\", \"x\": [728, 5284, 13988], \"y\": [\"tablet\", \"mobile\", \"desktop\"], \"type\": \"bar\", \"uid\": \"a90c7ef4-8a49-469e-b291-f78f0d545dba\", \"xaxis\": \"x\", \"yaxis\": \"y\"}, {\"marker\": {\"color\": \"#d6a5ff\"}, \"orientation\": \"h\", \"x\": [11, 14, 20, 36, 48, 134, 137, 139, 191, 267, 300, 530, 829, 3340, 13978], \"y\": [\"Android Browser\", \"Coc Coc\", \"Amazon Silk\", \"YaBrowser\", \"UC Browser\", \"Opera\", \"Samsung Internet\", \"Safari (in-app)\", \"Opera Mini\", \"Edge\", \"Android Webview\", \"Internet Explorer\", \"Firefox\", \"Safari\", \"Chrome\"], \"type\": \"bar\", \"uid\": \"be114c2b-6f9d-457a-a783-ff4ce1c97d11\", \"xaxis\": \"x2\", \"yaxis\": \"y2\"}, {\"marker\": {\"color\": \"#f4d39c\"}, \"orientation\": \"h\", \"x\": [2, 2, 4, 4, 5, 9, 12, 31, 131, 620, 812, 2583, 3205, 4928, 7651], \"y\": [\"Firefox OS\", \"Nintendo Wii\", \"OS/2\", \"BlackBerry\", \"Xbox\", \"Samsung\", \"Tizen\", \"Windows Phone\", \"(not set)\", \"Chrome OS\", \"Linux\", \"iOS\", \"Android\", \"Macintosh\", \"Windows\"], \"type\": \"bar\", \"uid\": \"effbb183-b870-4048-adca-64bce0eb44f8\", \"xaxis\": \"x3\", \"yaxis\": \"y3\"}], {\"annotations\": [{\"font\": {\"size\": 16}, \"showarrow\": false, \"text\": \"Visits: Category\", \"x\": 0.14444444444444446, \"xanchor\": \"center\", \"xref\": \"paper\", \"y\": 1.0, \"yanchor\": \"bottom\", \"yref\": \"paper\"}, {\"font\": {\"size\": 16}, \"showarrow\": false, \"text\": \"Visits: Browser\", \"x\": 0.5, \"xanchor\": \"center\", \"xref\": \"paper\", \"y\": 1.0, \"yanchor\": \"bottom\", \"yref\": \"paper\"}, {\"font\": {\"size\": 16}, \"showarrow\": false, \"text\": \"Visits: OS\", \"x\": 0.8555555555555556, \"xanchor\": \"center\", \"xref\": \"paper\", \"y\": 1.0, \"yanchor\": \"bottom\", \"yref\": \"paper\"}], \"xaxis\": {\"anchor\": \"y\", \"domain\": [0.0, 0.2888888888888889]}, \"yaxis\": {\"anchor\": \"x\", \"domain\": [0.0, 1.0]}, \"xaxis2\": {\"anchor\": \"y2\", \"domain\": [0.35555555555555557, 0.6444444444444445]}, \"yaxis2\": {\"anchor\": \"x2\", \"domain\": [0.0, 1.0]}, \"xaxis3\": {\"anchor\": \"y3\", \"domain\": [0.7111111111111111, 1.0]}, \"yaxis3\": {\"anchor\": \"x3\", \"domain\": [0.0, 1.0]}, \"height\": 400, \"showlegend\": false, \"title\": \"Visits by Device Attributes\"}, {\"showLink\": true, \"linkText\": \"Export to plot.ly\"})});</script><script type=\"text/javascript\">window.addEventListener(\"resize\", function(){window._Plotly.Plots.resize(document.getElementById(\"376f0560-d9e4-45f5-a761-136ce1fe1302\"));});</script>"
      ],
      "text/vnd.plotly.v1+html": [
       "<div id=\"376f0560-d9e4-45f5-a761-136ce1fe1302\" style=\"height: 400px; width: 100%;\" class=\"plotly-graph-div\"></div><script type=\"text/javascript\">require([\"plotly\"], function(Plotly) { window.PLOTLYENV=window.PLOTLYENV || {};window.PLOTLYENV.BASE_URL=\"https://plot.ly\";Plotly.newPlot(\"376f0560-d9e4-45f5-a761-136ce1fe1302\", [{\"marker\": {\"color\": \"#fca6da\"}, \"orientation\": \"h\", \"x\": [728, 5284, 13988], \"y\": [\"tablet\", \"mobile\", \"desktop\"], \"type\": \"bar\", \"uid\": \"a90c7ef4-8a49-469e-b291-f78f0d545dba\", \"xaxis\": \"x\", \"yaxis\": \"y\"}, {\"marker\": {\"color\": \"#d6a5ff\"}, \"orientation\": \"h\", \"x\": [11, 14, 20, 36, 48, 134, 137, 139, 191, 267, 300, 530, 829, 3340, 13978], \"y\": [\"Android Browser\", \"Coc Coc\", \"Amazon Silk\", \"YaBrowser\", \"UC Browser\", \"Opera\", \"Samsung Internet\", \"Safari (in-app)\", \"Opera Mini\", \"Edge\", \"Android Webview\", \"Internet Explorer\", \"Firefox\", \"Safari\", \"Chrome\"], \"type\": \"bar\", \"uid\": \"be114c2b-6f9d-457a-a783-ff4ce1c97d11\", \"xaxis\": \"x2\", \"yaxis\": \"y2\"}, {\"marker\": {\"color\": \"#f4d39c\"}, \"orientation\": \"h\", \"x\": [2, 2, 4, 4, 5, 9, 12, 31, 131, 620, 812, 2583, 3205, 4928, 7651], \"y\": [\"Firefox OS\", \"Nintendo Wii\", \"OS/2\", \"BlackBerry\", \"Xbox\", \"Samsung\", \"Tizen\", \"Windows Phone\", \"(not set)\", \"Chrome OS\", \"Linux\", \"iOS\", \"Android\", \"Macintosh\", \"Windows\"], \"type\": \"bar\", \"uid\": \"effbb183-b870-4048-adca-64bce0eb44f8\", \"xaxis\": \"x3\", \"yaxis\": \"y3\"}], {\"annotations\": [{\"font\": {\"size\": 16}, \"showarrow\": false, \"text\": \"Visits: Category\", \"x\": 0.14444444444444446, \"xanchor\": \"center\", \"xref\": \"paper\", \"y\": 1.0, \"yanchor\": \"bottom\", \"yref\": \"paper\"}, {\"font\": {\"size\": 16}, \"showarrow\": false, \"text\": \"Visits: Browser\", \"x\": 0.5, \"xanchor\": \"center\", \"xref\": \"paper\", \"y\": 1.0, \"yanchor\": \"bottom\", \"yref\": \"paper\"}, {\"font\": {\"size\": 16}, \"showarrow\": false, \"text\": \"Visits: OS\", \"x\": 0.8555555555555556, \"xanchor\": \"center\", \"xref\": \"paper\", \"y\": 1.0, \"yanchor\": \"bottom\", \"yref\": \"paper\"}], \"xaxis\": {\"anchor\": \"y\", \"domain\": [0.0, 0.2888888888888889]}, \"yaxis\": {\"anchor\": \"x\", \"domain\": [0.0, 1.0]}, \"xaxis2\": {\"anchor\": \"y2\", \"domain\": [0.35555555555555557, 0.6444444444444445]}, \"yaxis2\": {\"anchor\": \"x2\", \"domain\": [0.0, 1.0]}, \"xaxis3\": {\"anchor\": \"y3\", \"domain\": [0.7111111111111111, 1.0]}, \"yaxis3\": {\"anchor\": \"x3\", \"domain\": [0.0, 1.0]}, \"height\": 400, \"showlegend\": false, \"title\": \"Visits by Device Attributes\"}, {\"showLink\": true, \"linkText\": \"Export to plot.ly\"})});</script><script type=\"text/javascript\">window.addEventListener(\"resize\", function(){window._Plotly.Plots.resize(document.getElementById(\"376f0560-d9e4-45f5-a761-136ce1fe1302\"));});</script>"
      ]
     },
     "metadata": {},
     "output_type": "display_data"
    }
   ],
   "source": [
    "device_cols = [\"browser\", \"deviceCategory\", \"operatingSystem\"]\n",
    "colors = [\"#d6a5ff\", \"#fca6da\", \"#f4d39c\", \"#a9fcca\"]\n",
    "traces = []\n",
    "for i, col in enumerate(device_cols):\n",
    "    t = litedata[col].value_counts()\n",
    "    traces.append(go.Bar(marker=dict(color=colors[i]),orientation=\"h\", y = t.index[:15][::-1], x = t.values[:15][::-1]))\n",
    "fig = tools.make_subplots(rows=1, cols=3, subplot_titles=[\"Visits: Category\", \"Visits: Browser\",\"Visits: OS\"], print_grid=False)\n",
    "fig.append_trace(traces[1], 1, 1)\n",
    "fig.append_trace(traces[0], 1, 2)\n",
    "fig.append_trace(traces[2], 1, 3)\n",
    "fig['layout'].update(height=400, showlegend=False, title=\"Visits by Device Attributes\")\n",
    "iplot(fig)"
   ]
  },
  {
   "cell_type": "code",
   "execution_count": 32,
   "metadata": {},
   "outputs": [
    {
     "data": {
      "application/vnd.plotly.v1+json": {
       "data": [
        {
         "marker": {
          "color": "green",
          "opacity": 0.5
         },
         "orientation": "h",
         "type": "bar",
         "uid": "1237531d-6f48-4a34-b7a4-0ffe00251440",
         "x": [
          49828823.52941176,
          63715000,
          115039425.28735632
         ],
         "xaxis": "x",
         "y": [
          "mobile",
          "tablet",
          "desktop"
         ],
         "yaxis": "y"
        },
        {
         "marker": {
          "color": "red",
          "opacity": 0.5
         },
         "orientation": "h",
         "type": "bar",
         "uid": "a2a2d29e-b78b-4d65-a4f5-ec7f1b9faf8d",
         "x": [
          13483333.333333334,
          13490000,
          16970000,
          42000000,
          60222000,
          116734795.32163742
         ],
         "xaxis": "x2",
         "y": [
          "Edge",
          "Firefox",
          "Safari (in-app)",
          "Internet Explorer",
          "Safari",
          "Chrome"
         ],
         "yaxis": "y2"
        },
        {
         "marker": {
          "color": "purple",
          "opacity": 0.5
         },
         "orientation": "h",
         "type": "bar",
         "uid": "46bdd67d-d1c9-445b-8033-90bfd008dfe0",
         "x": [
          37927500,
          42800000,
          79565000,
          106688529.41176471,
          116755585.58558558,
          164332222.2222222
         ],
         "xaxis": "x3",
         "y": [
          "iOS",
          "Linux",
          "Android",
          "Windows",
          "Macintosh",
          "Chrome OS"
         ],
         "yaxis": "y3"
        }
       ],
       "layout": {
        "annotations": [
         {
          "font": {
           "size": 16
          },
          "showarrow": false,
          "text": "Mean Revenue: Category",
          "x": 0.14444444444444446,
          "xanchor": "center",
          "xref": "paper",
          "y": 1,
          "yanchor": "bottom",
          "yref": "paper"
         },
         {
          "font": {
           "size": 16
          },
          "showarrow": false,
          "text": "Mean Revenue: Browser",
          "x": 0.5,
          "xanchor": "center",
          "xref": "paper",
          "y": 1,
          "yanchor": "bottom",
          "yref": "paper"
         },
         {
          "font": {
           "size": 16
          },
          "showarrow": false,
          "text": "Mean Revenue: OS",
          "x": 0.8555555555555556,
          "xanchor": "center",
          "xref": "paper",
          "y": 1,
          "yanchor": "bottom",
          "yref": "paper"
         }
        ],
        "height": 400,
        "showlegend": false,
        "title": "Mean Revenue by Device Attributes",
        "xaxis": {
         "anchor": "y",
         "domain": [
          0,
          0.2888888888888889
         ]
        },
        "xaxis2": {
         "anchor": "y2",
         "domain": [
          0.35555555555555557,
          0.6444444444444445
         ]
        },
        "xaxis3": {
         "anchor": "y3",
         "domain": [
          0.7111111111111111,
          1
         ]
        },
        "yaxis": {
         "anchor": "x",
         "domain": [
          0,
          1
         ]
        },
        "yaxis2": {
         "anchor": "x2",
         "domain": [
          0,
          1
         ]
        },
        "yaxis3": {
         "anchor": "x3",
         "domain": [
          0,
          1
         ]
        }
       }
      },
      "text/html": [
       "<div id=\"a24ae17d-e245-448b-966b-9091a45ef5e6\" style=\"height: 400px; width: 100%;\" class=\"plotly-graph-div\"></div><script type=\"text/javascript\">require([\"plotly\"], function(Plotly) { window.PLOTLYENV=window.PLOTLYENV || {};window.PLOTLYENV.BASE_URL=\"https://plot.ly\";Plotly.newPlot(\"a24ae17d-e245-448b-966b-9091a45ef5e6\", [{\"marker\": {\"color\": \"green\", \"opacity\": 0.5}, \"orientation\": \"h\", \"x\": [49828823.52941176, 63715000.0, 115039425.28735632], \"y\": [\"mobile\", \"tablet\", \"desktop\"], \"type\": \"bar\", \"uid\": \"1237531d-6f48-4a34-b7a4-0ffe00251440\", \"xaxis\": \"x\", \"yaxis\": \"y\"}, {\"marker\": {\"color\": \"red\", \"opacity\": 0.5}, \"orientation\": \"h\", \"x\": [13483333.333333334, 13490000.0, 16970000.0, 42000000.0, 60222000.0, 116734795.32163742], \"y\": [\"Edge\", \"Firefox\", \"Safari (in-app)\", \"Internet Explorer\", \"Safari\", \"Chrome\"], \"type\": \"bar\", \"uid\": \"a2a2d29e-b78b-4d65-a4f5-ec7f1b9faf8d\", \"xaxis\": \"x2\", \"yaxis\": \"y2\"}, {\"marker\": {\"color\": \"purple\", \"opacity\": 0.5}, \"orientation\": \"h\", \"x\": [37927500.0, 42800000.0, 79565000.0, 106688529.41176471, 116755585.58558558, 164332222.2222222], \"y\": [\"iOS\", \"Linux\", \"Android\", \"Windows\", \"Macintosh\", \"Chrome OS\"], \"type\": \"bar\", \"uid\": \"46bdd67d-d1c9-445b-8033-90bfd008dfe0\", \"xaxis\": \"x3\", \"yaxis\": \"y3\"}], {\"annotations\": [{\"font\": {\"size\": 16}, \"showarrow\": false, \"text\": \"Mean Revenue: Category\", \"x\": 0.14444444444444446, \"xanchor\": \"center\", \"xref\": \"paper\", \"y\": 1.0, \"yanchor\": \"bottom\", \"yref\": \"paper\"}, {\"font\": {\"size\": 16}, \"showarrow\": false, \"text\": \"Mean Revenue: Browser\", \"x\": 0.5, \"xanchor\": \"center\", \"xref\": \"paper\", \"y\": 1.0, \"yanchor\": \"bottom\", \"yref\": \"paper\"}, {\"font\": {\"size\": 16}, \"showarrow\": false, \"text\": \"Mean Revenue: OS\", \"x\": 0.8555555555555556, \"xanchor\": \"center\", \"xref\": \"paper\", \"y\": 1.0, \"yanchor\": \"bottom\", \"yref\": \"paper\"}], \"xaxis\": {\"anchor\": \"y\", \"domain\": [0.0, 0.2888888888888889]}, \"yaxis\": {\"anchor\": \"x\", \"domain\": [0.0, 1.0]}, \"xaxis2\": {\"anchor\": \"y2\", \"domain\": [0.35555555555555557, 0.6444444444444445]}, \"yaxis2\": {\"anchor\": \"x2\", \"domain\": [0.0, 1.0]}, \"xaxis3\": {\"anchor\": \"y3\", \"domain\": [0.7111111111111111, 1.0]}, \"yaxis3\": {\"anchor\": \"x3\", \"domain\": [0.0, 1.0]}, \"height\": 400, \"showlegend\": false, \"title\": \"Mean Revenue by Device Attributes\"}, {\"showLink\": true, \"linkText\": \"Export to plot.ly\"})});</script><script type=\"text/javascript\">window.addEventListener(\"resize\", function(){window._Plotly.Plots.resize(document.getElementById(\"a24ae17d-e245-448b-966b-9091a45ef5e6\"));});</script>"
      ],
      "text/vnd.plotly.v1+html": [
       "<div id=\"a24ae17d-e245-448b-966b-9091a45ef5e6\" style=\"height: 400px; width: 100%;\" class=\"plotly-graph-div\"></div><script type=\"text/javascript\">require([\"plotly\"], function(Plotly) { window.PLOTLYENV=window.PLOTLYENV || {};window.PLOTLYENV.BASE_URL=\"https://plot.ly\";Plotly.newPlot(\"a24ae17d-e245-448b-966b-9091a45ef5e6\", [{\"marker\": {\"color\": \"green\", \"opacity\": 0.5}, \"orientation\": \"h\", \"x\": [49828823.52941176, 63715000.0, 115039425.28735632], \"y\": [\"mobile\", \"tablet\", \"desktop\"], \"type\": \"bar\", \"uid\": \"1237531d-6f48-4a34-b7a4-0ffe00251440\", \"xaxis\": \"x\", \"yaxis\": \"y\"}, {\"marker\": {\"color\": \"red\", \"opacity\": 0.5}, \"orientation\": \"h\", \"x\": [13483333.333333334, 13490000.0, 16970000.0, 42000000.0, 60222000.0, 116734795.32163742], \"y\": [\"Edge\", \"Firefox\", \"Safari (in-app)\", \"Internet Explorer\", \"Safari\", \"Chrome\"], \"type\": \"bar\", \"uid\": \"a2a2d29e-b78b-4d65-a4f5-ec7f1b9faf8d\", \"xaxis\": \"x2\", \"yaxis\": \"y2\"}, {\"marker\": {\"color\": \"purple\", \"opacity\": 0.5}, \"orientation\": \"h\", \"x\": [37927500.0, 42800000.0, 79565000.0, 106688529.41176471, 116755585.58558558, 164332222.2222222], \"y\": [\"iOS\", \"Linux\", \"Android\", \"Windows\", \"Macintosh\", \"Chrome OS\"], \"type\": \"bar\", \"uid\": \"46bdd67d-d1c9-445b-8033-90bfd008dfe0\", \"xaxis\": \"x3\", \"yaxis\": \"y3\"}], {\"annotations\": [{\"font\": {\"size\": 16}, \"showarrow\": false, \"text\": \"Mean Revenue: Category\", \"x\": 0.14444444444444446, \"xanchor\": \"center\", \"xref\": \"paper\", \"y\": 1.0, \"yanchor\": \"bottom\", \"yref\": \"paper\"}, {\"font\": {\"size\": 16}, \"showarrow\": false, \"text\": \"Mean Revenue: Browser\", \"x\": 0.5, \"xanchor\": \"center\", \"xref\": \"paper\", \"y\": 1.0, \"yanchor\": \"bottom\", \"yref\": \"paper\"}, {\"font\": {\"size\": 16}, \"showarrow\": false, \"text\": \"Mean Revenue: OS\", \"x\": 0.8555555555555556, \"xanchor\": \"center\", \"xref\": \"paper\", \"y\": 1.0, \"yanchor\": \"bottom\", \"yref\": \"paper\"}], \"xaxis\": {\"anchor\": \"y\", \"domain\": [0.0, 0.2888888888888889]}, \"yaxis\": {\"anchor\": \"x\", \"domain\": [0.0, 1.0]}, \"xaxis2\": {\"anchor\": \"y2\", \"domain\": [0.35555555555555557, 0.6444444444444445]}, \"yaxis2\": {\"anchor\": \"x2\", \"domain\": [0.0, 1.0]}, \"xaxis3\": {\"anchor\": \"y3\", \"domain\": [0.7111111111111111, 1.0]}, \"yaxis3\": {\"anchor\": \"x3\", \"domain\": [0.0, 1.0]}, \"height\": 400, \"showlegend\": false, \"title\": \"Mean Revenue by Device Attributes\"}, {\"showLink\": true, \"linkText\": \"Export to plot.ly\"})});</script><script type=\"text/javascript\">window.addEventListener(\"resize\", function(){window._Plotly.Plots.resize(document.getElementById(\"a24ae17d-e245-448b-966b-9091a45ef5e6\"));});</script>"
      ]
     },
     "metadata": {},
     "output_type": "display_data"
    }
   ],
   "source": [
    "litedata[\"totals_transactionRevenue\"] = litedata[\"totals_transactionRevenue\"].astype('float')\n",
    "device_cols = [\"browser\", \"deviceCategory\", \"operatingSystem\"]\n",
    "fig = tools.make_subplots(rows=1, cols=3, subplot_titles=[\"Mean Revenue: Category\", \"Mean Revenue: Browser\",\"Mean Revenue: OS\"], print_grid=False)\n",
    "colors = [\"red\", \"green\", \"purple\"]\n",
    "trs = []\n",
    "for i, col in enumerate(device_cols):\n",
    "    tmp = litedata.groupby(col).agg({\"totals_transactionRevenue\": \"mean\"}).reset_index().rename(columns={\"totals_transactionRevenue\" : \"Mean Revenue\"})\n",
    "    tmp = tmp.dropna().sort_values(\"Mean Revenue\", ascending = False)\n",
    "    tr = go.Bar(x = tmp[\"Mean Revenue\"][::-1], orientation=\"h\", marker=dict(opacity=0.5, color=colors[i]), y = tmp[col][::-1])\n",
    "    trs.append(tr)\n",
    "fig.append_trace(trs[1], 1, 1)\n",
    "fig.append_trace(trs[0], 1, 2)\n",
    "fig.append_trace(trs[2], 1, 3)\n",
    "fig['layout'].update(height=400, showlegend=False, title=\"Mean Revenue by Device Attributes\")\n",
    "iplot(fig)"
   ]
  },
  {
   "cell_type": "markdown",
   "metadata": {},
   "source": [
    "Analysis of Geo segmentation attributes"
   ]
  },
  {
   "cell_type": "code",
   "execution_count": 29,
   "metadata": {},
   "outputs": [
    {
     "data": {
      "application/vnd.plotly.v1+json": {
       "data": [
        {
         "marker": {
          "color": "#d6a5ff"
         },
         "type": "bar",
         "uid": "8acf0674-dbab-4c5f-b7cf-64d2f3f7c46f",
         "x": [
          "Americas",
          "Europe",
          "Asia",
          "Africa",
          "Oceania",
          "(not set)"
         ],
         "xaxis": "x",
         "y": [
          10521,
          4511,
          4253,
          357,
          337,
          21
         ],
         "yaxis": "y"
        },
        {
         "marker": {
          "color": "#fca6da"
         },
         "type": "bar",
         "uid": "676d2d8c-0ff7-4d57-8891-a7948dd49be4",
         "x": [
          "Northern America",
          "Western Europe",
          "Northern Europe",
          "Southern Asia",
          "Eastern Asia",
          "Southeast Asia",
          "Eastern Europe",
          "South America",
          "Southern Europe",
          "Western Asia",
          "Central America",
          "Australasia",
          "Northern Africa",
          "Southern Africa",
          "Western Africa",
          "Eastern Africa",
          "Caribbean",
          "Central Asia",
          "(not set)",
          "Middle Africa"
         ],
         "xaxis": "x2",
         "y": [
          9287,
          1460,
          1312,
          1270,
          1236,
          1084,
          948,
          842,
          791,
          639,
          342,
          335,
          139,
          73,
          68,
          68,
          50,
          24,
          21,
          9
         ],
         "yaxis": "y2"
        }
       ],
       "layout": {
        "annotations": [
         {
          "font": {
           "size": 16
          },
          "showarrow": false,
          "text": "Visits : GeoNetwork Continent",
          "x": 0.225,
          "xanchor": "center",
          "xref": "paper",
          "y": 1,
          "yanchor": "bottom",
          "yref": "paper"
         },
         {
          "font": {
           "size": 16
          },
          "showarrow": false,
          "text": "Visits : GeoNetwork subContinent",
          "x": 0.775,
          "xanchor": "center",
          "xref": "paper",
          "y": 1,
          "yanchor": "bottom",
          "yref": "paper"
         }
        ],
        "height": 400,
        "margin": {
         "b": 150
        },
        "showlegend": false,
        "xaxis": {
         "anchor": "y",
         "domain": [
          0,
          0.45
         ]
        },
        "xaxis2": {
         "anchor": "y2",
         "domain": [
          0.55,
          1
         ]
        },
        "yaxis": {
         "anchor": "x",
         "domain": [
          0,
          1
         ]
        },
        "yaxis2": {
         "anchor": "x2",
         "domain": [
          0,
          1
         ]
        }
       }
      },
      "text/html": [
       "<div id=\"78fdab5f-5b92-42dc-8c00-8c77368027a4\" style=\"height: 400px; width: 100%;\" class=\"plotly-graph-div\"></div><script type=\"text/javascript\">require([\"plotly\"], function(Plotly) { window.PLOTLYENV=window.PLOTLYENV || {};window.PLOTLYENV.BASE_URL=\"https://plot.ly\";Plotly.newPlot(\"78fdab5f-5b92-42dc-8c00-8c77368027a4\", [{\"marker\": {\"color\": \"#d6a5ff\"}, \"x\": [\"Americas\", \"Europe\", \"Asia\", \"Africa\", \"Oceania\", \"(not set)\"], \"y\": [10521, 4511, 4253, 357, 337, 21], \"type\": \"bar\", \"uid\": \"8acf0674-dbab-4c5f-b7cf-64d2f3f7c46f\", \"xaxis\": \"x\", \"yaxis\": \"y\"}, {\"marker\": {\"color\": \"#fca6da\"}, \"x\": [\"Northern America\", \"Western Europe\", \"Northern Europe\", \"Southern Asia\", \"Eastern Asia\", \"Southeast Asia\", \"Eastern Europe\", \"South America\", \"Southern Europe\", \"Western Asia\", \"Central America\", \"Australasia\", \"Northern Africa\", \"Southern Africa\", \"Western Africa\", \"Eastern Africa\", \"Caribbean\", \"Central Asia\", \"(not set)\", \"Middle Africa\"], \"y\": [9287, 1460, 1312, 1270, 1236, 1084, 948, 842, 791, 639, 342, 335, 139, 73, 68, 68, 50, 24, 21, 9], \"type\": \"bar\", \"uid\": \"676d2d8c-0ff7-4d57-8891-a7948dd49be4\", \"xaxis\": \"x2\", \"yaxis\": \"y2\"}], {\"annotations\": [{\"font\": {\"size\": 16}, \"showarrow\": false, \"text\": \"Visits : GeoNetwork Continent\", \"x\": 0.225, \"xanchor\": \"center\", \"xref\": \"paper\", \"y\": 1.0, \"yanchor\": \"bottom\", \"yref\": \"paper\"}, {\"font\": {\"size\": 16}, \"showarrow\": false, \"text\": \"Visits : GeoNetwork subContinent\", \"x\": 0.775, \"xanchor\": \"center\", \"xref\": \"paper\", \"y\": 1.0, \"yanchor\": \"bottom\", \"yref\": \"paper\"}], \"xaxis\": {\"anchor\": \"y\", \"domain\": [0.0, 0.45]}, \"yaxis\": {\"anchor\": \"x\", \"domain\": [0.0, 1.0]}, \"xaxis2\": {\"anchor\": \"y2\", \"domain\": [0.55, 1.0]}, \"yaxis2\": {\"anchor\": \"x2\", \"domain\": [0.0, 1.0]}, \"margin\": {\"b\": 150}, \"height\": 400, \"showlegend\": false}, {\"showLink\": true, \"linkText\": \"Export to plot.ly\"})});</script><script type=\"text/javascript\">window.addEventListener(\"resize\", function(){window._Plotly.Plots.resize(document.getElementById(\"78fdab5f-5b92-42dc-8c00-8c77368027a4\"));});</script>"
      ],
      "text/vnd.plotly.v1+html": [
       "<div id=\"78fdab5f-5b92-42dc-8c00-8c77368027a4\" style=\"height: 400px; width: 100%;\" class=\"plotly-graph-div\"></div><script type=\"text/javascript\">require([\"plotly\"], function(Plotly) { window.PLOTLYENV=window.PLOTLYENV || {};window.PLOTLYENV.BASE_URL=\"https://plot.ly\";Plotly.newPlot(\"78fdab5f-5b92-42dc-8c00-8c77368027a4\", [{\"marker\": {\"color\": \"#d6a5ff\"}, \"x\": [\"Americas\", \"Europe\", \"Asia\", \"Africa\", \"Oceania\", \"(not set)\"], \"y\": [10521, 4511, 4253, 357, 337, 21], \"type\": \"bar\", \"uid\": \"8acf0674-dbab-4c5f-b7cf-64d2f3f7c46f\", \"xaxis\": \"x\", \"yaxis\": \"y\"}, {\"marker\": {\"color\": \"#fca6da\"}, \"x\": [\"Northern America\", \"Western Europe\", \"Northern Europe\", \"Southern Asia\", \"Eastern Asia\", \"Southeast Asia\", \"Eastern Europe\", \"South America\", \"Southern Europe\", \"Western Asia\", \"Central America\", \"Australasia\", \"Northern Africa\", \"Southern Africa\", \"Western Africa\", \"Eastern Africa\", \"Caribbean\", \"Central Asia\", \"(not set)\", \"Middle Africa\"], \"y\": [9287, 1460, 1312, 1270, 1236, 1084, 948, 842, 791, 639, 342, 335, 139, 73, 68, 68, 50, 24, 21, 9], \"type\": \"bar\", \"uid\": \"676d2d8c-0ff7-4d57-8891-a7948dd49be4\", \"xaxis\": \"x2\", \"yaxis\": \"y2\"}], {\"annotations\": [{\"font\": {\"size\": 16}, \"showarrow\": false, \"text\": \"Visits : GeoNetwork Continent\", \"x\": 0.225, \"xanchor\": \"center\", \"xref\": \"paper\", \"y\": 1.0, \"yanchor\": \"bottom\", \"yref\": \"paper\"}, {\"font\": {\"size\": 16}, \"showarrow\": false, \"text\": \"Visits : GeoNetwork subContinent\", \"x\": 0.775, \"xanchor\": \"center\", \"xref\": \"paper\", \"y\": 1.0, \"yanchor\": \"bottom\", \"yref\": \"paper\"}], \"xaxis\": {\"anchor\": \"y\", \"domain\": [0.0, 0.45]}, \"yaxis\": {\"anchor\": \"x\", \"domain\": [0.0, 1.0]}, \"xaxis2\": {\"anchor\": \"y2\", \"domain\": [0.55, 1.0]}, \"yaxis2\": {\"anchor\": \"x2\", \"domain\": [0.0, 1.0]}, \"margin\": {\"b\": 150}, \"height\": 400, \"showlegend\": false}, {\"showLink\": true, \"linkText\": \"Export to plot.ly\"})});</script><script type=\"text/javascript\">window.addEventListener(\"resize\", function(){window._Plotly.Plots.resize(document.getElementById(\"78fdab5f-5b92-42dc-8c00-8c77368027a4\"));});</script>"
      ]
     },
     "metadata": {},
     "output_type": "display_data"
    }
   ],
   "source": [
    "geo_cols = ['city', 'continent','country',\n",
    "            'metro', 'networkDomain', 'region','subContinent']\n",
    "geo_cols = ['continent','subContinent']\n",
    "colors = [\"#d6a5ff\", \"#fca6da\"]\n",
    "fig = tools.make_subplots(rows=1, cols=2, subplot_titles=[\"Visits : GeoNetwork Continent\", \"Visits : GeoNetwork subContinent\"], print_grid=False)\n",
    "trs = []\n",
    "for i,col in enumerate(geo_cols):\n",
    "    t = litedata[col].value_counts()\n",
    "    tr = go.Bar(x = t.index[:20], marker=dict(color=colors[i]), y = t.values[:20])\n",
    "    trs.append(tr)\n",
    "fig.append_trace(trs[0], 1, 1)\n",
    "fig.append_trace(trs[1], 1, 2)\n",
    "fig['layout'].update(height=400, margin=dict(b=150), showlegend=False)\n",
    "iplot(fig)"
   ]
  },
  {
   "cell_type": "code",
   "execution_count": 30,
   "metadata": {},
   "outputs": [
    {
     "data": {
      "application/vnd.plotly.v1+json": {
       "data": [
        {
         "marker": {
          "color": "blue",
          "opacity": 0.5
         },
         "orientation": "v",
         "type": "bar",
         "uid": "794cae11-5f6e-46ec-b4b9-75258b88c001",
         "x": [
          "Asia",
          "Americas"
         ],
         "xaxis": "x",
         "y": [
          150980000,
          108321570.68062827
         ],
         "yaxis": "y"
        },
        {
         "marker": {
          "color": "orange",
          "opacity": 0.5
         },
         "orientation": "v",
         "type": "bar",
         "uid": "574585a3-da5f-4b05-b3cf-d42a183b288b",
         "x": [
          "South America",
          "Eastern Asia",
          "Northern America",
          "Southeast Asia",
          "Caribbean"
         ],
         "xaxis": "x2",
         "y": [
          227000000,
          196420000,
          108161005.29100528,
          105540000,
          19990000
         ],
         "yaxis": "y2"
        }
       ],
       "layout": {
        "annotations": [
         {
          "font": {
           "size": 16
          },
          "showarrow": false,
          "text": "Mean Revenue: Continent",
          "x": 0.225,
          "xanchor": "center",
          "xref": "paper",
          "y": 1,
          "yanchor": "bottom",
          "yref": "paper"
         },
         {
          "font": {
           "size": 16
          },
          "showarrow": false,
          "text": "Mean Revenue: SubContinent",
          "x": 0.775,
          "xanchor": "center",
          "xref": "paper",
          "y": 1,
          "yanchor": "bottom",
          "yref": "paper"
         }
        ],
        "height": 450,
        "margin": {
         "b": 200
        },
        "showlegend": false,
        "xaxis": {
         "anchor": "y",
         "domain": [
          0,
          0.45
         ]
        },
        "xaxis2": {
         "anchor": "y2",
         "domain": [
          0.55,
          1
         ]
        },
        "yaxis": {
         "anchor": "x",
         "domain": [
          0,
          1
         ]
        },
        "yaxis2": {
         "anchor": "x2",
         "domain": [
          0,
          1
         ]
        }
       }
      },
      "text/html": [
       "<div id=\"a73ee0b6-b97f-4443-bc47-b6b4221d9407\" style=\"height: 450px; width: 100%;\" class=\"plotly-graph-div\"></div><script type=\"text/javascript\">require([\"plotly\"], function(Plotly) { window.PLOTLYENV=window.PLOTLYENV || {};window.PLOTLYENV.BASE_URL=\"https://plot.ly\";Plotly.newPlot(\"a73ee0b6-b97f-4443-bc47-b6b4221d9407\", [{\"marker\": {\"color\": \"blue\", \"opacity\": 0.5}, \"orientation\": \"v\", \"x\": [\"Asia\", \"Americas\"], \"y\": [150980000.0, 108321570.68062827], \"type\": \"bar\", \"uid\": \"794cae11-5f6e-46ec-b4b9-75258b88c001\", \"xaxis\": \"x\", \"yaxis\": \"y\"}, {\"marker\": {\"color\": \"orange\", \"opacity\": 0.5}, \"orientation\": \"v\", \"x\": [\"South America\", \"Eastern Asia\", \"Northern America\", \"Southeast Asia\", \"Caribbean\"], \"y\": [227000000.0, 196420000.0, 108161005.29100528, 105540000.0, 19990000.0], \"type\": \"bar\", \"uid\": \"574585a3-da5f-4b05-b3cf-d42a183b288b\", \"xaxis\": \"x2\", \"yaxis\": \"y2\"}], {\"annotations\": [{\"font\": {\"size\": 16}, \"showarrow\": false, \"text\": \"Mean Revenue: Continent\", \"x\": 0.225, \"xanchor\": \"center\", \"xref\": \"paper\", \"y\": 1.0, \"yanchor\": \"bottom\", \"yref\": \"paper\"}, {\"font\": {\"size\": 16}, \"showarrow\": false, \"text\": \"Mean Revenue: SubContinent\", \"x\": 0.775, \"xanchor\": \"center\", \"xref\": \"paper\", \"y\": 1.0, \"yanchor\": \"bottom\", \"yref\": \"paper\"}], \"xaxis\": {\"anchor\": \"y\", \"domain\": [0.0, 0.45]}, \"yaxis\": {\"anchor\": \"x\", \"domain\": [0.0, 1.0]}, \"xaxis2\": {\"anchor\": \"y2\", \"domain\": [0.55, 1.0]}, \"yaxis2\": {\"anchor\": \"x2\", \"domain\": [0.0, 1.0]}, \"margin\": {\"b\": 200}, \"height\": 450, \"showlegend\": false}, {\"showLink\": true, \"linkText\": \"Export to plot.ly\"})});</script><script type=\"text/javascript\">window.addEventListener(\"resize\", function(){window._Plotly.Plots.resize(document.getElementById(\"a73ee0b6-b97f-4443-bc47-b6b4221d9407\"));});</script>"
      ],
      "text/vnd.plotly.v1+html": [
       "<div id=\"a73ee0b6-b97f-4443-bc47-b6b4221d9407\" style=\"height: 450px; width: 100%;\" class=\"plotly-graph-div\"></div><script type=\"text/javascript\">require([\"plotly\"], function(Plotly) { window.PLOTLYENV=window.PLOTLYENV || {};window.PLOTLYENV.BASE_URL=\"https://plot.ly\";Plotly.newPlot(\"a73ee0b6-b97f-4443-bc47-b6b4221d9407\", [{\"marker\": {\"color\": \"blue\", \"opacity\": 0.5}, \"orientation\": \"v\", \"x\": [\"Asia\", \"Americas\"], \"y\": [150980000.0, 108321570.68062827], \"type\": \"bar\", \"uid\": \"794cae11-5f6e-46ec-b4b9-75258b88c001\", \"xaxis\": \"x\", \"yaxis\": \"y\"}, {\"marker\": {\"color\": \"orange\", \"opacity\": 0.5}, \"orientation\": \"v\", \"x\": [\"South America\", \"Eastern Asia\", \"Northern America\", \"Southeast Asia\", \"Caribbean\"], \"y\": [227000000.0, 196420000.0, 108161005.29100528, 105540000.0, 19990000.0], \"type\": \"bar\", \"uid\": \"574585a3-da5f-4b05-b3cf-d42a183b288b\", \"xaxis\": \"x2\", \"yaxis\": \"y2\"}], {\"annotations\": [{\"font\": {\"size\": 16}, \"showarrow\": false, \"text\": \"Mean Revenue: Continent\", \"x\": 0.225, \"xanchor\": \"center\", \"xref\": \"paper\", \"y\": 1.0, \"yanchor\": \"bottom\", \"yref\": \"paper\"}, {\"font\": {\"size\": 16}, \"showarrow\": false, \"text\": \"Mean Revenue: SubContinent\", \"x\": 0.775, \"xanchor\": \"center\", \"xref\": \"paper\", \"y\": 1.0, \"yanchor\": \"bottom\", \"yref\": \"paper\"}], \"xaxis\": {\"anchor\": \"y\", \"domain\": [0.0, 0.45]}, \"yaxis\": {\"anchor\": \"x\", \"domain\": [0.0, 1.0]}, \"xaxis2\": {\"anchor\": \"y2\", \"domain\": [0.55, 1.0]}, \"yaxis2\": {\"anchor\": \"x2\", \"domain\": [0.0, 1.0]}, \"margin\": {\"b\": 200}, \"height\": 450, \"showlegend\": false}, {\"showLink\": true, \"linkText\": \"Export to plot.ly\"})});</script><script type=\"text/javascript\">window.addEventListener(\"resize\", function(){window._Plotly.Plots.resize(document.getElementById(\"a73ee0b6-b97f-4443-bc47-b6b4221d9407\"));});</script>"
      ]
     },
     "metadata": {},
     "output_type": "display_data"
    }
   ],
   "source": [
    "geo_cols = ['continent','subContinent']\n",
    "fig = tools.make_subplots(rows=1, cols=2, subplot_titles=[\"Mean Revenue: Continent\", \"Mean Revenue: SubContinent\"], print_grid=False)\n",
    "colors = [\"blue\", \"orange\"]\n",
    "trs = []\n",
    "for i, col in enumerate(geo_cols):\n",
    "    tmp = litedata.groupby(col).agg({\"totals_transactionRevenue\": \"mean\"}).reset_index().rename(columns={\"totals_transactionRevenue\" : \"Mean Revenue\"})\n",
    "    tmp = tmp.dropna().sort_values(\"Mean Revenue\", ascending = False)\n",
    "    tr = go.Bar(y = tmp[\"Mean Revenue\"], orientation=\"v\", marker=dict(opacity=0.5, color=colors[i]), x= tmp[col])\n",
    "    trs.append(tr)\n",
    "fig.append_trace(trs[0], 1, 1)\n",
    "fig.append_trace(trs[1], 1, 2)\n",
    "fig['layout'].update(height=450, margin=dict(b=200), showlegend=False)\n",
    "iplot(fig)"
   ]
  },
  {
   "cell_type": "code",
   "execution_count": 34,
   "metadata": {},
   "outputs": [
    {
     "data": {
      "application/vnd.plotly.v1+json": {
       "data": [
        {
         "marker": {
          "color": "#d6a5ff"
         },
         "type": "bar",
         "uid": "51e79407-f6d5-4d57-bb9a-a2182fcb3574",
         "x": [
          "Data Share Promo",
          "1000557 | GA | US | en | Hybrid | GDN Text+Banner | AS",
          "AW - Dynamic Search Ads Whole Site",
          "1000557 | GA | US | en | Hybrid | GDN Remarketing",
          "Run of Network Line Item",
          "AW - Accessories",
          "\"google + redesign/Accessories March 17\" All Users",
          "Page: contains \"/google+redesign/drinkware\"",
          "\"google + redesign/Accessories March 17\" All Users Similar Audiences",
          "Page: contains \"/google+redesign/bags\" All Users",
          "Smart Display Campaign",
          "Page: contains \"/google+redesign/office\"",
          "Page: contains \"/google+redesign/drinkware\" Similar Audiences",
          "Technology/Technophiles",
          "AW - Electronics",
          "Page: contains \"/google+redesign/bags\" 1 Day"
         ],
         "xaxis": "x",
         "y": [
          425,
          181,
          165,
          80,
          25,
          21,
          10,
          9,
          6,
          6,
          5,
          4,
          2,
          1,
          1,
          1
         ],
         "yaxis": "y"
        },
        {
         "marker": {
          "color": "#f4d39c"
         },
         "type": "bar",
         "uid": "d5ef279a-86eb-47f1-879d-ecb8b0207de7",
         "x": [
          "(none)",
          "organic",
          "referral",
          "cpc",
          "affiliate",
          "cpm"
         ],
         "xaxis": "x2",
         "y": [
          8198,
          6329,
          4398,
          559,
          425,
          91
         ],
         "yaxis": "y2"
        }
       ],
       "layout": {
        "annotations": [
         {
          "font": {
           "size": 16
          },
          "showarrow": false,
          "text": "TrafficSource Campaign",
          "x": 0.225,
          "xanchor": "center",
          "xref": "paper",
          "y": 1,
          "yanchor": "bottom",
          "yref": "paper"
         },
         {
          "font": {
           "size": 16
          },
          "showarrow": false,
          "text": "TrafficSource Medium",
          "x": 0.775,
          "xanchor": "center",
          "xref": "paper",
          "y": 1,
          "yanchor": "bottom",
          "yref": "paper"
         }
        ],
        "height": 400,
        "margin": {
         "b": 100
        },
        "showlegend": false,
        "xaxis": {
         "anchor": "y",
         "domain": [
          0,
          0.45
         ]
        },
        "xaxis2": {
         "anchor": "y2",
         "domain": [
          0.55,
          1
         ]
        },
        "yaxis": {
         "anchor": "x",
         "domain": [
          0,
          1
         ]
        },
        "yaxis2": {
         "anchor": "x2",
         "domain": [
          0,
          1
         ]
        }
       }
      },
      "text/html": [
       "<div id=\"acb86b05-d83b-436b-a9fe-7cff3394f467\" style=\"height: 400px; width: 100%;\" class=\"plotly-graph-div\"></div><script type=\"text/javascript\">require([\"plotly\"], function(Plotly) { window.PLOTLYENV=window.PLOTLYENV || {};window.PLOTLYENV.BASE_URL=\"https://plot.ly\";Plotly.newPlot(\"acb86b05-d83b-436b-a9fe-7cff3394f467\", [{\"marker\": {\"color\": \"#d6a5ff\"}, \"x\": [\"Data Share Promo\", \"1000557 | GA | US | en | Hybrid | GDN Text+Banner | AS\", \"AW - Dynamic Search Ads Whole Site\", \"1000557 | GA | US | en | Hybrid | GDN Remarketing\", \"Run of Network Line Item\", \"AW - Accessories\", \"\\\"google + redesign/Accessories March 17\\\" All Users\", \"Page: contains \\\"/google+redesign/drinkware\\\"\", \"\\\"google + redesign/Accessories March 17\\\" All Users Similar Audiences\", \"Page: contains \\\"/google+redesign/bags\\\" All Users\", \"Smart Display Campaign\", \"Page: contains \\\"/google+redesign/office\\\"\", \"Page: contains \\\"/google+redesign/drinkware\\\" Similar Audiences\", \"Technology/Technophiles\", \"AW - Electronics\", \"Page: contains \\\"/google+redesign/bags\\\" 1 Day\"], \"y\": [425, 181, 165, 80, 25, 21, 10, 9, 6, 6, 5, 4, 2, 1, 1, 1], \"type\": \"bar\", \"uid\": \"51e79407-f6d5-4d57-bb9a-a2182fcb3574\", \"xaxis\": \"x\", \"yaxis\": \"y\"}, {\"marker\": {\"color\": \"#f4d39c\"}, \"x\": [\"(none)\", \"organic\", \"referral\", \"cpc\", \"affiliate\", \"cpm\"], \"y\": [8198, 6329, 4398, 559, 425, 91], \"type\": \"bar\", \"uid\": \"d5ef279a-86eb-47f1-879d-ecb8b0207de7\", \"xaxis\": \"x2\", \"yaxis\": \"y2\"}], {\"annotations\": [{\"font\": {\"size\": 16}, \"showarrow\": false, \"text\": \"TrafficSource Campaign\", \"x\": 0.225, \"xanchor\": \"center\", \"xref\": \"paper\", \"y\": 1.0, \"yanchor\": \"bottom\", \"yref\": \"paper\"}, {\"font\": {\"size\": 16}, \"showarrow\": false, \"text\": \"TrafficSource Medium\", \"x\": 0.775, \"xanchor\": \"center\", \"xref\": \"paper\", \"y\": 1.0, \"yanchor\": \"bottom\", \"yref\": \"paper\"}], \"xaxis\": {\"anchor\": \"y\", \"domain\": [0.0, 0.45]}, \"yaxis\": {\"anchor\": \"x\", \"domain\": [0.0, 1.0]}, \"xaxis2\": {\"anchor\": \"y2\", \"domain\": [0.55, 1.0]}, \"yaxis2\": {\"anchor\": \"x2\", \"domain\": [0.0, 1.0]}, \"margin\": {\"b\": 100}, \"height\": 400, \"showlegend\": false}, {\"showLink\": true, \"linkText\": \"Export to plot.ly\"})});</script><script type=\"text/javascript\">window.addEventListener(\"resize\", function(){window._Plotly.Plots.resize(document.getElementById(\"acb86b05-d83b-436b-a9fe-7cff3394f467\"));});</script>"
      ],
      "text/vnd.plotly.v1+html": [
       "<div id=\"acb86b05-d83b-436b-a9fe-7cff3394f467\" style=\"height: 400px; width: 100%;\" class=\"plotly-graph-div\"></div><script type=\"text/javascript\">require([\"plotly\"], function(Plotly) { window.PLOTLYENV=window.PLOTLYENV || {};window.PLOTLYENV.BASE_URL=\"https://plot.ly\";Plotly.newPlot(\"acb86b05-d83b-436b-a9fe-7cff3394f467\", [{\"marker\": {\"color\": \"#d6a5ff\"}, \"x\": [\"Data Share Promo\", \"1000557 | GA | US | en | Hybrid | GDN Text+Banner | AS\", \"AW - Dynamic Search Ads Whole Site\", \"1000557 | GA | US | en | Hybrid | GDN Remarketing\", \"Run of Network Line Item\", \"AW - Accessories\", \"\\\"google + redesign/Accessories March 17\\\" All Users\", \"Page: contains \\\"/google+redesign/drinkware\\\"\", \"\\\"google + redesign/Accessories March 17\\\" All Users Similar Audiences\", \"Page: contains \\\"/google+redesign/bags\\\" All Users\", \"Smart Display Campaign\", \"Page: contains \\\"/google+redesign/office\\\"\", \"Page: contains \\\"/google+redesign/drinkware\\\" Similar Audiences\", \"Technology/Technophiles\", \"AW - Electronics\", \"Page: contains \\\"/google+redesign/bags\\\" 1 Day\"], \"y\": [425, 181, 165, 80, 25, 21, 10, 9, 6, 6, 5, 4, 2, 1, 1, 1], \"type\": \"bar\", \"uid\": \"51e79407-f6d5-4d57-bb9a-a2182fcb3574\", \"xaxis\": \"x\", \"yaxis\": \"y\"}, {\"marker\": {\"color\": \"#f4d39c\"}, \"x\": [\"(none)\", \"organic\", \"referral\", \"cpc\", \"affiliate\", \"cpm\"], \"y\": [8198, 6329, 4398, 559, 425, 91], \"type\": \"bar\", \"uid\": \"d5ef279a-86eb-47f1-879d-ecb8b0207de7\", \"xaxis\": \"x2\", \"yaxis\": \"y2\"}], {\"annotations\": [{\"font\": {\"size\": 16}, \"showarrow\": false, \"text\": \"TrafficSource Campaign\", \"x\": 0.225, \"xanchor\": \"center\", \"xref\": \"paper\", \"y\": 1.0, \"yanchor\": \"bottom\", \"yref\": \"paper\"}, {\"font\": {\"size\": 16}, \"showarrow\": false, \"text\": \"TrafficSource Medium\", \"x\": 0.775, \"xanchor\": \"center\", \"xref\": \"paper\", \"y\": 1.0, \"yanchor\": \"bottom\", \"yref\": \"paper\"}], \"xaxis\": {\"anchor\": \"y\", \"domain\": [0.0, 0.45]}, \"yaxis\": {\"anchor\": \"x\", \"domain\": [0.0, 1.0]}, \"xaxis2\": {\"anchor\": \"y2\", \"domain\": [0.55, 1.0]}, \"yaxis2\": {\"anchor\": \"x2\", \"domain\": [0.0, 1.0]}, \"margin\": {\"b\": 100}, \"height\": 400, \"showlegend\": false}, {\"showLink\": true, \"linkText\": \"Export to plot.ly\"})});</script><script type=\"text/javascript\">window.addEventListener(\"resize\", function(){window._Plotly.Plots.resize(document.getElementById(\"acb86b05-d83b-436b-a9fe-7cff3394f467\"));});</script>"
      ]
     },
     "metadata": {},
     "output_type": "display_data"
    }
   ],
   "source": [
    "# Traffic Attributes\n",
    "\n",
    "fig = tools.make_subplots(rows=1, cols=2, subplot_titles=[\"TrafficSource Campaign\", \"TrafficSource Medium\"], print_grid=False)\n",
    "\n",
    "colors = [\"#d6a5ff\", \"#fca6da\", \"#f4d39c\", \"#a9fcca\"]\n",
    "t1 = litedata[\"campaign\"].value_counts()\n",
    "t2 = litedata[\"medium\"].value_counts()\n",
    "tr1 = go.Bar(x = t1.index, y = t1.values, marker=dict(color=colors[3]))\n",
    "tr2 = go.Bar(x = t2.index, y = t2.values, marker=dict(color=colors[2]))\n",
    "tr3 = go.Bar(x = t1.index[1:], y = t1.values[1:], marker=dict(color=colors[0]))\n",
    "tr4 = go.Bar(x = t2.index[1:], y = t2.values[1:])\n",
    "\n",
    "fig.append_trace(tr3, 1, 1)\n",
    "fig.append_trace(tr2, 1, 2)\n",
    "fig['layout'].update(height=400, margin=dict(b=100), showlegend=False)\n",
    "iplot(fig)"
   ]
  },
  {
   "cell_type": "code",
   "execution_count": 117,
   "metadata": {},
   "outputs": [
    {
     "data": {
      "application/vnd.plotly.v1+json": {
       "data": [
        {
         "labels": [
          "Organic Search",
          "Social",
          "Direct",
          "Referral",
          "Paid Search",
          "Affiliates",
          "Display"
         ],
         "marker": {
          "colors": [
           "#8d44fc",
           "#ed95d5",
           "#caadf7",
           "#6161b7",
           "#7e7eba",
           "#babad1"
          ]
         },
         "type": "pie",
         "uid": "c3d0dfbf-4dcb-493e-953b-989e34d683f6",
         "values": [
          9535,
          3455,
          3047,
          2649,
          527,
          425,
          362
         ]
        }
       ],
       "layout": {
        "height": 400,
        "title": "Channel Grouping"
       }
      },
      "text/html": [
       "<div id=\"f146d677-4b6b-4ad3-85ce-deadcc58dbb8\" style=\"height: 400px; width: 100%;\" class=\"plotly-graph-div\"></div><script type=\"text/javascript\">require([\"plotly\"], function(Plotly) { window.PLOTLYENV=window.PLOTLYENV || {};window.PLOTLYENV.BASE_URL=\"https://plot.ly\";Plotly.newPlot(\"f146d677-4b6b-4ad3-85ce-deadcc58dbb8\", [{\"labels\": [\"Organic Search\", \"Social\", \"Direct\", \"Referral\", \"Paid Search\", \"Affiliates\", \"Display\"], \"marker\": {\"colors\": [\"#8d44fc\", \"#ed95d5\", \"#caadf7\", \"#6161b7\", \"#7e7eba\", \"#babad1\"]}, \"values\": [9535, 3455, 3047, 2649, 527, 425, 362], \"type\": \"pie\", \"uid\": \"c3d0dfbf-4dcb-493e-953b-989e34d683f6\"}], {\"height\": 400, \"title\": \"Channel Grouping\"}, {\"showLink\": true, \"linkText\": \"Export to plot.ly\"})});</script><script type=\"text/javascript\">window.addEventListener(\"resize\", function(){window._Plotly.Plots.resize(document.getElementById(\"f146d677-4b6b-4ad3-85ce-deadcc58dbb8\"));});</script>"
      ],
      "text/vnd.plotly.v1+html": [
       "<div id=\"f146d677-4b6b-4ad3-85ce-deadcc58dbb8\" style=\"height: 400px; width: 100%;\" class=\"plotly-graph-div\"></div><script type=\"text/javascript\">require([\"plotly\"], function(Plotly) { window.PLOTLYENV=window.PLOTLYENV || {};window.PLOTLYENV.BASE_URL=\"https://plot.ly\";Plotly.newPlot(\"f146d677-4b6b-4ad3-85ce-deadcc58dbb8\", [{\"labels\": [\"Organic Search\", \"Social\", \"Direct\", \"Referral\", \"Paid Search\", \"Affiliates\", \"Display\"], \"marker\": {\"colors\": [\"#8d44fc\", \"#ed95d5\", \"#caadf7\", \"#6161b7\", \"#7e7eba\", \"#babad1\"]}, \"values\": [9535, 3455, 3047, 2649, 527, 425, 362], \"type\": \"pie\", \"uid\": \"c3d0dfbf-4dcb-493e-953b-989e34d683f6\"}], {\"height\": 400, \"title\": \"Channel Grouping\"}, {\"showLink\": true, \"linkText\": \"Export to plot.ly\"})});</script><script type=\"text/javascript\">window.addEventListener(\"resize\", function(){window._Plotly.Plots.resize(document.getElementById(\"f146d677-4b6b-4ad3-85ce-deadcc58dbb8\"));});</script>"
      ]
     },
     "metadata": {},
     "output_type": "display_data"
    }
   ],
   "source": [
    "# Channel Grouping\n",
    "tmp = litedata[\"channelGrouping\"].value_counts()\n",
    "colors = [\"#8d44fc\", \"#ed95d5\", \"#caadf7\", \"#6161b7\", \"#7e7eba\", \"#babad1\"]\n",
    "trace = go.Pie(labels=tmp.index, values=tmp.values, marker=dict(colors=colors))\n",
    "layout = go.Layout(title=\"Channel Grouping\", height=400)\n",
    "fig = go.Figure(data = [trace], layout = layout)\n",
    "iplot(fig, filename='basic_pie_chart')"
   ]
  },
  {
   "cell_type": "code",
   "execution_count": 35,
   "metadata": {},
   "outputs": [
    {
     "data": {
      "application/vnd.plotly.v1+json": {
       "data": [
        {
         "mode": "lines",
         "type": "scatter",
         "uid": "36be340c-6c4a-43f7-8a9e-6cd8434d9b57",
         "x": [
          "2016-09-02",
          "2017-01-26",
          "2017-02-03",
          "2017-03-12",
          "2017-06-23",
          "2017-10-16",
          "2017-11-10",
          "2017-11-30",
          "2018-04-15"
         ],
         "y": [
          2613,
          2209,
          2182,
          1781,
          2095,
          2989,
          864,
          3178,
          2089
         ]
        }
       ],
       "layout": {
        "height": 400,
        "title": "Visits by date"
       }
      },
      "text/html": [
       "<div id=\"fdfd6f44-4a85-4ae0-9d3d-c6892f4798ee\" style=\"height: 400px; width: 100%;\" class=\"plotly-graph-div\"></div><script type=\"text/javascript\">require([\"plotly\"], function(Plotly) { window.PLOTLYENV=window.PLOTLYENV || {};window.PLOTLYENV.BASE_URL=\"https://plot.ly\";Plotly.newPlot(\"fdfd6f44-4a85-4ae0-9d3d-c6892f4798ee\", [{\"mode\": \"lines\", \"x\": [\"2016-09-02\", \"2017-01-26\", \"2017-02-03\", \"2017-03-12\", \"2017-06-23\", \"2017-10-16\", \"2017-11-10\", \"2017-11-30\", \"2018-04-15\"], \"y\": [2613, 2209, 2182, 1781, 2095, 2989, 864, 3178, 2089], \"type\": \"scatter\", \"uid\": \"36be340c-6c4a-43f7-8a9e-6cd8434d9b57\"}], {\"height\": 400, \"title\": \"Visits by date\"}, {\"showLink\": true, \"linkText\": \"Export to plot.ly\"})});</script><script type=\"text/javascript\">window.addEventListener(\"resize\", function(){window._Plotly.Plots.resize(document.getElementById(\"fdfd6f44-4a85-4ae0-9d3d-c6892f4798ee\"));});</script>"
      ],
      "text/vnd.plotly.v1+html": [
       "<div id=\"fdfd6f44-4a85-4ae0-9d3d-c6892f4798ee\" style=\"height: 400px; width: 100%;\" class=\"plotly-graph-div\"></div><script type=\"text/javascript\">require([\"plotly\"], function(Plotly) { window.PLOTLYENV=window.PLOTLYENV || {};window.PLOTLYENV.BASE_URL=\"https://plot.ly\";Plotly.newPlot(\"fdfd6f44-4a85-4ae0-9d3d-c6892f4798ee\", [{\"mode\": \"lines\", \"x\": [\"2016-09-02\", \"2017-01-26\", \"2017-02-03\", \"2017-03-12\", \"2017-06-23\", \"2017-10-16\", \"2017-11-10\", \"2017-11-30\", \"2018-04-15\"], \"y\": [2613, 2209, 2182, 1781, 2095, 2989, 864, 3178, 2089], \"type\": \"scatter\", \"uid\": \"36be340c-6c4a-43f7-8a9e-6cd8434d9b57\"}], {\"height\": 400, \"title\": \"Visits by date\"}, {\"showLink\": true, \"linkText\": \"Export to plot.ly\"})});</script><script type=\"text/javascript\">window.addEventListener(\"resize\", function(){window._Plotly.Plots.resize(document.getElementById(\"fdfd6f44-4a85-4ae0-9d3d-c6892f4798ee\"));});</script>"
      ]
     },
     "metadata": {},
     "output_type": "display_data"
    }
   ],
   "source": [
    "# Monthly visit trends\n",
    "\n",
    "def _add_date_features(df):\n",
    "    df['date'] = df['date'].astype(str)\n",
    "    df[\"date\"] = df[\"date\"].apply(lambda x : x[:4] + \"-\" + x[4:6] + \"-\" + x[6:])\n",
    "    df[\"date\"] = pd.to_datetime(df[\"date\"])\n",
    "    \n",
    "    df[\"month\"]   = df['date'].dt.month\n",
    "    df[\"day\"]     = df['date'].dt.day\n",
    "    df[\"weekday\"] = df['date'].dt.weekday\n",
    "    return df \n",
    "\n",
    "masterdata = _add_date_features(masterdata)\n",
    "\n",
    "tmp = masterdata['date'].value_counts().to_frame().reset_index().sort_values('index')\n",
    "tmp = tmp.rename(columns = {\"index\" : \"dateX\", \"date\" : \"visits\"})\n",
    "\n",
    "tr = go.Scatter(mode=\"lines\", x = tmp[\"dateX\"].astype(str), y = tmp[\"visits\"])\n",
    "layout = go.Layout(title=\"Visits by date\", height=400)\n",
    "fig = go.Figure(data = [tr], layout = layout)\n",
    "iplot(fig)"
   ]
  },
  {
   "cell_type": "code",
   "execution_count": 36,
   "metadata": {},
   "outputs": [
    {
     "data": {
      "application/vnd.plotly.v1+json": {
       "data": [
        {
         "mode": "lines",
         "type": "scatter",
         "uid": "50bd4d45-2982-42fc-b931-c3f6ba9168fa",
         "x": [
          "2016-09-02",
          "2017-01-26",
          "2017-02-03",
          "2017-03-12",
          "2017-06-23",
          "2017-10-16",
          "2017-11-10",
          "2017-11-30",
          "2018-04-15"
         ],
         "y": [
          160090370.37037036,
          137600000,
          158068275.86206895,
          52390000,
          78469615.38461539,
          68975833.33333333,
          117221428.57142857,
          89182857.14285715,
          41707142.85714286
         ]
        }
       ],
       "layout": {
        "height": 400,
        "title": "MonthlyRevenue by date"
       }
      },
      "text/html": [
       "<div id=\"3e492606-ea46-4d45-a6ea-ae68e4787498\" style=\"height: 400px; width: 100%;\" class=\"plotly-graph-div\"></div><script type=\"text/javascript\">require([\"plotly\"], function(Plotly) { window.PLOTLYENV=window.PLOTLYENV || {};window.PLOTLYENV.BASE_URL=\"https://plot.ly\";Plotly.newPlot(\"3e492606-ea46-4d45-a6ea-ae68e4787498\", [{\"mode\": \"lines\", \"x\": [\"2016-09-02\", \"2017-01-26\", \"2017-02-03\", \"2017-03-12\", \"2017-06-23\", \"2017-10-16\", \"2017-11-10\", \"2017-11-30\", \"2018-04-15\"], \"y\": [160090370.37037036, 137600000.0, 158068275.86206895, 52390000.0, 78469615.38461539, 68975833.33333333, 117221428.57142857, 89182857.14285715, 41707142.85714286], \"type\": \"scatter\", \"uid\": \"50bd4d45-2982-42fc-b931-c3f6ba9168fa\"}], {\"height\": 400, \"title\": \"MonthlyRevenue by date\"}, {\"showLink\": true, \"linkText\": \"Export to plot.ly\"})});</script><script type=\"text/javascript\">window.addEventListener(\"resize\", function(){window._Plotly.Plots.resize(document.getElementById(\"3e492606-ea46-4d45-a6ea-ae68e4787498\"));});</script>"
      ],
      "text/vnd.plotly.v1+html": [
       "<div id=\"3e492606-ea46-4d45-a6ea-ae68e4787498\" style=\"height: 400px; width: 100%;\" class=\"plotly-graph-div\"></div><script type=\"text/javascript\">require([\"plotly\"], function(Plotly) { window.PLOTLYENV=window.PLOTLYENV || {};window.PLOTLYENV.BASE_URL=\"https://plot.ly\";Plotly.newPlot(\"3e492606-ea46-4d45-a6ea-ae68e4787498\", [{\"mode\": \"lines\", \"x\": [\"2016-09-02\", \"2017-01-26\", \"2017-02-03\", \"2017-03-12\", \"2017-06-23\", \"2017-10-16\", \"2017-11-10\", \"2017-11-30\", \"2018-04-15\"], \"y\": [160090370.37037036, 137600000.0, 158068275.86206895, 52390000.0, 78469615.38461539, 68975833.33333333, 117221428.57142857, 89182857.14285715, 41707142.85714286], \"type\": \"scatter\", \"uid\": \"50bd4d45-2982-42fc-b931-c3f6ba9168fa\"}], {\"height\": 400, \"title\": \"MonthlyRevenue by date\"}, {\"showLink\": true, \"linkText\": \"Export to plot.ly\"})});</script><script type=\"text/javascript\">window.addEventListener(\"resize\", function(){window._Plotly.Plots.resize(document.getElementById(\"3e492606-ea46-4d45-a6ea-ae68e4787498\"));});</script>"
      ]
     },
     "metadata": {},
     "output_type": "display_data"
    }
   ],
   "source": [
    "tmp = masterdata.groupby(\"date\").agg({\"totals_transactionRevenue\" : \"mean\"}).reset_index()\n",
    "tmp = tmp.rename(columns = {\"date\" : \"dateX\", \"totals_transactionRevenue\" : \"mean_revenue\"})\n",
    "tr = go.Scatter(mode=\"lines\", x = tmp[\"dateX\"].astype(str), y = tmp[\"mean_revenue\"])\n",
    "layout = go.Layout(title=\"MonthlyRevenue by date\", height=400)\n",
    "fig = go.Figure(data = [tr], layout = layout)\n",
    "iplot(fig)"
   ]
  },
  {
   "cell_type": "code",
   "execution_count": 37,
   "metadata": {},
   "outputs": [
    {
     "data": {
      "application/vnd.plotly.v1+json": {
       "data": [
        {
         "marker": {
          "color": "#7af9ad"
         },
         "orientation": "h",
         "type": "bar",
         "uid": "cf4bc889-e96f-4083-8c77-fef8fc844486",
         "x": [
          24,
          41,
          492,
          784,
          3571,
          15088
         ],
         "y": [
          "100+",
          "50-100",
          "10-50",
          "5-10",
          "2-5",
          "1"
         ]
        }
       ],
       "layout": {
        "height": 400,
        "margin": {
         "l": 300,
         "r": 300
        },
        "title": "Visit Numbers Distribution",
        "xaxis": {
         "title": "Frequency"
        },
        "yaxis": {
         "title": "VisitNumber"
        }
       }
      },
      "text/html": [
       "<div id=\"3fcaf042-ced9-413a-b485-b22046a3c54c\" style=\"height: 400px; width: 100%;\" class=\"plotly-graph-div\"></div><script type=\"text/javascript\">require([\"plotly\"], function(Plotly) { window.PLOTLYENV=window.PLOTLYENV || {};window.PLOTLYENV.BASE_URL=\"https://plot.ly\";Plotly.newPlot(\"3fcaf042-ced9-413a-b485-b22046a3c54c\", [{\"marker\": {\"color\": \"#7af9ad\"}, \"orientation\": \"h\", \"x\": [24, 41, 492, 784, 3571, 15088], \"y\": [\"100+\", \"50-100\", \"10-50\", \"5-10\", \"2-5\", \"1\"], \"type\": \"bar\", \"uid\": \"cf4bc889-e96f-4083-8c77-fef8fc844486\"}], {\"height\": 400, \"margin\": {\"l\": 300, \"r\": 300}, \"title\": \"Visit Numbers Distribution\", \"xaxis\": {\"title\": \"Frequency\"}, \"yaxis\": {\"title\": \"VisitNumber\"}}, {\"showLink\": true, \"linkText\": \"Export to plot.ly\"})});</script><script type=\"text/javascript\">window.addEventListener(\"resize\", function(){window._Plotly.Plots.resize(document.getElementById(\"3fcaf042-ced9-413a-b485-b22046a3c54c\"));});</script>"
      ],
      "text/vnd.plotly.v1+html": [
       "<div id=\"3fcaf042-ced9-413a-b485-b22046a3c54c\" style=\"height: 400px; width: 100%;\" class=\"plotly-graph-div\"></div><script type=\"text/javascript\">require([\"plotly\"], function(Plotly) { window.PLOTLYENV=window.PLOTLYENV || {};window.PLOTLYENV.BASE_URL=\"https://plot.ly\";Plotly.newPlot(\"3fcaf042-ced9-413a-b485-b22046a3c54c\", [{\"marker\": {\"color\": \"#7af9ad\"}, \"orientation\": \"h\", \"x\": [24, 41, 492, 784, 3571, 15088], \"y\": [\"100+\", \"50-100\", \"10-50\", \"5-10\", \"2-5\", \"1\"], \"type\": \"bar\", \"uid\": \"cf4bc889-e96f-4083-8c77-fef8fc844486\"}], {\"height\": 400, \"margin\": {\"l\": 300, \"r\": 300}, \"title\": \"Visit Numbers Distribution\", \"xaxis\": {\"title\": \"Frequency\"}, \"yaxis\": {\"title\": \"VisitNumber\"}}, {\"showLink\": true, \"linkText\": \"Export to plot.ly\"})});</script><script type=\"text/javascript\">window.addEventListener(\"resize\", function(){window._Plotly.Plots.resize(document.getElementById(\"3fcaf042-ced9-413a-b485-b22046a3c54c\"));});</script>"
      ]
     },
     "metadata": {},
     "output_type": "display_data"
    }
   ],
   "source": [
    "vn = masterdata[\"visitNumber\"].value_counts()\n",
    "def vn_bins(x):\n",
    "    if x == 1:\n",
    "        return \"1\" \n",
    "    elif x < 5:\n",
    "        return \"2-5\"\n",
    "    elif x < 10:\n",
    "        return \"5-10\"\n",
    "    elif x < 50:\n",
    "        return \"10-50\"\n",
    "    elif x < 100:\n",
    "        return \"50-100\"\n",
    "    else:\n",
    "        return \"100+\"\n",
    "    \n",
    "vn = masterdata[\"visitNumber\"].apply(vn_bins).value_counts()\n",
    "\n",
    "trace1 = go.Bar(y = vn.index[::-1], orientation=\"h\" , x = vn.values[::-1], marker=dict(color=\"#7af9ad\"))\n",
    "layout = go.Layout(title=\"Visit Numbers Distribution\", \n",
    "                   xaxis=dict(title=\"Frequency\"),yaxis=dict(title=\"VisitNumber\") ,\n",
    "                   height=400, margin=dict(l=300, r=300))\n",
    "figure = go.Figure(data = [trace1], layout = layout)\n",
    "iplot(figure)"
   ]
  },
  {
   "cell_type": "code",
   "execution_count": 38,
   "metadata": {},
   "outputs": [
    {
     "data": {
      "application/vnd.plotly.v1+json": {
       "data": [
        {
         "marker": {
          "color": "#d6a5ff"
         },
         "type": "bar",
         "uid": "938233ef-f2ea-4556-bad9-fb412f52f231",
         "x": [
          11,
          10,
          9,
          1,
          2,
          6,
          4,
          3
         ],
         "xaxis": "x",
         "y": [
          4042,
          2989,
          2613,
          2209,
          2182,
          2095,
          2089,
          1781
         ],
         "yaxis": "y"
        },
        {
         "marker": {
          "color": "#fca6da"
         },
         "type": "bar",
         "uid": "736e44a2-c6c1-4652-9e00-23d492cdbcd7",
         "x": [
          30,
          16,
          2,
          26,
          3,
          23,
          15,
          12,
          10
         ],
         "xaxis": "x2",
         "y": [
          3178,
          2989,
          2613,
          2209,
          2182,
          2095,
          2089,
          1781,
          864
         ],
         "yaxis": "y2"
        },
        {
         "marker": {
          "color": "#f4d39c"
         },
         "type": "bar",
         "uid": "0127c3d0-e806-40a7-8cbd-16e2b5c096d4",
         "x": [
          4,
          3,
          6,
          0
         ],
         "xaxis": "x3",
         "y": [
          7754,
          5387,
          3870,
          2989
         ],
         "yaxis": "y3"
        }
       ],
       "layout": {
        "annotations": [
         {
          "font": {
           "size": 16
          },
          "showarrow": false,
          "text": "Visits by Month",
          "x": 0.14444444444444446,
          "xanchor": "center",
          "xref": "paper",
          "y": 1,
          "yanchor": "bottom",
          "yref": "paper"
         },
         {
          "font": {
           "size": 16
          },
          "showarrow": false,
          "text": "Visits by MonthDay",
          "x": 0.5,
          "xanchor": "center",
          "xref": "paper",
          "y": 1,
          "yanchor": "bottom",
          "yref": "paper"
         },
         {
          "font": {
           "size": 16
          },
          "showarrow": false,
          "text": "Visits by WeekDay",
          "x": 0.8555555555555556,
          "xanchor": "center",
          "xref": "paper",
          "y": 1,
          "yanchor": "bottom",
          "yref": "paper"
         }
        ],
        "height": 400,
        "showlegend": false,
        "xaxis": {
         "anchor": "y",
         "domain": [
          0,
          0.2888888888888889
         ]
        },
        "xaxis2": {
         "anchor": "y2",
         "domain": [
          0.35555555555555557,
          0.6444444444444445
         ]
        },
        "xaxis3": {
         "anchor": "y3",
         "domain": [
          0.7111111111111111,
          1
         ]
        },
        "yaxis": {
         "anchor": "x",
         "domain": [
          0,
          1
         ]
        },
        "yaxis2": {
         "anchor": "x2",
         "domain": [
          0,
          1
         ]
        },
        "yaxis3": {
         "anchor": "x3",
         "domain": [
          0,
          1
         ]
        }
       }
      },
      "text/html": [
       "<div id=\"70679cef-ed98-4c48-84ca-f0ea411b667b\" style=\"height: 400px; width: 100%;\" class=\"plotly-graph-div\"></div><script type=\"text/javascript\">require([\"plotly\"], function(Plotly) { window.PLOTLYENV=window.PLOTLYENV || {};window.PLOTLYENV.BASE_URL=\"https://plot.ly\";Plotly.newPlot(\"70679cef-ed98-4c48-84ca-f0ea411b667b\", [{\"marker\": {\"color\": \"#d6a5ff\"}, \"x\": [11, 10, 9, 1, 2, 6, 4, 3], \"y\": [4042, 2989, 2613, 2209, 2182, 2095, 2089, 1781], \"type\": \"bar\", \"uid\": \"938233ef-f2ea-4556-bad9-fb412f52f231\", \"xaxis\": \"x\", \"yaxis\": \"y\"}, {\"marker\": {\"color\": \"#fca6da\"}, \"x\": [30, 16, 2, 26, 3, 23, 15, 12, 10], \"y\": [3178, 2989, 2613, 2209, 2182, 2095, 2089, 1781, 864], \"type\": \"bar\", \"uid\": \"736e44a2-c6c1-4652-9e00-23d492cdbcd7\", \"xaxis\": \"x2\", \"yaxis\": \"y2\"}, {\"marker\": {\"color\": \"#f4d39c\"}, \"x\": [4, 3, 6, 0], \"y\": [7754, 5387, 3870, 2989], \"type\": \"bar\", \"uid\": \"0127c3d0-e806-40a7-8cbd-16e2b5c096d4\", \"xaxis\": \"x3\", \"yaxis\": \"y3\"}], {\"annotations\": [{\"font\": {\"size\": 16}, \"showarrow\": false, \"text\": \"Visits by Month\", \"x\": 0.14444444444444446, \"xanchor\": \"center\", \"xref\": \"paper\", \"y\": 1.0, \"yanchor\": \"bottom\", \"yref\": \"paper\"}, {\"font\": {\"size\": 16}, \"showarrow\": false, \"text\": \"Visits by MonthDay\", \"x\": 0.5, \"xanchor\": \"center\", \"xref\": \"paper\", \"y\": 1.0, \"yanchor\": \"bottom\", \"yref\": \"paper\"}, {\"font\": {\"size\": 16}, \"showarrow\": false, \"text\": \"Visits by WeekDay\", \"x\": 0.8555555555555556, \"xanchor\": \"center\", \"xref\": \"paper\", \"y\": 1.0, \"yanchor\": \"bottom\", \"yref\": \"paper\"}], \"xaxis\": {\"anchor\": \"y\", \"domain\": [0.0, 0.2888888888888889]}, \"yaxis\": {\"anchor\": \"x\", \"domain\": [0.0, 1.0]}, \"xaxis2\": {\"anchor\": \"y2\", \"domain\": [0.35555555555555557, 0.6444444444444445]}, \"yaxis2\": {\"anchor\": \"x2\", \"domain\": [0.0, 1.0]}, \"xaxis3\": {\"anchor\": \"y3\", \"domain\": [0.7111111111111111, 1.0]}, \"yaxis3\": {\"anchor\": \"x3\", \"domain\": [0.0, 1.0]}, \"height\": 400, \"showlegend\": false}, {\"showLink\": true, \"linkText\": \"Export to plot.ly\"})});</script><script type=\"text/javascript\">window.addEventListener(\"resize\", function(){window._Plotly.Plots.resize(document.getElementById(\"70679cef-ed98-4c48-84ca-f0ea411b667b\"));});</script>"
      ],
      "text/vnd.plotly.v1+html": [
       "<div id=\"70679cef-ed98-4c48-84ca-f0ea411b667b\" style=\"height: 400px; width: 100%;\" class=\"plotly-graph-div\"></div><script type=\"text/javascript\">require([\"plotly\"], function(Plotly) { window.PLOTLYENV=window.PLOTLYENV || {};window.PLOTLYENV.BASE_URL=\"https://plot.ly\";Plotly.newPlot(\"70679cef-ed98-4c48-84ca-f0ea411b667b\", [{\"marker\": {\"color\": \"#d6a5ff\"}, \"x\": [11, 10, 9, 1, 2, 6, 4, 3], \"y\": [4042, 2989, 2613, 2209, 2182, 2095, 2089, 1781], \"type\": \"bar\", \"uid\": \"938233ef-f2ea-4556-bad9-fb412f52f231\", \"xaxis\": \"x\", \"yaxis\": \"y\"}, {\"marker\": {\"color\": \"#fca6da\"}, \"x\": [30, 16, 2, 26, 3, 23, 15, 12, 10], \"y\": [3178, 2989, 2613, 2209, 2182, 2095, 2089, 1781, 864], \"type\": \"bar\", \"uid\": \"736e44a2-c6c1-4652-9e00-23d492cdbcd7\", \"xaxis\": \"x2\", \"yaxis\": \"y2\"}, {\"marker\": {\"color\": \"#f4d39c\"}, \"x\": [4, 3, 6, 0], \"y\": [7754, 5387, 3870, 2989], \"type\": \"bar\", \"uid\": \"0127c3d0-e806-40a7-8cbd-16e2b5c096d4\", \"xaxis\": \"x3\", \"yaxis\": \"y3\"}], {\"annotations\": [{\"font\": {\"size\": 16}, \"showarrow\": false, \"text\": \"Visits by Month\", \"x\": 0.14444444444444446, \"xanchor\": \"center\", \"xref\": \"paper\", \"y\": 1.0, \"yanchor\": \"bottom\", \"yref\": \"paper\"}, {\"font\": {\"size\": 16}, \"showarrow\": false, \"text\": \"Visits by MonthDay\", \"x\": 0.5, \"xanchor\": \"center\", \"xref\": \"paper\", \"y\": 1.0, \"yanchor\": \"bottom\", \"yref\": \"paper\"}, {\"font\": {\"size\": 16}, \"showarrow\": false, \"text\": \"Visits by WeekDay\", \"x\": 0.8555555555555556, \"xanchor\": \"center\", \"xref\": \"paper\", \"y\": 1.0, \"yanchor\": \"bottom\", \"yref\": \"paper\"}], \"xaxis\": {\"anchor\": \"y\", \"domain\": [0.0, 0.2888888888888889]}, \"yaxis\": {\"anchor\": \"x\", \"domain\": [0.0, 1.0]}, \"xaxis2\": {\"anchor\": \"y2\", \"domain\": [0.35555555555555557, 0.6444444444444445]}, \"yaxis2\": {\"anchor\": \"x2\", \"domain\": [0.0, 1.0]}, \"xaxis3\": {\"anchor\": \"y3\", \"domain\": [0.7111111111111111, 1.0]}, \"yaxis3\": {\"anchor\": \"x3\", \"domain\": [0.0, 1.0]}, \"height\": 400, \"showlegend\": false}, {\"showLink\": true, \"linkText\": \"Export to plot.ly\"})});</script><script type=\"text/javascript\">window.addEventListener(\"resize\", function(){window._Plotly.Plots.resize(document.getElementById(\"70679cef-ed98-4c48-84ca-f0ea411b667b\"));});</script>"
      ]
     },
     "metadata": {},
     "output_type": "display_data"
    }
   ],
   "source": [
    "fig = tools.make_subplots(rows=1, cols=3, subplot_titles=[\"Visits by Month\", \"Visits by MonthDay\", \"Visits by WeekDay\"], print_grid=False)\n",
    "trs = []\n",
    "for i,col in enumerate([\"month\", \"day\", \"weekday\"]):\n",
    "    t = masterdata[col].value_counts()\n",
    "    tr = go.Bar(x = t.index, marker=dict(color=colors[i]), y = t.values)\n",
    "    trs.append(tr)\n",
    "\n",
    "fig.append_trace(trs[0], 1, 1)\n",
    "fig.append_trace(trs[1], 1, 2)\n",
    "fig.append_trace(trs[2], 1, 3)\n",
    "fig['layout'].update(height=400, showlegend=False)\n",
    "iplot(fig)"
   ]
  },
  {
   "cell_type": "code",
   "execution_count": 39,
   "metadata": {},
   "outputs": [
    {
     "data": {
      "application/vnd.plotly.v1+json": {
       "data": [
        {
         "marker": {
          "color": "red",
          "opacity": 0.5
         },
         "type": "bar",
         "uid": "f653da21-c01a-4784-8522-a91b446e8493",
         "x": [
          1,
          2,
          3,
          4,
          6,
          9,
          10,
          11
         ],
         "xaxis": "x",
         "y": [
          137600000,
          158068275.86206895,
          52390000,
          41707142.85714286,
          78469615.38461539,
          160090370.37037036,
          68975833.33333333,
          100398285.71428572
         ],
         "yaxis": "y"
        },
        {
         "marker": {
          "color": "orange",
          "opacity": 0.5
         },
         "type": "bar",
         "uid": "f460f21b-bf96-4799-8380-c0d670c05cc8",
         "x": [
          2,
          3,
          10,
          12,
          15,
          16,
          23,
          26,
          30
         ],
         "xaxis": "x2",
         "y": [
          160090370.37037036,
          158068275.86206895,
          117221428.57142857,
          52390000,
          41707142.85714286,
          68975833.33333333,
          78469615.38461539,
          137600000,
          89182857.14285715
         ],
         "yaxis": "y2"
        },
        {
         "marker": {
          "color": "green",
          "opacity": 0.5
         },
         "type": "bar",
         "uid": "13a2ec47-b33a-4eb3-bdb8-656764567000",
         "x": [
          0,
          3,
          4,
          6
         ],
         "xaxis": "x3",
         "y": [
          68975833.33333333,
          116417500,
          131122187.5,
          46407600
         ],
         "yaxis": "y3"
        }
       ],
       "layout": {
        "annotations": [
         {
          "font": {
           "size": 16
          },
          "showarrow": false,
          "text": "MeanRevenue by Month",
          "x": 0.14444444444444446,
          "xanchor": "center",
          "xref": "paper",
          "y": 1,
          "yanchor": "bottom",
          "yref": "paper"
         },
         {
          "font": {
           "size": 16
          },
          "showarrow": false,
          "text": "MeanRevenue by MonthDay",
          "x": 0.5,
          "xanchor": "center",
          "xref": "paper",
          "y": 1,
          "yanchor": "bottom",
          "yref": "paper"
         },
         {
          "font": {
           "size": 16
          },
          "showarrow": false,
          "text": "MeanRevenue by WeekDay",
          "x": 0.8555555555555556,
          "xanchor": "center",
          "xref": "paper",
          "y": 1,
          "yanchor": "bottom",
          "yref": "paper"
         }
        ],
        "height": 400,
        "showlegend": false,
        "xaxis": {
         "anchor": "y",
         "domain": [
          0,
          0.2888888888888889
         ]
        },
        "xaxis2": {
         "anchor": "y2",
         "domain": [
          0.35555555555555557,
          0.6444444444444445
         ]
        },
        "xaxis3": {
         "anchor": "y3",
         "domain": [
          0.7111111111111111,
          1
         ]
        },
        "yaxis": {
         "anchor": "x",
         "domain": [
          0,
          1
         ]
        },
        "yaxis2": {
         "anchor": "x2",
         "domain": [
          0,
          1
         ]
        },
        "yaxis3": {
         "anchor": "x3",
         "domain": [
          0,
          1
         ]
        }
       }
      },
      "text/html": [
       "<div id=\"8629cceb-0b2d-42d8-861c-b242f688606d\" style=\"height: 400px; width: 100%;\" class=\"plotly-graph-div\"></div><script type=\"text/javascript\">require([\"plotly\"], function(Plotly) { window.PLOTLYENV=window.PLOTLYENV || {};window.PLOTLYENV.BASE_URL=\"https://plot.ly\";Plotly.newPlot(\"8629cceb-0b2d-42d8-861c-b242f688606d\", [{\"marker\": {\"color\": \"red\", \"opacity\": 0.5}, \"x\": [1, 2, 3, 4, 6, 9, 10, 11], \"y\": [137600000.0, 158068275.86206895, 52390000.0, 41707142.85714286, 78469615.38461539, 160090370.37037036, 68975833.33333333, 100398285.71428572], \"type\": \"bar\", \"uid\": \"f653da21-c01a-4784-8522-a91b446e8493\", \"xaxis\": \"x\", \"yaxis\": \"y\"}, {\"marker\": {\"color\": \"orange\", \"opacity\": 0.5}, \"x\": [2, 3, 10, 12, 15, 16, 23, 26, 30], \"y\": [160090370.37037036, 158068275.86206895, 117221428.57142857, 52390000.0, 41707142.85714286, 68975833.33333333, 78469615.38461539, 137600000.0, 89182857.14285715], \"type\": \"bar\", \"uid\": \"f460f21b-bf96-4799-8380-c0d670c05cc8\", \"xaxis\": \"x2\", \"yaxis\": \"y2\"}, {\"marker\": {\"color\": \"green\", \"opacity\": 0.5}, \"x\": [0, 3, 4, 6], \"y\": [68975833.33333333, 116417500.0, 131122187.5, 46407600.0], \"type\": \"bar\", \"uid\": \"13a2ec47-b33a-4eb3-bdb8-656764567000\", \"xaxis\": \"x3\", \"yaxis\": \"y3\"}], {\"annotations\": [{\"font\": {\"size\": 16}, \"showarrow\": false, \"text\": \"MeanRevenue by Month\", \"x\": 0.14444444444444446, \"xanchor\": \"center\", \"xref\": \"paper\", \"y\": 1.0, \"yanchor\": \"bottom\", \"yref\": \"paper\"}, {\"font\": {\"size\": 16}, \"showarrow\": false, \"text\": \"MeanRevenue by MonthDay\", \"x\": 0.5, \"xanchor\": \"center\", \"xref\": \"paper\", \"y\": 1.0, \"yanchor\": \"bottom\", \"yref\": \"paper\"}, {\"font\": {\"size\": 16}, \"showarrow\": false, \"text\": \"MeanRevenue by WeekDay\", \"x\": 0.8555555555555556, \"xanchor\": \"center\", \"xref\": \"paper\", \"y\": 1.0, \"yanchor\": \"bottom\", \"yref\": \"paper\"}], \"xaxis\": {\"anchor\": \"y\", \"domain\": [0.0, 0.2888888888888889]}, \"yaxis\": {\"anchor\": \"x\", \"domain\": [0.0, 1.0]}, \"xaxis2\": {\"anchor\": \"y2\", \"domain\": [0.35555555555555557, 0.6444444444444445]}, \"yaxis2\": {\"anchor\": \"x2\", \"domain\": [0.0, 1.0]}, \"xaxis3\": {\"anchor\": \"y3\", \"domain\": [0.7111111111111111, 1.0]}, \"yaxis3\": {\"anchor\": \"x3\", \"domain\": [0.0, 1.0]}, \"height\": 400, \"showlegend\": false}, {\"showLink\": true, \"linkText\": \"Export to plot.ly\"})});</script><script type=\"text/javascript\">window.addEventListener(\"resize\", function(){window._Plotly.Plots.resize(document.getElementById(\"8629cceb-0b2d-42d8-861c-b242f688606d\"));});</script>"
      ],
      "text/vnd.plotly.v1+html": [
       "<div id=\"8629cceb-0b2d-42d8-861c-b242f688606d\" style=\"height: 400px; width: 100%;\" class=\"plotly-graph-div\"></div><script type=\"text/javascript\">require([\"plotly\"], function(Plotly) { window.PLOTLYENV=window.PLOTLYENV || {};window.PLOTLYENV.BASE_URL=\"https://plot.ly\";Plotly.newPlot(\"8629cceb-0b2d-42d8-861c-b242f688606d\", [{\"marker\": {\"color\": \"red\", \"opacity\": 0.5}, \"x\": [1, 2, 3, 4, 6, 9, 10, 11], \"y\": [137600000.0, 158068275.86206895, 52390000.0, 41707142.85714286, 78469615.38461539, 160090370.37037036, 68975833.33333333, 100398285.71428572], \"type\": \"bar\", \"uid\": \"f653da21-c01a-4784-8522-a91b446e8493\", \"xaxis\": \"x\", \"yaxis\": \"y\"}, {\"marker\": {\"color\": \"orange\", \"opacity\": 0.5}, \"x\": [2, 3, 10, 12, 15, 16, 23, 26, 30], \"y\": [160090370.37037036, 158068275.86206895, 117221428.57142857, 52390000.0, 41707142.85714286, 68975833.33333333, 78469615.38461539, 137600000.0, 89182857.14285715], \"type\": \"bar\", \"uid\": \"f460f21b-bf96-4799-8380-c0d670c05cc8\", \"xaxis\": \"x2\", \"yaxis\": \"y2\"}, {\"marker\": {\"color\": \"green\", \"opacity\": 0.5}, \"x\": [0, 3, 4, 6], \"y\": [68975833.33333333, 116417500.0, 131122187.5, 46407600.0], \"type\": \"bar\", \"uid\": \"13a2ec47-b33a-4eb3-bdb8-656764567000\", \"xaxis\": \"x3\", \"yaxis\": \"y3\"}], {\"annotations\": [{\"font\": {\"size\": 16}, \"showarrow\": false, \"text\": \"MeanRevenue by Month\", \"x\": 0.14444444444444446, \"xanchor\": \"center\", \"xref\": \"paper\", \"y\": 1.0, \"yanchor\": \"bottom\", \"yref\": \"paper\"}, {\"font\": {\"size\": 16}, \"showarrow\": false, \"text\": \"MeanRevenue by MonthDay\", \"x\": 0.5, \"xanchor\": \"center\", \"xref\": \"paper\", \"y\": 1.0, \"yanchor\": \"bottom\", \"yref\": \"paper\"}, {\"font\": {\"size\": 16}, \"showarrow\": false, \"text\": \"MeanRevenue by WeekDay\", \"x\": 0.8555555555555556, \"xanchor\": \"center\", \"xref\": \"paper\", \"y\": 1.0, \"yanchor\": \"bottom\", \"yref\": \"paper\"}], \"xaxis\": {\"anchor\": \"y\", \"domain\": [0.0, 0.2888888888888889]}, \"yaxis\": {\"anchor\": \"x\", \"domain\": [0.0, 1.0]}, \"xaxis2\": {\"anchor\": \"y2\", \"domain\": [0.35555555555555557, 0.6444444444444445]}, \"yaxis2\": {\"anchor\": \"x2\", \"domain\": [0.0, 1.0]}, \"xaxis3\": {\"anchor\": \"y3\", \"domain\": [0.7111111111111111, 1.0]}, \"yaxis3\": {\"anchor\": \"x3\", \"domain\": [0.0, 1.0]}, \"height\": 400, \"showlegend\": false}, {\"showLink\": true, \"linkText\": \"Export to plot.ly\"})});</script><script type=\"text/javascript\">window.addEventListener(\"resize\", function(){window._Plotly.Plots.resize(document.getElementById(\"8629cceb-0b2d-42d8-861c-b242f688606d\"));});</script>"
      ]
     },
     "metadata": {},
     "output_type": "display_data"
    }
   ],
   "source": [
    "tmp1 = masterdata.groupby('month').agg({\"totals_transactionRevenue\" : \"mean\"}).reset_index()\n",
    "tmp2 = masterdata.groupby('day').agg({\"totals_transactionRevenue\" : \"mean\"}).reset_index()\n",
    "tmp3 = masterdata.groupby('weekday').agg({\"totals_transactionRevenue\" : \"mean\"}).reset_index()\n",
    "\n",
    "fig = tools.make_subplots(rows=1, cols=3, subplot_titles=[\"MeanRevenue by Month\", \"MeanRevenue by MonthDay\", \"MeanRevenue by WeekDay\"], print_grid=False)\n",
    "tr1 = go.Bar(x = tmp1.month, marker=dict(color=\"red\", opacity=0.5), y = tmp1.totals_transactionRevenue)\n",
    "tr2 = go.Bar(x = tmp2.day, marker=dict(color=\"orange\", opacity=0.5), y = tmp2.totals_transactionRevenue)\n",
    "tr3 = go.Bar(x = tmp3.weekday, marker=dict(color=\"green\", opacity=0.5), y = tmp3.totals_transactionRevenue)\n",
    "\n",
    "fig.append_trace(tr1, 1, 1)\n",
    "fig.append_trace(tr2, 1, 2)\n",
    "fig.append_trace(tr3, 1, 3)\n",
    "fig['layout'].update(height=400, showlegend=False)\n",
    "iplot(fig)"
   ]
  },
  {
   "cell_type": "markdown",
   "metadata": {},
   "source": [
    "Combining transaction at User level"
   ]
  },
  {
   "cell_type": "code",
   "execution_count": 42,
   "metadata": {},
   "outputs": [
    {
     "data": {
      "text/html": [
       "<div>\n",
       "<style scoped>\n",
       "    .dataframe tbody tr th:only-of-type {\n",
       "        vertical-align: middle;\n",
       "    }\n",
       "\n",
       "    .dataframe tbody tr th {\n",
       "        vertical-align: top;\n",
       "    }\n",
       "\n",
       "    .dataframe thead th {\n",
       "        text-align: right;\n",
       "    }\n",
       "</style>\n",
       "<table border=\"1\" class=\"dataframe\">\n",
       "  <thead>\n",
       "    <tr style=\"text-align: right;\">\n",
       "      <th></th>\n",
       "      <th>fullVisitorId</th>\n",
       "      <th>totals_bounces</th>\n",
       "      <th>totals_hits</th>\n",
       "      <th>totals_newVisits</th>\n",
       "      <th>totals_pageviews</th>\n",
       "      <th>totals_transactionRevenue</th>\n",
       "    </tr>\n",
       "  </thead>\n",
       "  <tbody>\n",
       "    <tr>\n",
       "      <th>0</th>\n",
       "      <td>88640475884751</td>\n",
       "      <td>0.0</td>\n",
       "      <td>24.0</td>\n",
       "      <td>1.0</td>\n",
       "      <td>23.0</td>\n",
       "      <td>0.0</td>\n",
       "    </tr>\n",
       "    <tr>\n",
       "      <th>1</th>\n",
       "      <td>189307122537490</td>\n",
       "      <td>1.0</td>\n",
       "      <td>1.0</td>\n",
       "      <td>1.0</td>\n",
       "      <td>1.0</td>\n",
       "      <td>0.0</td>\n",
       "    </tr>\n",
       "    <tr>\n",
       "      <th>2</th>\n",
       "      <td>245437374675368</td>\n",
       "      <td>0.0</td>\n",
       "      <td>2.0</td>\n",
       "      <td>1.0</td>\n",
       "      <td>2.0</td>\n",
       "      <td>0.0</td>\n",
       "    </tr>\n",
       "    <tr>\n",
       "      <th>3</th>\n",
       "      <td>310185102568481</td>\n",
       "      <td>0.0</td>\n",
       "      <td>2.0</td>\n",
       "      <td>0.0</td>\n",
       "      <td>2.0</td>\n",
       "      <td>0.0</td>\n",
       "    </tr>\n",
       "    <tr>\n",
       "      <th>4</th>\n",
       "      <td>558077087682879</td>\n",
       "      <td>1.0</td>\n",
       "      <td>1.0</td>\n",
       "      <td>1.0</td>\n",
       "      <td>1.0</td>\n",
       "      <td>0.0</td>\n",
       "    </tr>\n",
       "  </tbody>\n",
       "</table>\n",
       "</div>"
      ],
      "text/plain": [
       "     fullVisitorId  totals_bounces  totals_hits  totals_newVisits  \\\n",
       "0   88640475884751             0.0         24.0               1.0   \n",
       "1  189307122537490             1.0          1.0               1.0   \n",
       "2  245437374675368             0.0          2.0               1.0   \n",
       "3  310185102568481             0.0          2.0               0.0   \n",
       "4  558077087682879             1.0          1.0               1.0   \n",
       "\n",
       "   totals_pageviews  totals_transactionRevenue  \n",
       "0              23.0                        0.0  \n",
       "1               1.0                        0.0  \n",
       "2               2.0                        0.0  \n",
       "3               2.0                        0.0  \n",
       "4               1.0                        0.0  "
      ]
     },
     "execution_count": 42,
     "metadata": {},
     "output_type": "execute_result"
    }
   ],
   "source": [
    "import warnings\n",
    "warnings.simplefilter(action='ignore', category=FutureWarning)\n",
    "\n",
    "agg_dict = {}\n",
    "for col in [\"totals_bounces\", \"totals_hits\", \"totals_newVisits\", \"totals_pageviews\", \"totals_transactionRevenue\"]:\n",
    "    litedata[col] = litedata[col].astype('float')\n",
    "    agg_dict[col] = \"sum\"\n",
    "tmp = litedata.groupby(\"fullVisitorId\").agg(agg_dict).reset_index()\n",
    "tmp.head()"
   ]
  },
  {
   "cell_type": "code",
   "execution_count": 43,
   "metadata": {},
   "outputs": [
    {
     "name": "stdout",
     "output_type": "stream",
     "text": [
      "There are 189 visitors in the train dataset having non zero total transaction revenue\n"
     ]
    },
    {
     "data": {
      "image/png": "[encoded data removed]",
      "text/plain": [
       "<matplotlib.figure.Figure at 0x2f0b256ab00>"
      ]
     },
     "metadata": {},
     "output_type": "display_data"
    }
   ],
   "source": [
    "non_zero = tmp[tmp[\"totals_transactionRevenue\"] > 0][\"totals_transactionRevenue\"]\n",
    "print (\"There are \" + str(len(non_zero)) + \" visitors in the train dataset having non zero total transaction revenue\")\n",
    "\n",
    "plt.figure(figsize=(12,6))\n",
    "sns.distplot(non_zero)\n",
    "plt.title(\"Distribution of Non Zero Total Transactions\")\n",
    "plt.xlabel(\"Total Transactions\")"
   ]
  },
  {
   "cell_type": "code",
   "execution_count": 44,
   "metadata": {},
   "outputs": [
    {
     "data": {
      "text/plain": [
       "Text(0.5,0,'Log - Total Transactions')"
      ]
     },
     "execution_count": 44,
     "metadata": {},
     "output_type": "execute_result"
    },
    {
     "data": {
      "image/png": "[encoded data removed]",
      "text/plain": [
       "<matplotlib.figure.Figure at 0x2f0b0e76588>"
      ]
     },
     "metadata": {},
     "output_type": "display_data"
    }
   ],
   "source": [
    "plt.figure(figsize=(12,6))\n",
    "sns.distplot(np.log1p(non_zero))\n",
    "plt.title(\"Log Distribution of Non Zero Total Transactions\")\n",
    "plt.xlabel(\"Log - Total Transactions\")"
   ]
  },
  {
   "cell_type": "code",
   "execution_count": 45,
   "metadata": {},
   "outputs": [
    {
     "data": {
      "text/plain": [
       "channelGrouping                   object\n",
       "date                               int64\n",
       "fullVisitorId                     uint64\n",
       "socialEngagementType              object\n",
       "visitId                            int64\n",
       "visitNumber                        int64\n",
       "visitStartTime                     int64\n",
       "totals_bounces                   float64\n",
       "totals_hits                      float64\n",
       "totals_newVisits                 float64\n",
       "totals_pageviews                 float64\n",
       "totals_sessionQualityDim         float64\n",
       "totals_timeOnSite                float64\n",
       "totals_transactionRevenue        float64\n",
       "totals_transactions              float64\n",
       "totals_visits                      int64\n",
       "customDimensions_index            object\n",
       "customDimensions_value            object\n",
       "hits_dataSource                   object\n",
       "hits_eventInfo                    object\n",
       "hits_hitNumber                    object\n",
       "hits_hour                         object\n",
       "hits_isEntrance                   object\n",
       "hits_isExit                       object\n",
       "hits_isInteraction                object\n",
       "hits_minute                       object\n",
       "hits_referer                      object\n",
       "hits_time                         object\n",
       "hits_type                         object\n",
       "hits_product_customDimensions     object\n",
       "                                  ...   \n",
       "longitude                         object\n",
       "metro                             object\n",
       "networkDomain                     object\n",
       "networkLocation                   object\n",
       "region                            object\n",
       "subContinent                      object\n",
       "browser                           object\n",
       "browserSize                       object\n",
       "browserVersion                    object\n",
       "deviceCategory                    object\n",
       "flashVersion                      object\n",
       "isMobile                            bool\n",
       "language                          object\n",
       "mobileDeviceBranding              object\n",
       "mobileDeviceInfo                  object\n",
       "mobileDeviceMarketingName         object\n",
       "mobileDeviceModel                 object\n",
       "mobileInputSelector               object\n",
       "operatingSystem                   object\n",
       "operatingSystemVersion            object\n",
       "screenColors                      object\n",
       "screenResolution                  object\n",
       "adContent                         object\n",
       "adwordsClickInfo                  object\n",
       "campaign                          object\n",
       "isTrueDirect                      object\n",
       "keyword                           object\n",
       "medium                            object\n",
       "referralPath                      object\n",
       "source                            object\n",
       "Length: 127, dtype: object"
      ]
     },
     "execution_count": 45,
     "metadata": {},
     "output_type": "execute_result"
    }
   ],
   "source": [
    "litedata.dtypes"
   ]
  },
  {
   "cell_type": "code",
   "execution_count": 3,
   "metadata": {},
   "outputs": [],
   "source": [
    "litedata = pd.read_csv('litedata.csv')\n",
    "litedata=litedata.drop(['adContent','campaign','referralPath','networkDomain','visitStartTime'], axis=1)\n",
    "litedata.drop(litedata.columns[0], axis=1, inplace=True)"
   ]
  },
  {
   "cell_type": "markdown",
   "metadata": {},
   "source": [
    "## Use one hot encoder\n",
    "Based on the above analysis, we now know that data has categorical variables. Running a machine learning algorithm on categorical vairable is not a good idea. Better way to do this is to convert the categorical variables into factors which is easier to manage.\n",
    "Also, we are converting NAN values with 0."
   ]
  },
  {
   "cell_type": "code",
   "execution_count": 4,
   "metadata": {},
   "outputs": [],
   "source": [
    "# Converting Categorical variables to factors\n",
    "for col in litedata.columns:\n",
    "    if col in ['fullVisitorId']: continue\n",
    "    if litedata[col].dtypes == object or litedata[col].dtypes == bool:\n",
    "        litedata[col], indexer = pd.factorize(litedata[col]) "
   ]
  },
  {
   "cell_type": "code",
   "execution_count": 5,
   "metadata": {},
   "outputs": [],
   "source": [
    "# Convert NANs to 0\n",
    "litedata[\"totals_hits\"] = litedata[\"totals_hits\"].fillna(0)\n",
    "litedata[\"totals_pageviews\"] = litedata[\"totals_pageviews\"].fillna(0)\n",
    "litedata[\"totals_sessionQualityDim\"] = litedata[\"totals_sessionQualityDim\"].fillna(0)\n",
    "litedata[\"totals_timeOnSite\"] = litedata[\"totals_timeOnSite\"].fillna(0)\n",
    "litedata[\"totals_transactionRevenue\"] = litedata[\"totals_transactionRevenue\"].fillna(0)\n",
    "litedata[\"totals_transactions\"] = litedata[\"totals_transactions\"].fillna(0)"
   ]
  },
  {
   "cell_type": "markdown",
   "metadata": {},
   "source": [
    "### MinMaxScaler transforms a dataset of Vector rows, rescaling each feature to a specific range (often [0, 1]). Here we are scaling the numerical variables to 0 and 1."
   ]
  },
  {
   "cell_type": "code",
   "execution_count": 9,
   "metadata": {},
   "outputs": [],
   "source": [
    "# Scaling down the numerical variables in the data set\n",
    "\n",
    "from sklearn.preprocessing import MinMaxScaler\n",
    "min_max=MinMaxScaler()\n",
    "\n",
    "Xscaled=min_max.fit_transform(X)"
   ]
  },
  {
   "cell_type": "code",
   "execution_count": 11,
   "metadata": {},
   "outputs": [],
   "source": [
    "Xscaled= pd.DataFrame(Xscaled, columns = X.columns)"
   ]
  },
  {
   "cell_type": "code",
   "execution_count": 11,
   "metadata": {},
   "outputs": [
    {
     "data": {
      "text/html": [
       "<div>\n",
       "<style scoped>\n",
       "    .dataframe tbody tr th:only-of-type {\n",
       "        vertical-align: middle;\n",
       "    }\n",
       "\n",
       "    .dataframe tbody tr th {\n",
       "        vertical-align: top;\n",
       "    }\n",
       "\n",
       "    .dataframe thead th {\n",
       "        text-align: right;\n",
       "    }\n",
       "</style>\n",
       "<table border=\"1\" class=\"dataframe\">\n",
       "  <thead>\n",
       "    <tr style=\"text-align: right;\">\n",
       "      <th></th>\n",
       "      <th>channelGrouping</th>\n",
       "      <th>fullVisitorId</th>\n",
       "      <th>visitId</th>\n",
       "      <th>visitNumber</th>\n",
       "      <th>totals_hits</th>\n",
       "      <th>totals_pageviews</th>\n",
       "      <th>totals_sessionQualityDim</th>\n",
       "      <th>totals_timeOnSite</th>\n",
       "      <th>totals_transactionRevenue</th>\n",
       "      <th>totals_transactions</th>\n",
       "      <th>month</th>\n",
       "      <th>day</th>\n",
       "      <th>weekday</th>\n",
       "      <th>city</th>\n",
       "      <th>continent</th>\n",
       "      <th>country</th>\n",
       "      <th>metro</th>\n",
       "      <th>region</th>\n",
       "      <th>subContinent</th>\n",
       "      <th>browser</th>\n",
       "      <th>deviceCategory</th>\n",
       "      <th>isMobile</th>\n",
       "      <th>operatingSystem</th>\n",
       "      <th>keyword</th>\n",
       "      <th>medium</th>\n",
       "      <th>source</th>\n",
       "    </tr>\n",
       "  </thead>\n",
       "  <tbody>\n",
       "    <tr>\n",
       "      <th>0</th>\n",
       "      <td>0.000000</td>\n",
       "      <td>0.316253</td>\n",
       "      <td>0.693250</td>\n",
       "      <td>0.0000</td>\n",
       "      <td>0.000000</td>\n",
       "      <td>0.006061</td>\n",
       "      <td>0.010417</td>\n",
       "      <td>0.000000</td>\n",
       "      <td>0.0</td>\n",
       "      <td>0.0</td>\n",
       "      <td>0.9</td>\n",
       "      <td>0.5</td>\n",
       "      <td>0.0</td>\n",
       "      <td>0.000000</td>\n",
       "      <td>0.0</td>\n",
       "      <td>0.000000</td>\n",
       "      <td>0.000000</td>\n",
       "      <td>0.000000</td>\n",
       "      <td>0.000000</td>\n",
       "      <td>0.000000</td>\n",
       "      <td>0.0</td>\n",
       "      <td>0.0</td>\n",
       "      <td>0.000000</td>\n",
       "      <td>0.008929</td>\n",
       "      <td>0.0</td>\n",
       "      <td>0.000000</td>\n",
       "    </tr>\n",
       "    <tr>\n",
       "      <th>1</th>\n",
       "      <td>0.166667</td>\n",
       "      <td>0.893478</td>\n",
       "      <td>0.692816</td>\n",
       "      <td>0.0125</td>\n",
       "      <td>0.004386</td>\n",
       "      <td>0.012121</td>\n",
       "      <td>0.020833</td>\n",
       "      <td>0.005042</td>\n",
       "      <td>0.0</td>\n",
       "      <td>0.0</td>\n",
       "      <td>0.9</td>\n",
       "      <td>0.5</td>\n",
       "      <td>0.0</td>\n",
       "      <td>0.006211</td>\n",
       "      <td>0.2</td>\n",
       "      <td>0.006494</td>\n",
       "      <td>0.032258</td>\n",
       "      <td>0.008065</td>\n",
       "      <td>0.047619</td>\n",
       "      <td>0.041667</td>\n",
       "      <td>0.0</td>\n",
       "      <td>0.0</td>\n",
       "      <td>0.066667</td>\n",
       "      <td>0.000000</td>\n",
       "      <td>0.2</td>\n",
       "      <td>0.012987</td>\n",
       "    </tr>\n",
       "    <tr>\n",
       "      <th>2</th>\n",
       "      <td>0.333333</td>\n",
       "      <td>0.799305</td>\n",
       "      <td>0.693312</td>\n",
       "      <td>0.0000</td>\n",
       "      <td>0.004386</td>\n",
       "      <td>0.012121</td>\n",
       "      <td>0.010417</td>\n",
       "      <td>0.006843</td>\n",
       "      <td>0.0</td>\n",
       "      <td>0.0</td>\n",
       "      <td>0.9</td>\n",
       "      <td>0.5</td>\n",
       "      <td>0.0</td>\n",
       "      <td>0.000000</td>\n",
       "      <td>0.2</td>\n",
       "      <td>0.006494</td>\n",
       "      <td>0.000000</td>\n",
       "      <td>0.000000</td>\n",
       "      <td>0.047619</td>\n",
       "      <td>0.041667</td>\n",
       "      <td>0.5</td>\n",
       "      <td>1.0</td>\n",
       "      <td>0.133333</td>\n",
       "      <td>0.000000</td>\n",
       "      <td>0.4</td>\n",
       "      <td>0.025974</td>\n",
       "    </tr>\n",
       "    <tr>\n",
       "      <th>3</th>\n",
       "      <td>0.000000</td>\n",
       "      <td>0.907633</td>\n",
       "      <td>0.692690</td>\n",
       "      <td>0.0000</td>\n",
       "      <td>0.004386</td>\n",
       "      <td>0.012121</td>\n",
       "      <td>0.010417</td>\n",
       "      <td>0.000180</td>\n",
       "      <td>0.0</td>\n",
       "      <td>0.0</td>\n",
       "      <td>0.9</td>\n",
       "      <td>0.5</td>\n",
       "      <td>0.0</td>\n",
       "      <td>0.000000</td>\n",
       "      <td>0.4</td>\n",
       "      <td>0.012987</td>\n",
       "      <td>0.000000</td>\n",
       "      <td>0.000000</td>\n",
       "      <td>0.095238</td>\n",
       "      <td>0.041667</td>\n",
       "      <td>0.0</td>\n",
       "      <td>0.0</td>\n",
       "      <td>0.000000</td>\n",
       "      <td>0.017857</td>\n",
       "      <td>0.0</td>\n",
       "      <td>0.000000</td>\n",
       "    </tr>\n",
       "    <tr>\n",
       "      <th>4</th>\n",
       "      <td>0.000000</td>\n",
       "      <td>0.696117</td>\n",
       "      <td>0.693095</td>\n",
       "      <td>0.0000</td>\n",
       "      <td>0.004386</td>\n",
       "      <td>0.012121</td>\n",
       "      <td>0.010417</td>\n",
       "      <td>0.009364</td>\n",
       "      <td>0.0</td>\n",
       "      <td>0.0</td>\n",
       "      <td>0.9</td>\n",
       "      <td>0.5</td>\n",
       "      <td>0.0</td>\n",
       "      <td>0.000000</td>\n",
       "      <td>0.2</td>\n",
       "      <td>0.019481</td>\n",
       "      <td>0.000000</td>\n",
       "      <td>0.000000</td>\n",
       "      <td>0.142857</td>\n",
       "      <td>0.041667</td>\n",
       "      <td>0.0</td>\n",
       "      <td>0.0</td>\n",
       "      <td>0.000000</td>\n",
       "      <td>0.017857</td>\n",
       "      <td>0.0</td>\n",
       "      <td>0.000000</td>\n",
       "    </tr>\n",
       "  </tbody>\n",
       "</table>\n",
       "</div>"
      ],
      "text/plain": [
       "   channelGrouping  fullVisitorId   visitId  visitNumber  totals_hits  \\\n",
       "0         0.000000       0.316253  0.693250       0.0000     0.000000   \n",
       "1         0.166667       0.893478  0.692816       0.0125     0.004386   \n",
       "2         0.333333       0.799305  0.693312       0.0000     0.004386   \n",
       "3         0.000000       0.907633  0.692690       0.0000     0.004386   \n",
       "4         0.000000       0.696117  0.693095       0.0000     0.004386   \n",
       "\n",
       "   totals_pageviews  totals_sessionQualityDim  totals_timeOnSite  \\\n",
       "0          0.006061                  0.010417           0.000000   \n",
       "1          0.012121                  0.020833           0.005042   \n",
       "2          0.012121                  0.010417           0.006843   \n",
       "3          0.012121                  0.010417           0.000180   \n",
       "4          0.012121                  0.010417           0.009364   \n",
       "\n",
       "   totals_transactionRevenue  totals_transactions  month  day  weekday  \\\n",
       "0                        0.0                  0.0    0.9  0.5      0.0   \n",
       "1                        0.0                  0.0    0.9  0.5      0.0   \n",
       "2                        0.0                  0.0    0.9  0.5      0.0   \n",
       "3                        0.0                  0.0    0.9  0.5      0.0   \n",
       "4                        0.0                  0.0    0.9  0.5      0.0   \n",
       "\n",
       "       city  continent   country     metro    region  subContinent   browser  \\\n",
       "0  0.000000        0.0  0.000000  0.000000  0.000000      0.000000  0.000000   \n",
       "1  0.006211        0.2  0.006494  0.032258  0.008065      0.047619  0.041667   \n",
       "2  0.000000        0.2  0.006494  0.000000  0.000000      0.047619  0.041667   \n",
       "3  0.000000        0.4  0.012987  0.000000  0.000000      0.095238  0.041667   \n",
       "4  0.000000        0.2  0.019481  0.000000  0.000000      0.142857  0.041667   \n",
       "\n",
       "   deviceCategory  isMobile  operatingSystem   keyword  medium    source  \n",
       "0             0.0       0.0         0.000000  0.008929     0.0  0.000000  \n",
       "1             0.0       0.0         0.066667  0.000000     0.2  0.012987  \n",
       "2             0.5       1.0         0.133333  0.000000     0.4  0.025974  \n",
       "3             0.0       0.0         0.000000  0.017857     0.0  0.000000  \n",
       "4             0.0       0.0         0.000000  0.017857     0.0  0.000000  "
      ]
     },
     "execution_count": 11,
     "metadata": {},
     "output_type": "execute_result"
    }
   ],
   "source": [
    "pd.set_option('display.max_columns', 500)\n",
    "normal_data.head()\n"
   ]
  },
  {
   "cell_type": "markdown",
   "metadata": {},
   "source": [
    "### In order to run a model, we need X and Y variables. In below steps, we are splitting the data into X and Y variables."
   ]
  },
  {
   "cell_type": "code",
   "execution_count": 7,
   "metadata": {},
   "outputs": [
    {
     "data": {
      "text/plain": [
       "(20000, 25)"
      ]
     },
     "execution_count": 7,
     "metadata": {},
     "output_type": "execute_result"
    }
   ],
   "source": [
    "# Split dataframe into X and Y\n",
    "X = litedata.drop('totals_transactionRevenue', axis=1)\n",
    "X.shape"
   ]
  },
  {
   "cell_type": "code",
   "execution_count": 8,
   "metadata": {},
   "outputs": [
    {
     "data": {
      "text/plain": [
       "(20000,)"
      ]
     },
     "execution_count": 8,
     "metadata": {},
     "output_type": "execute_result"
    }
   ],
   "source": [
    "Y = litedata['totals_transactionRevenue']\n",
    "Y.shape"
   ]
  },
  {
   "cell_type": "markdown",
   "metadata": {},
   "source": [
    "### Here we are spliting the dataset to create the Testing and Training data."
   ]
  },
  {
   "cell_type": "code",
   "execution_count": 13,
   "metadata": {},
   "outputs": [],
   "source": [
    "# Creating test and train set\n",
    "Xtrain, Xtest, Ytrain, Ytest = train_test_split(X, Y, random_state=1, test_size=0.5)"
   ]
  },
  {
   "cell_type": "markdown",
   "metadata": {},
   "source": [
    "## Applying 2 Supervised Learning Models\n",
    "Here, I have choose linear regression and support vector regression models for supervised learning. Linear regression is chosen as it is simplest and most widely model. It is a good idea to test on a simple model first before proceeding to complicated models. Support Vector Machine can also be used as a regression method, maintaining all the main features that characterize the algorithm (maximal margin). The Support Vector Regression (SVR) uses the same principles as the SVM for classification, with only a few minor differences. First of all, because output is a real number it becomes very difficult to predict the information at hand, which has infinite possibilities. In the case of regression, a margin of tolerance (epsilon) is set in approximation to the SVM which would have already requested from the problem. But besides this fact, there is also a more complicated reason, the algorithm is more complicated therefore to be taken in consideration. However, the main idea is always the same: to minimize error, individualizing the hyperplane which maximizes the margin, keeping in mind that part of the error is tolerated"
   ]
  },
  {
   "cell_type": "markdown",
   "metadata": {},
   "source": [
    "## 1) Linear regression model and evalution of model"
   ]
  },
  {
   "cell_type": "code",
   "execution_count": 14,
   "metadata": {},
   "outputs": [],
   "source": [
    "from sklearn.linear_model import LinearRegression\n",
    "linear_model = LinearRegression(fit_intercept=True)\n",
    "linear_model.fit(Xtrain, Ytrain)\n",
    "linear_predict = linear_model.predict(Xtest)"
   ]
  },
  {
   "cell_type": "markdown",
   "metadata": {},
   "source": [
    "RMSE for linear model"
   ]
  },
  {
   "cell_type": "code",
   "execution_count": 15,
   "metadata": {},
   "outputs": [
    {
     "data": {
      "text/plain": [
       "18820080.10104537"
      ]
     },
     "execution_count": 15,
     "metadata": {},
     "output_type": "execute_result"
    }
   ],
   "source": [
    "from sklearn.metrics import mean_squared_error\n",
    "from math import sqrt\n",
    "linear_rms = sqrt(mean_squared_error(Ytest, linear_predict))\n",
    "linear_rms"
   ]
  },
  {
   "cell_type": "markdown",
   "metadata": {},
   "source": [
    "R square for linear model"
   ]
  },
  {
   "cell_type": "code",
   "execution_count": 16,
   "metadata": {},
   "outputs": [
    {
     "data": {
      "text/plain": [
       "1.9331117327991976e-06"
      ]
     },
     "execution_count": 16,
     "metadata": {},
     "output_type": "execute_result"
    }
   ],
   "source": [
    "#R square\n",
    "from sklearn.metrics import r2_score\n",
    "r2_score(Ytest, linear_predict)"
   ]
  },
  {
   "cell_type": "markdown",
   "metadata": {},
   "source": [
    "Cross validation score for linear model"
   ]
  },
  {
   "cell_type": "code",
   "execution_count": 17,
   "metadata": {},
   "outputs": [
    {
     "name": "stderr",
     "output_type": "stream",
     "text": [
      "C:\\Anaconda3\\lib\\site-packages\\sklearn\\cross_validation.py:41: DeprecationWarning:\n",
      "\n",
      "This module was deprecated in version 0.18 in favor of the model_selection module into which all the refactored classes and functions are moved. Also note that the interface of the new CV iterators are different from that of this module. This module will be removed in 0.20.\n",
      "\n"
     ]
    }
   ],
   "source": [
    "from sklearn.cross_validation import cross_val_score\n",
    "cross_score=cross_val_score(linear_model, X, Y, cv=5)"
   ]
  },
  {
   "cell_type": "code",
   "execution_count": 18,
   "metadata": {},
   "outputs": [
    {
     "data": {
      "text/plain": [
       "-0.0017600765601386349"
      ]
     },
     "execution_count": 18,
     "metadata": {},
     "output_type": "execute_result"
    }
   ],
   "source": [
    "cross_score.mean()"
   ]
  },
  {
   "cell_type": "markdown",
   "metadata": {},
   "source": [
    "Optimising Linear Model Using Grid search"
   ]
  },
  {
   "cell_type": "markdown",
   "metadata": {},
   "source": [
    "## 2) SVR- Support Vector Regression model and evaluation of model"
   ]
  },
  {
   "cell_type": "code",
   "execution_count": 19,
   "metadata": {},
   "outputs": [],
   "source": [
    "from sklearn.ensemble import RandomForestRegressor\n",
    "rf_model = RandomForestRegressor()\n",
    "rf_model.fit(Xtrain, Ytrain)\n",
    "rf_predict = rf_model.predict(Xtest)"
   ]
  },
  {
   "cell_type": "code",
   "execution_count": 20,
   "metadata": {},
   "outputs": [
    {
     "data": {
      "text/plain": [
       "16324766.437082646"
      ]
     },
     "execution_count": 20,
     "metadata": {},
     "output_type": "execute_result"
    }
   ],
   "source": [
    "#RMSE\n",
    "from sklearn.metrics import mean_squared_error\n",
    "from math import sqrt\n",
    "rf_rms = sqrt(mean_squared_error(Ytest, rf_predict))\n",
    "rf_rms"
   ]
  },
  {
   "cell_type": "code",
   "execution_count": 21,
   "metadata": {},
   "outputs": [
    {
     "data": {
      "text/plain": [
       "0.2475975894618948"
      ]
     },
     "execution_count": 21,
     "metadata": {},
     "output_type": "execute_result"
    }
   ],
   "source": [
    "#R square\n",
    "from sklearn.metrics import r2_score\n",
    "r2_score(Ytest, rf_predict)"
   ]
  },
  {
   "cell_type": "code",
   "execution_count": 27,
   "metadata": {},
   "outputs": [],
   "source": [
    "#Cross validation\n",
    "from sklearn.cross_validation import cross_val_score\n",
    "rf_cross_score=cross_val_score(rf_model, X, Y, cv=5)"
   ]
  },
  {
   "cell_type": "code",
   "execution_count": 28,
   "metadata": {},
   "outputs": [
    {
     "data": {
      "text/plain": [
       "0.21741260681663915"
      ]
     },
     "execution_count": 28,
     "metadata": {},
     "output_type": "execute_result"
    }
   ],
   "source": [
    "rf_cross_score.mean()"
   ]
  },
  {
   "cell_type": "markdown",
   "metadata": {},
   "source": [
    "SVR is a useful and flexible technique, helping the user to deal with the limitations pertaining to distributional properties of underlying variables, geometry of the data and the common problem of model overfitting. The choice of kernel function is critical for SVR modeling. We can observe that SVR is superior to LM as a prediction method. \n",
    "\n",
    "We also compute Root Mean Square Error (RMSE) for both SLR and LM models to evaluate performance of the models.\n",
    "\n",
    "Further, we explain the idea of tuning SVR model. Tuning of SVR model can be performed as the technique provides flexibility with respect to maximum error and penalty cost. Tuning the model is extremely important as it optimizes the parameters for best prediction. As expected, the SVR model provides the best prediction."
   ]
  },
  {
   "cell_type": "markdown",
   "metadata": {},
   "source": [
    "## Applying 2 Dimentionality Reduction techniques to the dataset"
   ]
  },
  {
   "cell_type": "markdown",
   "metadata": {},
   "source": [
    "## 1) PCA\n",
    "Principal component analysis (PCA) is a statistical procedure that uses an orthogonal transformation to convert a set of observations of possibly correlated variables (entities each of which takes on various numerical values) into a set of values of linearly uncorrelated variables called principal components. If there are {\\displaystyle n} n observations with {\\displaystyle p} p variables, then the number of distinct principal components is {\\displaystyle \\min(n-1,p)} {\\displaystyle \\min(n-1,p)}. This transformation is defined in such a way that the first principal component has the largest possible variance (that is, accounts for as much of the variability in the data as possible), and each succeeding component in turn has the highest variance possible under the constraint that it is orthogonal to the preceding components. The resulting vectors (each being a linear combination of the variables and containing n observations) are an uncorrelated orthogonal basis set. PCA is sensitive to the relative scaling of the original variables."
   ]
  },
  {
   "cell_type": "code",
   "execution_count": 29,
   "metadata": {},
   "outputs": [],
   "source": [
    "from sklearn.decomposition import PCA\n",
    "pca_model = PCA(n_components=5)         \n",
    "pca_model.fit(Xtrain)  \n",
    "pca_model.fit(Xtest)  \n",
    "Xtrain3D = pca_model.transform(Xtrain)                    \n",
    "Xtest3D = pca_model.transform(Xtest)"
   ]
  },
  {
   "cell_type": "markdown",
   "metadata": {},
   "source": [
    "## 2) Isomap\n",
    "Isomap is one representative of isometric mapping methods, and extends metric multidimensional scaling (MDS) by incorporating the geodesic distances imposed by a weighted graph. To be specific, the classical scaling of metric MDS performs low-dimensional embedding based on the pairwise distance between data points, which is generally measured using straight-line Euclidean distance. Isomap is distinguished by its use of the geodesic distance induced by a neighborhood graph embedded in the classical scaling. This is done to incorporate manifold structure in the resulting embedding. Isomap defines the geodesic distance to be the sum of edge weights along the shortest path between two nodes (computed using Dijkstra's algorithm, for example). The top n eigenvectors of the geodesic distance matrix, represent the coordinates in the new n-dimensional Euclidean space."
   ]
  },
  {
   "cell_type": "code",
   "execution_count": 30,
   "metadata": {},
   "outputs": [],
   "source": [
    "from sklearn.manifold import Isomap\n",
    "iso = Isomap(n_components=5)\n",
    "iso.fit(Xtrain)\n",
    "Xtrainprojected = iso.transform(Xtrain)\n",
    "iso.fit(Xtest)\n",
    "Xtestprojected = iso.transform(Xtest)"
   ]
  },
  {
   "cell_type": "markdown",
   "metadata": {},
   "source": [
    "## Applying 2 Unsupervised Learning Models - Clustering"
   ]
  },
  {
   "cell_type": "markdown",
   "metadata": {},
   "source": [
    "## 1) K means\n",
    "k-means clustering is a method of vector quantization, originally from signal processing, that is popular for cluster analysis in data mining. k-means clustering aims to partition n observations into k clusters in which each observation belongs to the cluster with the nearest mean, serving as a prototype of the cluster. This results in a partitioning of the data space into Voronoi cells.\n",
    "\n",
    "The algorithm is often presented as assigning objects to the nearest cluster by distance. Using a different distance function other than (squared) Euclidean distance may stop the algorithm from converging. Various modifications of k-means such as spherical k-means and k-medoids have been proposed to allow using other distance measures."
   ]
  },
  {
   "cell_type": "code",
   "execution_count": 46,
   "metadata": {},
   "outputs": [],
   "source": [
    "from sklearn.cluster import KMeans\n",
    "kmeans = KMeans(n_clusters=5)\n",
    "kmeans.fit(X)\n",
    "y_kmeans = kmeans.predict(X)"
   ]
  },
  {
   "cell_type": "code",
   "execution_count": 47,
   "metadata": {},
   "outputs": [
    {
     "data": {
      "image/png": "[encoded data removed]",
      "text/plain": [
       "<matplotlib.figure.Figure at 0x1c323202860>"
      ]
     },
     "metadata": {},
     "output_type": "display_data"
    }
   ],
   "source": [
    "centers = kmeans.cluster_centers_\n",
    "plt.scatter(centers[:, 0], centers[:, 1], c='black', s=200, alpha=0.5);"
   ]
  },
  {
   "cell_type": "markdown",
   "metadata": {},
   "source": [
    "## 2) Spectral clustering\n",
    "Spectral clustering is a family of methods to find K clusters using the eigenvectors\n",
    "of a matrix. Typically, this matrix is derived from a set of pairwise similarities Sij\n",
    "between the points to be clustered. This task is called similarity based clustering,\n",
    "graph clustering, or clustering of diadic data.\n",
    "One remarkable advantage of spectral clustering is its ability to cluster “points”\n",
    "which are not necessarily vectors, and to use for this a“similarity”, which is less restrictive\n",
    "than a distance. A second advantage of spectral clustering is its flexibility; it can\n",
    "find clusters of arbitrary shapes, under realistic separations.\n"
   ]
  },
  {
   "cell_type": "code",
   "execution_count": 53,
   "metadata": {},
   "outputs": [
    {
     "name": "stderr",
     "output_type": "stream",
     "text": [
      "C:\\Anaconda3\\lib\\site-packages\\sklearn\\manifold\\spectral_embedding_.py:234: UserWarning:\n",
      "\n",
      "Graph is not fully connected, spectral embedding may not work as expected.\n",
      "\n"
     ]
    }
   ],
   "source": [
    "from sklearn.cluster import SpectralClustering\n",
    "SCmodel = SpectralClustering(n_clusters=2, affinity='nearest_neighbors',\n",
    "                           assign_labels='kmeans')\n",
    "labels = SCmodel.fit_predict(X)\n"
   ]
  }
 ],
 "metadata": {
  "kernelspec": {
   "display_name": "Python 3",
   "language": "python",
   "name": "python3"
  },
  "language_info": {
   "codemirror_mode": {
    "name": "ipython",
    "version": 3
   },
   "file_extension": ".py",
   "mimetype": "text/x-python",
   "name": "python",
   "nbconvert_exporter": "python",
   "pygments_lexer": "ipython3",
   "version": "3.6.5"
  }
 },
 "nbformat": 4,
 "nbformat_minor": 2
}
